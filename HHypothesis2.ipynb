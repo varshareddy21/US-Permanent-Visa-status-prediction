{
 "cells": [
  {
   "cell_type": "markdown",
   "metadata": {},
   "source": [
    "after pre processing we get dataframe shape as (107723, 4) and independent variable applied for this model are cols=['Duration','country_of_citizen','class_of_admission','case_status'] and duration is the new column which got by subtracting the received date and decision date"
   ]
  },
  {
   "cell_type": "markdown",
   "metadata": {},
   "source": [
    "import pandas as pd"
   ]
  },
  {
   "cell_type": "code",
   "execution_count": 1,
   "metadata": {},
   "outputs": [],
   "source": [
    "import pandas as pd"
   ]
  },
  {
   "cell_type": "code",
   "execution_count": 2,
   "metadata": {},
   "outputs": [],
   "source": [
    "df=pd.read_excel(\"F:Data Science/datasets/finaldata.xlsx\")"
   ]
  },
  {
   "cell_type": "code",
   "execution_count": 3,
   "metadata": {},
   "outputs": [
    {
     "data": {
      "text/plain": [
       "Index(['application_type', 'case_received_date', 'case_status',\n",
       "       'class_of_admission', 'country_of_citizen', 'decision_date',\n",
       "       'employer_country', 'employer_num_employees', 'employer_state',\n",
       "       'foreign_worker_info_alt_edu_experience', 'foreign_worker_info_city',\n",
       "       'foreign_worker_info_education', 'foreign_worker_info_major',\n",
       "       'foreign_worker_info_req_experience', 'job_info_alt_combo_ed',\n",
       "       'job_info_alt_combo_ed_exp', 'job_info_education',\n",
       "       'job_info_education_other', 'job_info_experience',\n",
       "       'job_info_experience_num_months', 'job_info_foreign_ed',\n",
       "       'job_info_work_state', 'pw_level_9089', 'wage_offer_from_9089',\n",
       "       'wage_offer_to_9089', 'wage_offer_unit_of_pay_9089',\n",
       "       'wage_offered_from_9089', 'wage_offered_to_9089',\n",
       "       'foreign_worker_info_rel_occup_exps',\n",
       "       'foreign_worker_info_alt_edu_experiences'],\n",
       "      dtype='object')"
      ]
     },
     "execution_count": 3,
     "metadata": {},
     "output_type": "execute_result"
    }
   ],
   "source": [
    "df.columns\n"
   ]
  },
  {
   "cell_type": "code",
   "execution_count": 4,
   "metadata": {},
   "outputs": [],
   "source": [
    "df['case_received_date'] = pd.to_datetime(df['case_received_date'])\n",
    "df['decision_date'] = pd.to_datetime(df['decision_date'])\n",
    "\n",
    "df['Duration'] = (df['decision_date'] - df['case_received_date']).dt.days"
   ]
  },
  {
   "cell_type": "code",
   "execution_count": 5,
   "metadata": {},
   "outputs": [],
   "source": [
    "cols=['Duration','country_of_citizen','class_of_admission','case_status']"
   ]
  },
  {
   "cell_type": "code",
   "execution_count": 6,
   "metadata": {},
   "outputs": [],
   "source": [
    "dd=df[cols]"
   ]
  },
  {
   "cell_type": "code",
   "execution_count": 7,
   "metadata": {},
   "outputs": [
    {
     "data": {
      "text/html": [
       "<div>\n",
       "<style scoped>\n",
       "    .dataframe tbody tr th:only-of-type {\n",
       "        vertical-align: middle;\n",
       "    }\n",
       "\n",
       "    .dataframe tbody tr th {\n",
       "        vertical-align: top;\n",
       "    }\n",
       "\n",
       "    .dataframe thead th {\n",
       "        text-align: right;\n",
       "    }\n",
       "</style>\n",
       "<table border=\"1\" class=\"dataframe\">\n",
       "  <thead>\n",
       "    <tr style=\"text-align: right;\">\n",
       "      <th></th>\n",
       "      <th>Duration</th>\n",
       "      <th>country_of_citizen</th>\n",
       "      <th>class_of_admission</th>\n",
       "      <th>case_status</th>\n",
       "    </tr>\n",
       "  </thead>\n",
       "  <tbody>\n",
       "    <tr>\n",
       "      <th>135269</th>\n",
       "      <td>556</td>\n",
       "      <td>INDIA</td>\n",
       "      <td>H-1B</td>\n",
       "      <td>Certified</td>\n",
       "    </tr>\n",
       "    <tr>\n",
       "      <th>135271</th>\n",
       "      <td>323</td>\n",
       "      <td>GERMANY</td>\n",
       "      <td>H-1B</td>\n",
       "      <td>Denied</td>\n",
       "    </tr>\n",
       "    <tr>\n",
       "      <th>135272</th>\n",
       "      <td>559</td>\n",
       "      <td>SOUTH KOREA</td>\n",
       "      <td>E-2</td>\n",
       "      <td>Certified</td>\n",
       "    </tr>\n",
       "    <tr>\n",
       "      <th>135281</th>\n",
       "      <td>561</td>\n",
       "      <td>BRAZIL</td>\n",
       "      <td>H-1B</td>\n",
       "      <td>Certified</td>\n",
       "    </tr>\n",
       "    <tr>\n",
       "      <th>135285</th>\n",
       "      <td>544</td>\n",
       "      <td>BELARUS</td>\n",
       "      <td>L-1</td>\n",
       "      <td>Certified</td>\n",
       "    </tr>\n",
       "  </tbody>\n",
       "</table>\n",
       "</div>"
      ],
      "text/plain": [
       "        Duration country_of_citizen class_of_admission case_status\n",
       "135269       556              INDIA               H-1B   Certified\n",
       "135271       323            GERMANY               H-1B      Denied\n",
       "135272       559        SOUTH KOREA                E-2   Certified\n",
       "135281       561             BRAZIL               H-1B   Certified\n",
       "135285       544            BELARUS                L-1   Certified"
      ]
     },
     "execution_count": 7,
     "metadata": {},
     "output_type": "execute_result"
    }
   ],
   "source": [
    "dd.head()"
   ]
  },
  {
   "cell_type": "code",
   "execution_count": 10,
   "metadata": {},
   "outputs": [
    {
     "data": {
      "text/plain": [
       "(107723, 4)"
      ]
     },
     "execution_count": 10,
     "metadata": {},
     "output_type": "execute_result"
    }
   ],
   "source": [
    "dd.shape"
   ]
  },
  {
   "cell_type": "code",
   "execution_count": null,
   "metadata": {},
   "outputs": [],
   "source": []
  },
  {
   "cell_type": "code",
   "execution_count": 8,
   "metadata": {},
   "outputs": [],
   "source": [
    "dummy=pd.get_dummies(dd,'country_of_citizen','class_of_admission')"
   ]
  },
  {
   "cell_type": "code",
   "execution_count": 14,
   "metadata": {},
   "outputs": [
    {
     "data": {
      "text/html": [
       "<div>\n",
       "<style scoped>\n",
       "    .dataframe tbody tr th:only-of-type {\n",
       "        vertical-align: middle;\n",
       "    }\n",
       "\n",
       "    .dataframe tbody tr th {\n",
       "        vertical-align: top;\n",
       "    }\n",
       "\n",
       "    .dataframe thead th {\n",
       "        text-align: right;\n",
       "    }\n",
       "</style>\n",
       "<table border=\"1\" class=\"dataframe\">\n",
       "  <thead>\n",
       "    <tr style=\"text-align: right;\">\n",
       "      <th></th>\n",
       "      <th>Duration</th>\n",
       "      <th>country_of_citizenclass_of_admissionAFGHANISTAN</th>\n",
       "      <th>country_of_citizenclass_of_admissionALBANIA</th>\n",
       "      <th>country_of_citizenclass_of_admissionALGERIA</th>\n",
       "      <th>country_of_citizenclass_of_admissionANGOLA</th>\n",
       "      <th>country_of_citizenclass_of_admissionANTIGUA AND BARBUDA</th>\n",
       "      <th>country_of_citizenclass_of_admissionARGENTINA</th>\n",
       "      <th>country_of_citizenclass_of_admissionARMENIA</th>\n",
       "      <th>country_of_citizenclass_of_admissionAUSTRALIA</th>\n",
       "      <th>country_of_citizenclass_of_admissionAUSTRIA</th>\n",
       "      <th>...</th>\n",
       "      <th>country_of_citizenclass_of_admissionR-1</th>\n",
       "      <th>country_of_citizenclass_of_admissionR-2</th>\n",
       "      <th>country_of_citizenclass_of_admissionTD</th>\n",
       "      <th>country_of_citizenclass_of_admissionTN</th>\n",
       "      <th>country_of_citizenclass_of_admissionTPS</th>\n",
       "      <th>country_of_citizenclass_of_admissionV-2</th>\n",
       "      <th>country_of_citizenclass_of_admissionVWB</th>\n",
       "      <th>country_of_citizenclass_of_admissionVWT</th>\n",
       "      <th>country_of_citizenclass_of_admissionCertified</th>\n",
       "      <th>country_of_citizenclass_of_admissionDenied</th>\n",
       "    </tr>\n",
       "  </thead>\n",
       "  <tbody>\n",
       "    <tr>\n",
       "      <th>135269</th>\n",
       "      <td>556</td>\n",
       "      <td>0</td>\n",
       "      <td>0</td>\n",
       "      <td>0</td>\n",
       "      <td>0</td>\n",
       "      <td>0</td>\n",
       "      <td>0</td>\n",
       "      <td>0</td>\n",
       "      <td>0</td>\n",
       "      <td>0</td>\n",
       "      <td>...</td>\n",
       "      <td>0</td>\n",
       "      <td>0</td>\n",
       "      <td>0</td>\n",
       "      <td>0</td>\n",
       "      <td>0</td>\n",
       "      <td>0</td>\n",
       "      <td>0</td>\n",
       "      <td>0</td>\n",
       "      <td>1</td>\n",
       "      <td>0</td>\n",
       "    </tr>\n",
       "    <tr>\n",
       "      <th>135271</th>\n",
       "      <td>323</td>\n",
       "      <td>0</td>\n",
       "      <td>0</td>\n",
       "      <td>0</td>\n",
       "      <td>0</td>\n",
       "      <td>0</td>\n",
       "      <td>0</td>\n",
       "      <td>0</td>\n",
       "      <td>0</td>\n",
       "      <td>0</td>\n",
       "      <td>...</td>\n",
       "      <td>0</td>\n",
       "      <td>0</td>\n",
       "      <td>0</td>\n",
       "      <td>0</td>\n",
       "      <td>0</td>\n",
       "      <td>0</td>\n",
       "      <td>0</td>\n",
       "      <td>0</td>\n",
       "      <td>0</td>\n",
       "      <td>1</td>\n",
       "    </tr>\n",
       "    <tr>\n",
       "      <th>135272</th>\n",
       "      <td>559</td>\n",
       "      <td>0</td>\n",
       "      <td>0</td>\n",
       "      <td>0</td>\n",
       "      <td>0</td>\n",
       "      <td>0</td>\n",
       "      <td>0</td>\n",
       "      <td>0</td>\n",
       "      <td>0</td>\n",
       "      <td>0</td>\n",
       "      <td>...</td>\n",
       "      <td>0</td>\n",
       "      <td>0</td>\n",
       "      <td>0</td>\n",
       "      <td>0</td>\n",
       "      <td>0</td>\n",
       "      <td>0</td>\n",
       "      <td>0</td>\n",
       "      <td>0</td>\n",
       "      <td>1</td>\n",
       "      <td>0</td>\n",
       "    </tr>\n",
       "    <tr>\n",
       "      <th>135281</th>\n",
       "      <td>561</td>\n",
       "      <td>0</td>\n",
       "      <td>0</td>\n",
       "      <td>0</td>\n",
       "      <td>0</td>\n",
       "      <td>0</td>\n",
       "      <td>0</td>\n",
       "      <td>0</td>\n",
       "      <td>0</td>\n",
       "      <td>0</td>\n",
       "      <td>...</td>\n",
       "      <td>0</td>\n",
       "      <td>0</td>\n",
       "      <td>0</td>\n",
       "      <td>0</td>\n",
       "      <td>0</td>\n",
       "      <td>0</td>\n",
       "      <td>0</td>\n",
       "      <td>0</td>\n",
       "      <td>1</td>\n",
       "      <td>0</td>\n",
       "    </tr>\n",
       "    <tr>\n",
       "      <th>135285</th>\n",
       "      <td>544</td>\n",
       "      <td>0</td>\n",
       "      <td>0</td>\n",
       "      <td>0</td>\n",
       "      <td>0</td>\n",
       "      <td>0</td>\n",
       "      <td>0</td>\n",
       "      <td>0</td>\n",
       "      <td>0</td>\n",
       "      <td>0</td>\n",
       "      <td>...</td>\n",
       "      <td>0</td>\n",
       "      <td>0</td>\n",
       "      <td>0</td>\n",
       "      <td>0</td>\n",
       "      <td>0</td>\n",
       "      <td>0</td>\n",
       "      <td>0</td>\n",
       "      <td>0</td>\n",
       "      <td>1</td>\n",
       "      <td>0</td>\n",
       "    </tr>\n",
       "  </tbody>\n",
       "</table>\n",
       "<p>5 rows × 224 columns</p>\n",
       "</div>"
      ],
      "text/plain": [
       "        Duration  country_of_citizenclass_of_admissionAFGHANISTAN  \\\n",
       "135269       556                                                0   \n",
       "135271       323                                                0   \n",
       "135272       559                                                0   \n",
       "135281       561                                                0   \n",
       "135285       544                                                0   \n",
       "\n",
       "        country_of_citizenclass_of_admissionALBANIA  \\\n",
       "135269                                            0   \n",
       "135271                                            0   \n",
       "135272                                            0   \n",
       "135281                                            0   \n",
       "135285                                            0   \n",
       "\n",
       "        country_of_citizenclass_of_admissionALGERIA  \\\n",
       "135269                                            0   \n",
       "135271                                            0   \n",
       "135272                                            0   \n",
       "135281                                            0   \n",
       "135285                                            0   \n",
       "\n",
       "        country_of_citizenclass_of_admissionANGOLA  \\\n",
       "135269                                           0   \n",
       "135271                                           0   \n",
       "135272                                           0   \n",
       "135281                                           0   \n",
       "135285                                           0   \n",
       "\n",
       "        country_of_citizenclass_of_admissionANTIGUA AND BARBUDA  \\\n",
       "135269                                                  0         \n",
       "135271                                                  0         \n",
       "135272                                                  0         \n",
       "135281                                                  0         \n",
       "135285                                                  0         \n",
       "\n",
       "        country_of_citizenclass_of_admissionARGENTINA  \\\n",
       "135269                                              0   \n",
       "135271                                              0   \n",
       "135272                                              0   \n",
       "135281                                              0   \n",
       "135285                                              0   \n",
       "\n",
       "        country_of_citizenclass_of_admissionARMENIA  \\\n",
       "135269                                            0   \n",
       "135271                                            0   \n",
       "135272                                            0   \n",
       "135281                                            0   \n",
       "135285                                            0   \n",
       "\n",
       "        country_of_citizenclass_of_admissionAUSTRALIA  \\\n",
       "135269                                              0   \n",
       "135271                                              0   \n",
       "135272                                              0   \n",
       "135281                                              0   \n",
       "135285                                              0   \n",
       "\n",
       "        country_of_citizenclass_of_admissionAUSTRIA  \\\n",
       "135269                                            0   \n",
       "135271                                            0   \n",
       "135272                                            0   \n",
       "135281                                            0   \n",
       "135285                                            0   \n",
       "\n",
       "                           ...                      \\\n",
       "135269                     ...                       \n",
       "135271                     ...                       \n",
       "135272                     ...                       \n",
       "135281                     ...                       \n",
       "135285                     ...                       \n",
       "\n",
       "        country_of_citizenclass_of_admissionR-1  \\\n",
       "135269                                        0   \n",
       "135271                                        0   \n",
       "135272                                        0   \n",
       "135281                                        0   \n",
       "135285                                        0   \n",
       "\n",
       "        country_of_citizenclass_of_admissionR-2  \\\n",
       "135269                                        0   \n",
       "135271                                        0   \n",
       "135272                                        0   \n",
       "135281                                        0   \n",
       "135285                                        0   \n",
       "\n",
       "        country_of_citizenclass_of_admissionTD  \\\n",
       "135269                                       0   \n",
       "135271                                       0   \n",
       "135272                                       0   \n",
       "135281                                       0   \n",
       "135285                                       0   \n",
       "\n",
       "        country_of_citizenclass_of_admissionTN  \\\n",
       "135269                                       0   \n",
       "135271                                       0   \n",
       "135272                                       0   \n",
       "135281                                       0   \n",
       "135285                                       0   \n",
       "\n",
       "        country_of_citizenclass_of_admissionTPS  \\\n",
       "135269                                        0   \n",
       "135271                                        0   \n",
       "135272                                        0   \n",
       "135281                                        0   \n",
       "135285                                        0   \n",
       "\n",
       "        country_of_citizenclass_of_admissionV-2  \\\n",
       "135269                                        0   \n",
       "135271                                        0   \n",
       "135272                                        0   \n",
       "135281                                        0   \n",
       "135285                                        0   \n",
       "\n",
       "        country_of_citizenclass_of_admissionVWB  \\\n",
       "135269                                        0   \n",
       "135271                                        0   \n",
       "135272                                        0   \n",
       "135281                                        0   \n",
       "135285                                        0   \n",
       "\n",
       "        country_of_citizenclass_of_admissionVWT  \\\n",
       "135269                                        0   \n",
       "135271                                        0   \n",
       "135272                                        0   \n",
       "135281                                        0   \n",
       "135285                                        0   \n",
       "\n",
       "        country_of_citizenclass_of_admissionCertified  \\\n",
       "135269                                              1   \n",
       "135271                                              0   \n",
       "135272                                              1   \n",
       "135281                                              1   \n",
       "135285                                              1   \n",
       "\n",
       "        country_of_citizenclass_of_admissionDenied  \n",
       "135269                                           0  \n",
       "135271                                           1  \n",
       "135272                                           0  \n",
       "135281                                           0  \n",
       "135285                                           0  \n",
       "\n",
       "[5 rows x 224 columns]"
      ]
     },
     "execution_count": 14,
     "metadata": {},
     "output_type": "execute_result"
    }
   ],
   "source": [
    "dummy.head()"
   ]
  },
  {
   "cell_type": "code",
   "execution_count": 9,
   "metadata": {},
   "outputs": [
    {
     "data": {
      "text/plain": [
       "Index(['Duration', 'country_of_citizenclass_of_admissionAFGHANISTAN',\n",
       "       'country_of_citizenclass_of_admissionALBANIA',\n",
       "       'country_of_citizenclass_of_admissionALGERIA',\n",
       "       'country_of_citizenclass_of_admissionANGOLA',\n",
       "       'country_of_citizenclass_of_admissionANTIGUA AND BARBUDA',\n",
       "       'country_of_citizenclass_of_admissionARGENTINA',\n",
       "       'country_of_citizenclass_of_admissionARMENIA',\n",
       "       'country_of_citizenclass_of_admissionAUSTRALIA',\n",
       "       'country_of_citizenclass_of_admissionAUSTRIA',\n",
       "       ...\n",
       "       'country_of_citizenclass_of_admissionR-1',\n",
       "       'country_of_citizenclass_of_admissionR-2',\n",
       "       'country_of_citizenclass_of_admissionTD',\n",
       "       'country_of_citizenclass_of_admissionTN',\n",
       "       'country_of_citizenclass_of_admissionTPS',\n",
       "       'country_of_citizenclass_of_admissionV-2',\n",
       "       'country_of_citizenclass_of_admissionVWB',\n",
       "       'country_of_citizenclass_of_admissionVWT',\n",
       "       'country_of_citizenclass_of_admissionCertified',\n",
       "       'country_of_citizenclass_of_admissionDenied'],\n",
       "      dtype='object', length=224)"
      ]
     },
     "execution_count": 9,
     "metadata": {},
     "output_type": "execute_result"
    }
   ],
   "source": [
    "dummy.columns"
   ]
  },
  {
   "cell_type": "code",
   "execution_count": 9,
   "metadata": {},
   "outputs": [],
   "source": [
    "dummy.drop(['country_of_citizenclass_of_admissionDenied','country_of_citizenclass_of_admissionCertified','Duration', 'country_of_citizenclass_of_admissionAFGHANISTAN','country_of_citizenclass_of_admissionVWT',\n",
    "       'country_of_citizenclass_of_admissionCertified'],axis=1,inplace=True)"
   ]
  },
  {
   "cell_type": "code",
   "execution_count": 10,
   "metadata": {},
   "outputs": [],
   "source": [
    "e=pd.concat([dd,dummy],axis=1)"
   ]
  },
  {
   "cell_type": "code",
   "execution_count": 11,
   "metadata": {},
   "outputs": [
    {
     "data": {
      "text/html": [
       "<div>\n",
       "<style scoped>\n",
       "    .dataframe tbody tr th:only-of-type {\n",
       "        vertical-align: middle;\n",
       "    }\n",
       "\n",
       "    .dataframe tbody tr th {\n",
       "        vertical-align: top;\n",
       "    }\n",
       "\n",
       "    .dataframe thead th {\n",
       "        text-align: right;\n",
       "    }\n",
       "</style>\n",
       "<table border=\"1\" class=\"dataframe\">\n",
       "  <thead>\n",
       "    <tr style=\"text-align: right;\">\n",
       "      <th></th>\n",
       "      <th>Duration</th>\n",
       "      <th>country_of_citizen</th>\n",
       "      <th>class_of_admission</th>\n",
       "      <th>case_status</th>\n",
       "      <th>country_of_citizenclass_of_admissionALBANIA</th>\n",
       "      <th>country_of_citizenclass_of_admissionALGERIA</th>\n",
       "      <th>country_of_citizenclass_of_admissionANGOLA</th>\n",
       "      <th>country_of_citizenclass_of_admissionANTIGUA AND BARBUDA</th>\n",
       "      <th>country_of_citizenclass_of_admissionARGENTINA</th>\n",
       "      <th>country_of_citizenclass_of_admissionARMENIA</th>\n",
       "      <th>...</th>\n",
       "      <th>country_of_citizenclass_of_admissionP-4</th>\n",
       "      <th>country_of_citizenclass_of_admissionParolee</th>\n",
       "      <th>country_of_citizenclass_of_admissionQ</th>\n",
       "      <th>country_of_citizenclass_of_admissionR-1</th>\n",
       "      <th>country_of_citizenclass_of_admissionR-2</th>\n",
       "      <th>country_of_citizenclass_of_admissionTD</th>\n",
       "      <th>country_of_citizenclass_of_admissionTN</th>\n",
       "      <th>country_of_citizenclass_of_admissionTPS</th>\n",
       "      <th>country_of_citizenclass_of_admissionV-2</th>\n",
       "      <th>country_of_citizenclass_of_admissionVWB</th>\n",
       "    </tr>\n",
       "  </thead>\n",
       "  <tbody>\n",
       "    <tr>\n",
       "      <th>135269</th>\n",
       "      <td>556</td>\n",
       "      <td>INDIA</td>\n",
       "      <td>H-1B</td>\n",
       "      <td>Certified</td>\n",
       "      <td>0</td>\n",
       "      <td>0</td>\n",
       "      <td>0</td>\n",
       "      <td>0</td>\n",
       "      <td>0</td>\n",
       "      <td>0</td>\n",
       "      <td>...</td>\n",
       "      <td>0</td>\n",
       "      <td>0</td>\n",
       "      <td>0</td>\n",
       "      <td>0</td>\n",
       "      <td>0</td>\n",
       "      <td>0</td>\n",
       "      <td>0</td>\n",
       "      <td>0</td>\n",
       "      <td>0</td>\n",
       "      <td>0</td>\n",
       "    </tr>\n",
       "    <tr>\n",
       "      <th>135271</th>\n",
       "      <td>323</td>\n",
       "      <td>GERMANY</td>\n",
       "      <td>H-1B</td>\n",
       "      <td>Denied</td>\n",
       "      <td>0</td>\n",
       "      <td>0</td>\n",
       "      <td>0</td>\n",
       "      <td>0</td>\n",
       "      <td>0</td>\n",
       "      <td>0</td>\n",
       "      <td>...</td>\n",
       "      <td>0</td>\n",
       "      <td>0</td>\n",
       "      <td>0</td>\n",
       "      <td>0</td>\n",
       "      <td>0</td>\n",
       "      <td>0</td>\n",
       "      <td>0</td>\n",
       "      <td>0</td>\n",
       "      <td>0</td>\n",
       "      <td>0</td>\n",
       "    </tr>\n",
       "    <tr>\n",
       "      <th>135272</th>\n",
       "      <td>559</td>\n",
       "      <td>SOUTH KOREA</td>\n",
       "      <td>E-2</td>\n",
       "      <td>Certified</td>\n",
       "      <td>0</td>\n",
       "      <td>0</td>\n",
       "      <td>0</td>\n",
       "      <td>0</td>\n",
       "      <td>0</td>\n",
       "      <td>0</td>\n",
       "      <td>...</td>\n",
       "      <td>0</td>\n",
       "      <td>0</td>\n",
       "      <td>0</td>\n",
       "      <td>0</td>\n",
       "      <td>0</td>\n",
       "      <td>0</td>\n",
       "      <td>0</td>\n",
       "      <td>0</td>\n",
       "      <td>0</td>\n",
       "      <td>0</td>\n",
       "    </tr>\n",
       "    <tr>\n",
       "      <th>135281</th>\n",
       "      <td>561</td>\n",
       "      <td>BRAZIL</td>\n",
       "      <td>H-1B</td>\n",
       "      <td>Certified</td>\n",
       "      <td>0</td>\n",
       "      <td>0</td>\n",
       "      <td>0</td>\n",
       "      <td>0</td>\n",
       "      <td>0</td>\n",
       "      <td>0</td>\n",
       "      <td>...</td>\n",
       "      <td>0</td>\n",
       "      <td>0</td>\n",
       "      <td>0</td>\n",
       "      <td>0</td>\n",
       "      <td>0</td>\n",
       "      <td>0</td>\n",
       "      <td>0</td>\n",
       "      <td>0</td>\n",
       "      <td>0</td>\n",
       "      <td>0</td>\n",
       "    </tr>\n",
       "    <tr>\n",
       "      <th>135285</th>\n",
       "      <td>544</td>\n",
       "      <td>BELARUS</td>\n",
       "      <td>L-1</td>\n",
       "      <td>Certified</td>\n",
       "      <td>0</td>\n",
       "      <td>0</td>\n",
       "      <td>0</td>\n",
       "      <td>0</td>\n",
       "      <td>0</td>\n",
       "      <td>0</td>\n",
       "      <td>...</td>\n",
       "      <td>0</td>\n",
       "      <td>0</td>\n",
       "      <td>0</td>\n",
       "      <td>0</td>\n",
       "      <td>0</td>\n",
       "      <td>0</td>\n",
       "      <td>0</td>\n",
       "      <td>0</td>\n",
       "      <td>0</td>\n",
       "      <td>0</td>\n",
       "    </tr>\n",
       "  </tbody>\n",
       "</table>\n",
       "<p>5 rows × 223 columns</p>\n",
       "</div>"
      ],
      "text/plain": [
       "        Duration country_of_citizen class_of_admission case_status  \\\n",
       "135269       556              INDIA               H-1B   Certified   \n",
       "135271       323            GERMANY               H-1B      Denied   \n",
       "135272       559        SOUTH KOREA                E-2   Certified   \n",
       "135281       561             BRAZIL               H-1B   Certified   \n",
       "135285       544            BELARUS                L-1   Certified   \n",
       "\n",
       "        country_of_citizenclass_of_admissionALBANIA  \\\n",
       "135269                                            0   \n",
       "135271                                            0   \n",
       "135272                                            0   \n",
       "135281                                            0   \n",
       "135285                                            0   \n",
       "\n",
       "        country_of_citizenclass_of_admissionALGERIA  \\\n",
       "135269                                            0   \n",
       "135271                                            0   \n",
       "135272                                            0   \n",
       "135281                                            0   \n",
       "135285                                            0   \n",
       "\n",
       "        country_of_citizenclass_of_admissionANGOLA  \\\n",
       "135269                                           0   \n",
       "135271                                           0   \n",
       "135272                                           0   \n",
       "135281                                           0   \n",
       "135285                                           0   \n",
       "\n",
       "        country_of_citizenclass_of_admissionANTIGUA AND BARBUDA  \\\n",
       "135269                                                  0         \n",
       "135271                                                  0         \n",
       "135272                                                  0         \n",
       "135281                                                  0         \n",
       "135285                                                  0         \n",
       "\n",
       "        country_of_citizenclass_of_admissionARGENTINA  \\\n",
       "135269                                              0   \n",
       "135271                                              0   \n",
       "135272                                              0   \n",
       "135281                                              0   \n",
       "135285                                              0   \n",
       "\n",
       "        country_of_citizenclass_of_admissionARMENIA  \\\n",
       "135269                                            0   \n",
       "135271                                            0   \n",
       "135272                                            0   \n",
       "135281                                            0   \n",
       "135285                                            0   \n",
       "\n",
       "                         ...                     \\\n",
       "135269                   ...                      \n",
       "135271                   ...                      \n",
       "135272                   ...                      \n",
       "135281                   ...                      \n",
       "135285                   ...                      \n",
       "\n",
       "        country_of_citizenclass_of_admissionP-4  \\\n",
       "135269                                        0   \n",
       "135271                                        0   \n",
       "135272                                        0   \n",
       "135281                                        0   \n",
       "135285                                        0   \n",
       "\n",
       "        country_of_citizenclass_of_admissionParolee  \\\n",
       "135269                                            0   \n",
       "135271                                            0   \n",
       "135272                                            0   \n",
       "135281                                            0   \n",
       "135285                                            0   \n",
       "\n",
       "        country_of_citizenclass_of_admissionQ  \\\n",
       "135269                                      0   \n",
       "135271                                      0   \n",
       "135272                                      0   \n",
       "135281                                      0   \n",
       "135285                                      0   \n",
       "\n",
       "        country_of_citizenclass_of_admissionR-1  \\\n",
       "135269                                        0   \n",
       "135271                                        0   \n",
       "135272                                        0   \n",
       "135281                                        0   \n",
       "135285                                        0   \n",
       "\n",
       "        country_of_citizenclass_of_admissionR-2  \\\n",
       "135269                                        0   \n",
       "135271                                        0   \n",
       "135272                                        0   \n",
       "135281                                        0   \n",
       "135285                                        0   \n",
       "\n",
       "        country_of_citizenclass_of_admissionTD  \\\n",
       "135269                                       0   \n",
       "135271                                       0   \n",
       "135272                                       0   \n",
       "135281                                       0   \n",
       "135285                                       0   \n",
       "\n",
       "        country_of_citizenclass_of_admissionTN  \\\n",
       "135269                                       0   \n",
       "135271                                       0   \n",
       "135272                                       0   \n",
       "135281                                       0   \n",
       "135285                                       0   \n",
       "\n",
       "        country_of_citizenclass_of_admissionTPS  \\\n",
       "135269                                        0   \n",
       "135271                                        0   \n",
       "135272                                        0   \n",
       "135281                                        0   \n",
       "135285                                        0   \n",
       "\n",
       "        country_of_citizenclass_of_admissionV-2  \\\n",
       "135269                                        0   \n",
       "135271                                        0   \n",
       "135272                                        0   \n",
       "135281                                        0   \n",
       "135285                                        0   \n",
       "\n",
       "        country_of_citizenclass_of_admissionVWB  \n",
       "135269                                        0  \n",
       "135271                                        0  \n",
       "135272                                        0  \n",
       "135281                                        0  \n",
       "135285                                        0  \n",
       "\n",
       "[5 rows x 223 columns]"
      ]
     },
     "execution_count": 11,
     "metadata": {},
     "output_type": "execute_result"
    }
   ],
   "source": [
    "e.head()\n"
   ]
  },
  {
   "cell_type": "code",
   "execution_count": 13,
   "metadata": {},
   "outputs": [],
   "source": [
    "from sklearn.preprocessing import LabelEncoder"
   ]
  },
  {
   "cell_type": "code",
   "execution_count": 14,
   "metadata": {},
   "outputs": [],
   "source": [
    "le=LabelEncoder()"
   ]
  },
  {
   "cell_type": "code",
   "execution_count": 15,
   "metadata": {},
   "outputs": [],
   "source": [
    "e['case_status']=le.fit_transform(e['case_status'])"
   ]
  },
  {
   "cell_type": "code",
   "execution_count": 16,
   "metadata": {},
   "outputs": [
    {
     "ename": "KeyError",
     "evalue": "\"['country_of_citizen' 'class_of_admission'] not found in axis\"",
     "output_type": "error",
     "traceback": [
      "\u001b[1;31m---------------------------------------------------------------------------\u001b[0m",
      "\u001b[1;31mKeyError\u001b[0m                                  Traceback (most recent call last)",
      "\u001b[1;32m<ipython-input-16-0f6a6f260981>\u001b[0m in \u001b[0;36m<module>\u001b[1;34m()\u001b[0m\n\u001b[1;32m----> 1\u001b[1;33m \u001b[0me\u001b[0m\u001b[1;33m.\u001b[0m\u001b[0mdrop\u001b[0m\u001b[1;33m(\u001b[0m\u001b[1;33m[\u001b[0m\u001b[1;34m'country_of_citizen'\u001b[0m\u001b[1;33m,\u001b[0m\u001b[1;34m'class_of_admission'\u001b[0m\u001b[1;33m]\u001b[0m\u001b[1;33m,\u001b[0m\u001b[0maxis\u001b[0m\u001b[1;33m=\u001b[0m\u001b[1;36m1\u001b[0m\u001b[1;33m,\u001b[0m\u001b[0minplace\u001b[0m\u001b[1;33m=\u001b[0m\u001b[1;32mTrue\u001b[0m\u001b[1;33m)\u001b[0m\u001b[1;33m\u001b[0m\u001b[0m\n\u001b[0m",
      "\u001b[1;32mE:\\Anaconda3\\lib\\site-packages\\pandas\\core\\frame.py\u001b[0m in \u001b[0;36mdrop\u001b[1;34m(self, labels, axis, index, columns, level, inplace, errors)\u001b[0m\n\u001b[0;32m   3695\u001b[0m                                            \u001b[0mindex\u001b[0m\u001b[1;33m=\u001b[0m\u001b[0mindex\u001b[0m\u001b[1;33m,\u001b[0m \u001b[0mcolumns\u001b[0m\u001b[1;33m=\u001b[0m\u001b[0mcolumns\u001b[0m\u001b[1;33m,\u001b[0m\u001b[1;33m\u001b[0m\u001b[0m\n\u001b[0;32m   3696\u001b[0m                                            \u001b[0mlevel\u001b[0m\u001b[1;33m=\u001b[0m\u001b[0mlevel\u001b[0m\u001b[1;33m,\u001b[0m \u001b[0minplace\u001b[0m\u001b[1;33m=\u001b[0m\u001b[0minplace\u001b[0m\u001b[1;33m,\u001b[0m\u001b[1;33m\u001b[0m\u001b[0m\n\u001b[1;32m-> 3697\u001b[1;33m                                            errors=errors)\n\u001b[0m\u001b[0;32m   3698\u001b[0m \u001b[1;33m\u001b[0m\u001b[0m\n\u001b[0;32m   3699\u001b[0m     @rewrite_axis_style_signature('mapper', [('copy', True),\n",
      "\u001b[1;32mE:\\Anaconda3\\lib\\site-packages\\pandas\\core\\generic.py\u001b[0m in \u001b[0;36mdrop\u001b[1;34m(self, labels, axis, index, columns, level, inplace, errors)\u001b[0m\n\u001b[0;32m   3109\u001b[0m         \u001b[1;32mfor\u001b[0m \u001b[0maxis\u001b[0m\u001b[1;33m,\u001b[0m \u001b[0mlabels\u001b[0m \u001b[1;32min\u001b[0m \u001b[0maxes\u001b[0m\u001b[1;33m.\u001b[0m\u001b[0mitems\u001b[0m\u001b[1;33m(\u001b[0m\u001b[1;33m)\u001b[0m\u001b[1;33m:\u001b[0m\u001b[1;33m\u001b[0m\u001b[0m\n\u001b[0;32m   3110\u001b[0m             \u001b[1;32mif\u001b[0m \u001b[0mlabels\u001b[0m \u001b[1;32mis\u001b[0m \u001b[1;32mnot\u001b[0m \u001b[1;32mNone\u001b[0m\u001b[1;33m:\u001b[0m\u001b[1;33m\u001b[0m\u001b[0m\n\u001b[1;32m-> 3111\u001b[1;33m                 \u001b[0mobj\u001b[0m \u001b[1;33m=\u001b[0m \u001b[0mobj\u001b[0m\u001b[1;33m.\u001b[0m\u001b[0m_drop_axis\u001b[0m\u001b[1;33m(\u001b[0m\u001b[0mlabels\u001b[0m\u001b[1;33m,\u001b[0m \u001b[0maxis\u001b[0m\u001b[1;33m,\u001b[0m \u001b[0mlevel\u001b[0m\u001b[1;33m=\u001b[0m\u001b[0mlevel\u001b[0m\u001b[1;33m,\u001b[0m \u001b[0merrors\u001b[0m\u001b[1;33m=\u001b[0m\u001b[0merrors\u001b[0m\u001b[1;33m)\u001b[0m\u001b[1;33m\u001b[0m\u001b[0m\n\u001b[0m\u001b[0;32m   3112\u001b[0m \u001b[1;33m\u001b[0m\u001b[0m\n\u001b[0;32m   3113\u001b[0m         \u001b[1;32mif\u001b[0m \u001b[0minplace\u001b[0m\u001b[1;33m:\u001b[0m\u001b[1;33m\u001b[0m\u001b[0m\n",
      "\u001b[1;32mE:\\Anaconda3\\lib\\site-packages\\pandas\\core\\generic.py\u001b[0m in \u001b[0;36m_drop_axis\u001b[1;34m(self, labels, axis, level, errors)\u001b[0m\n\u001b[0;32m   3141\u001b[0m                 \u001b[0mnew_axis\u001b[0m \u001b[1;33m=\u001b[0m \u001b[0maxis\u001b[0m\u001b[1;33m.\u001b[0m\u001b[0mdrop\u001b[0m\u001b[1;33m(\u001b[0m\u001b[0mlabels\u001b[0m\u001b[1;33m,\u001b[0m \u001b[0mlevel\u001b[0m\u001b[1;33m=\u001b[0m\u001b[0mlevel\u001b[0m\u001b[1;33m,\u001b[0m \u001b[0merrors\u001b[0m\u001b[1;33m=\u001b[0m\u001b[0merrors\u001b[0m\u001b[1;33m)\u001b[0m\u001b[1;33m\u001b[0m\u001b[0m\n\u001b[0;32m   3142\u001b[0m             \u001b[1;32melse\u001b[0m\u001b[1;33m:\u001b[0m\u001b[1;33m\u001b[0m\u001b[0m\n\u001b[1;32m-> 3143\u001b[1;33m                 \u001b[0mnew_axis\u001b[0m \u001b[1;33m=\u001b[0m \u001b[0maxis\u001b[0m\u001b[1;33m.\u001b[0m\u001b[0mdrop\u001b[0m\u001b[1;33m(\u001b[0m\u001b[0mlabels\u001b[0m\u001b[1;33m,\u001b[0m \u001b[0merrors\u001b[0m\u001b[1;33m=\u001b[0m\u001b[0merrors\u001b[0m\u001b[1;33m)\u001b[0m\u001b[1;33m\u001b[0m\u001b[0m\n\u001b[0m\u001b[0;32m   3144\u001b[0m             \u001b[0mresult\u001b[0m \u001b[1;33m=\u001b[0m \u001b[0mself\u001b[0m\u001b[1;33m.\u001b[0m\u001b[0mreindex\u001b[0m\u001b[1;33m(\u001b[0m\u001b[1;33m**\u001b[0m\u001b[1;33m{\u001b[0m\u001b[0maxis_name\u001b[0m\u001b[1;33m:\u001b[0m \u001b[0mnew_axis\u001b[0m\u001b[1;33m}\u001b[0m\u001b[1;33m)\u001b[0m\u001b[1;33m\u001b[0m\u001b[0m\n\u001b[0;32m   3145\u001b[0m \u001b[1;33m\u001b[0m\u001b[0m\n",
      "\u001b[1;32mE:\\Anaconda3\\lib\\site-packages\\pandas\\core\\indexes\\base.py\u001b[0m in \u001b[0;36mdrop\u001b[1;34m(self, labels, errors)\u001b[0m\n\u001b[0;32m   4402\u001b[0m             \u001b[1;32mif\u001b[0m \u001b[0merrors\u001b[0m \u001b[1;33m!=\u001b[0m \u001b[1;34m'ignore'\u001b[0m\u001b[1;33m:\u001b[0m\u001b[1;33m\u001b[0m\u001b[0m\n\u001b[0;32m   4403\u001b[0m                 raise KeyError(\n\u001b[1;32m-> 4404\u001b[1;33m                     '{} not found in axis'.format(labels[mask]))\n\u001b[0m\u001b[0;32m   4405\u001b[0m             \u001b[0mindexer\u001b[0m \u001b[1;33m=\u001b[0m \u001b[0mindexer\u001b[0m\u001b[1;33m[\u001b[0m\u001b[1;33m~\u001b[0m\u001b[0mmask\u001b[0m\u001b[1;33m]\u001b[0m\u001b[1;33m\u001b[0m\u001b[0m\n\u001b[0;32m   4406\u001b[0m         \u001b[1;32mreturn\u001b[0m \u001b[0mself\u001b[0m\u001b[1;33m.\u001b[0m\u001b[0mdelete\u001b[0m\u001b[1;33m(\u001b[0m\u001b[0mindexer\u001b[0m\u001b[1;33m)\u001b[0m\u001b[1;33m\u001b[0m\u001b[0m\n",
      "\u001b[1;31mKeyError\u001b[0m: \"['country_of_citizen' 'class_of_admission'] not found in axis\""
     ]
    }
   ],
   "source": [
    "e.drop(['country_of_citizen','class_of_admission'],axis=1,inplace=True)"
   ]
  },
  {
   "cell_type": "code",
   "execution_count": 17,
   "metadata": {},
   "outputs": [],
   "source": [
    "X=e.iloc[:,1:]"
   ]
  },
  {
   "cell_type": "code",
   "execution_count": 18,
   "metadata": {},
   "outputs": [],
   "source": [
    "y=e['Duration']"
   ]
  },
  {
   "cell_type": "code",
   "execution_count": 19,
   "metadata": {},
   "outputs": [],
   "source": [
    "from sklearn.model_selection import train_test_split\n",
    "X_train, X_test, y_train, y_test = train_test_split(X, y, test_size = 0.25, random_state = 0)"
   ]
  },
  {
   "cell_type": "code",
   "execution_count": 20,
   "metadata": {},
   "outputs": [],
   "source": [
    "from sklearn.preprocessing import StandardScaler\n",
    "sc = StandardScaler()\n",
    "X_train = sc.fit_transform(X_train)\n",
    "X_test = sc.transform(X_test)"
   ]
  },
  {
   "cell_type": "code",
   "execution_count": 21,
   "metadata": {},
   "outputs": [],
   "source": [
    "from sklearn.decomposition import PCA"
   ]
  },
  {
   "cell_type": "code",
   "execution_count": 22,
   "metadata": {},
   "outputs": [],
   "source": [
    "pca=PCA(n_components=None)"
   ]
  },
  {
   "cell_type": "code",
   "execution_count": 23,
   "metadata": {},
   "outputs": [],
   "source": [
    "X_train=pca.fit_transform(X_train)\n",
    "X_test=pca.fit_transform(X_test)"
   ]
  },
  {
   "cell_type": "code",
   "execution_count": 27,
   "metadata": {},
   "outputs": [],
   "source": [
    "ec=pca.explained_variance_ratio_"
   ]
  },
  {
   "cell_type": "code",
   "execution_count": 28,
   "metadata": {},
   "outputs": [
    {
     "data": {
      "text/plain": [
       "array([4.07251674e-02, 2.71503183e-02, 2.03638886e-02, 1.81004288e-02,\n",
       "       1.69731162e-02, 1.38852633e-02, 1.08933061e-02, 1.08616233e-02,\n",
       "       1.07535637e-02, 1.05335644e-02, 1.01823551e-02, 9.87566760e-03,\n",
       "       9.40019513e-03, 9.34115529e-03, 9.17704491e-03, 9.07153534e-03,\n",
       "       9.05617027e-03, 9.04010156e-03, 8.15393915e-03, 8.14794403e-03,\n",
       "       7.42198448e-03, 7.41058050e-03, 7.35903893e-03, 7.18835498e-03,\n",
       "       7.15364317e-03, 7.04913840e-03, 6.97122442e-03, 6.88900581e-03,\n",
       "       6.80504014e-03, 6.79493115e-03, 6.78853792e-03, 6.78823864e-03,\n",
       "       6.78804518e-03, 6.78795007e-03, 6.78795007e-03, 6.78795007e-03,\n",
       "       6.78785549e-03, 6.76730475e-03, 6.43494000e-03, 6.39859460e-03,\n",
       "       6.35790219e-03, 6.33731159e-03, 6.25995678e-03, 6.19567845e-03,\n",
       "       6.15906030e-03, 6.12548596e-03, 6.07938350e-03, 6.02260290e-03,\n",
       "       5.90290495e-03, 5.83205513e-03, 5.80541574e-03, 5.70701704e-03,\n",
       "       5.61277638e-03, 5.60189582e-03, 5.58679162e-03, 5.51724863e-03,\n",
       "       5.46962345e-03, 5.44222533e-03, 5.43097858e-03, 5.43062207e-03,\n",
       "       5.42247751e-03, 5.41691918e-03, 5.38956715e-03, 5.34873127e-03,\n",
       "       5.31184479e-03, 5.27181115e-03, 5.25941607e-03, 5.20811136e-03,\n",
       "       5.19970346e-03, 5.15106608e-03, 5.14210660e-03, 5.05801271e-03,\n",
       "       5.04048260e-03, 5.02175162e-03, 5.01437205e-03, 4.93433859e-03,\n",
       "       4.92723134e-03, 4.90385321e-03, 4.88646258e-03, 4.86870608e-03,\n",
       "       4.83982323e-03, 4.79460989e-03, 4.78069502e-03, 4.74730348e-03,\n",
       "       4.72809374e-03, 4.64552246e-03, 4.63321758e-03, 4.60151548e-03,\n",
       "       4.55891178e-03, 4.53294035e-03, 4.53030715e-03, 4.52746863e-03,\n",
       "       4.52559521e-03, 4.52535606e-03, 4.52166204e-03, 4.51584003e-03,\n",
       "       4.48630166e-03, 4.47058058e-03, 4.45171429e-03, 4.43080771e-03,\n",
       "       4.42614439e-03, 4.40236516e-03, 4.39676582e-03, 4.38045243e-03,\n",
       "       4.36687508e-03, 4.35169339e-03, 4.33531631e-03, 4.32706433e-03,\n",
       "       4.29650880e-03, 4.28312095e-03, 4.25511808e-03, 4.24746081e-03,\n",
       "       4.19887333e-03, 4.19543724e-03, 4.18710714e-03, 4.17880422e-03,\n",
       "       4.16444478e-03, 4.14145897e-03, 4.10680251e-03, 4.07904596e-03,\n",
       "       4.07546663e-03, 4.07317338e-03, 4.05490639e-03, 4.03472597e-03,\n",
       "       4.01550638e-03, 3.98378614e-03, 3.97288204e-03, 3.95964166e-03,\n",
       "       3.95124198e-03, 3.89804762e-03, 3.88776025e-03, 3.84328681e-03,\n",
       "       3.82828543e-03, 3.80722978e-03, 3.79502180e-03, 3.76937010e-03,\n",
       "       3.73223890e-03, 3.70169817e-03, 3.64956814e-03, 3.62536184e-03,\n",
       "       3.57633257e-03, 3.55710798e-03, 3.53916076e-03, 3.52687075e-03,\n",
       "       3.49585636e-03, 3.49043584e-03, 3.45597152e-03, 3.42238520e-03,\n",
       "       3.39646592e-03, 3.39453507e-03, 3.39428080e-03, 3.39408677e-03,\n",
       "       3.38503238e-03, 3.34713029e-03, 3.30811222e-03, 3.27715171e-03,\n",
       "       3.11224309e-03, 3.10776605e-03, 3.08392462e-03, 3.03642551e-03,\n",
       "       3.01601058e-03, 2.96633721e-03, 2.93657821e-03, 2.91655909e-03,\n",
       "       2.86119670e-03, 2.77302612e-03, 2.72298595e-03, 2.71513561e-03,\n",
       "       2.70162226e-03, 2.53293056e-03, 2.44571306e-03, 2.26286278e-03,\n",
       "       2.26255735e-03, 2.22227698e-03, 2.14364549e-03, 1.92518576e-03,\n",
       "       1.69734891e-03, 1.69711356e-03, 1.00190978e-03, 9.81522414e-04,\n",
       "       9.05762092e-04, 6.73074904e-04, 5.12377162e-06, 2.03090853e-06,\n",
       "       3.27355377e-07, 2.72770208e-07, 2.23782473e-07, 1.68031044e-07,\n",
       "       1.65125487e-07, 1.19067753e-07, 5.37391063e-08, 8.03162310e-33,\n",
       "       3.06303160e-33, 2.91725430e-33, 2.41248935e-33, 2.05202708e-33,\n",
       "       1.84713336e-33, 1.63503261e-33, 1.39093622e-33, 1.19145424e-33,\n",
       "       1.05398457e-33, 8.44377524e-34, 8.33161453e-34, 8.06030061e-34,\n",
       "       5.61944584e-34, 4.91714651e-34, 3.41762602e-34, 2.85127065e-34,\n",
       "       2.74665278e-34, 2.74665278e-34, 2.74665278e-34, 2.74665278e-34,\n",
       "       2.74665278e-34, 2.74665278e-34, 2.74665278e-34, 2.74665278e-34,\n",
       "       1.69832788e-34, 1.22762930e-34, 2.23105745e-35, 1.18359937e-35])"
      ]
     },
     "execution_count": 28,
     "metadata": {},
     "output_type": "execute_result"
    }
   ],
   "source": [
    "ec"
   ]
  },
  {
   "cell_type": "code",
   "execution_count": 24,
   "metadata": {},
   "outputs": [],
   "source": [
    "pca=PCA(n_components=18)"
   ]
  },
  {
   "cell_type": "code",
   "execution_count": 25,
   "metadata": {},
   "outputs": [],
   "source": [
    "X_train=pca.fit_transform(X_train)\n",
    "X_test=pca.fit_transform(X_test)"
   ]
  },
  {
   "cell_type": "code",
   "execution_count": 26,
   "metadata": {},
   "outputs": [],
   "source": [
    "from sklearn.preprocessing import PolynomialFeatures\n",
    "poly_reg = PolynomialFeatures(degree = 4)\n",
    "X_poly = poly_reg.fit_transform(X_train)"
   ]
  },
  {
   "cell_type": "code",
   "execution_count": null,
   "metadata": {},
   "outputs": [],
   "source": [
    "poly_reg.fit(X_poly, y_train)"
   ]
  },
  {
   "cell_type": "code",
   "execution_count": null,
   "metadata": {},
   "outputs": [],
   "source": [
    "from sklearn.linear_model import LinearRegression"
   ]
  },
  {
   "cell_type": "code",
   "execution_count": null,
   "metadata": {},
   "outputs": [],
   "source": [
    "300+400"
   ]
  },
  {
   "cell_type": "code",
   "execution_count": null,
   "metadata": {},
   "outputs": [],
   "source": [
    "prediction=poly_reg.predict(y_test)"
   ]
  },
  {
   "cell_type": "code",
   "execution_count": null,
   "metadata": {},
   "outputs": [],
   "source": [
    "from sklearn.svm import SVR"
   ]
  },
  {
   "cell_type": "code",
   "execution_count": 31,
   "metadata": {},
   "outputs": [],
   "source": [
    "from sklearn.svm import SVR"
   ]
  },
  {
   "cell_type": "code",
   "execution_count": 32,
   "metadata": {},
   "outputs": [],
   "source": [
    "cls=SVR(kernel='rbf')"
   ]
  },
  {
   "cell_type": "code",
   "execution_count": 33,
   "metadata": {},
   "outputs": [
    {
     "data": {
      "text/plain": [
       "SVR(C=1.0, cache_size=200, coef0=0.0, degree=3, epsilon=0.1, gamma='auto',\n",
       "  kernel='rbf', max_iter=-1, shrinking=True, tol=0.001, verbose=False)"
      ]
     },
     "execution_count": 33,
     "metadata": {},
     "output_type": "execute_result"
    }
   ],
   "source": [
    "cls.fit(X_train,y_train)"
   ]
  },
  {
   "cell_type": "code",
   "execution_count": 34,
   "metadata": {},
   "outputs": [
    {
     "data": {
      "text/plain": [
       "0.06498616850832395"
      ]
     },
     "execution_count": 34,
     "metadata": {},
     "output_type": "execute_result"
    }
   ],
   "source": [
    "cls.score(X_train,y_train)"
   ]
  },
  {
   "cell_type": "code",
   "execution_count": 36,
   "metadata": {},
   "outputs": [],
   "source": [
    "y_pred=cls.predict(X_test)"
   ]
  },
  {
   "cell_type": "code",
   "execution_count": 42,
   "metadata": {},
   "outputs": [],
   "source": [
    "from sklearn.metrics import mean_squared_error,r2_score"
   ]
  },
  {
   "cell_type": "code",
   "execution_count": 39,
   "metadata": {},
   "outputs": [],
   "source": [
    "mse=mean_squared_error(y_pred,y_test)"
   ]
  },
  {
   "cell_type": "code",
   "execution_count": 41,
   "metadata": {},
   "outputs": [
    {
     "data": {
      "text/plain": [
       "262.0253729166244"
      ]
     },
     "execution_count": 41,
     "metadata": {},
     "output_type": "execute_result"
    }
   ],
   "source": [
    "import numpy as np\n",
    "np.sqrt(mse)"
   ]
  },
  {
   "cell_type": "code",
   "execution_count": null,
   "metadata": {},
   "outputs": [],
   "source": [
    "from sklearn.decompostion import PCA"
   ]
  },
  {
   "cell_type": "code",
   "execution_count": null,
   "metadata": {},
   "outputs": [],
   "source": [
    "X_train=PCA.fit_transform(X_train)\n",
    "X_test=PCA.fit_transform(X_test)"
   ]
  },
  {
   "cell_type": "code",
   "execution_count": 43,
   "metadata": {},
   "outputs": [
    {
     "data": {
      "text/plain": [
       "-1190.2627952188873"
      ]
     },
     "execution_count": 43,
     "metadata": {},
     "output_type": "execute_result"
    }
   ],
   "source": [
    "r2_score(y_pred,y_test)"
   ]
  },
  {
   "cell_type": "code",
   "execution_count": 44,
   "metadata": {},
   "outputs": [],
   "source": [
    "from sklearn.ensemble import RandomForestRegressor"
   ]
  },
  {
   "cell_type": "code",
   "execution_count": 51,
   "metadata": {},
   "outputs": [],
   "source": [
    "rf=RandomForestRegressor(n_estimators=500)"
   ]
  },
  {
   "cell_type": "code",
   "execution_count": 52,
   "metadata": {},
   "outputs": [
    {
     "data": {
      "text/plain": [
       "RandomForestRegressor(bootstrap=True, criterion='mse', max_depth=None,\n",
       "           max_features='auto', max_leaf_nodes=None,\n",
       "           min_impurity_decrease=0.0, min_impurity_split=None,\n",
       "           min_samples_leaf=1, min_samples_split=2,\n",
       "           min_weight_fraction_leaf=0.0, n_estimators=500, n_jobs=1,\n",
       "           oob_score=False, random_state=None, verbose=0, warm_start=False)"
      ]
     },
     "execution_count": 52,
     "metadata": {},
     "output_type": "execute_result"
    }
   ],
   "source": [
    "rf.fit(X_train,y_train)"
   ]
  },
  {
   "cell_type": "code",
   "execution_count": 12,
   "metadata": {},
   "outputs": [
    {
     "ename": "NameError",
     "evalue": "name 'rf' is not defined",
     "output_type": "error",
     "traceback": [
      "\u001b[1;31m---------------------------------------------------------------------------\u001b[0m",
      "\u001b[1;31mNameError\u001b[0m                                 Traceback (most recent call last)",
      "\u001b[1;32m<ipython-input-12-fbfc35391eac>\u001b[0m in \u001b[0;36m<module>\u001b[1;34m()\u001b[0m\n\u001b[1;32m----> 1\u001b[1;33m \u001b[0mypred\u001b[0m\u001b[1;33m=\u001b[0m\u001b[0mrf\u001b[0m\u001b[1;33m.\u001b[0m\u001b[0mpredict\u001b[0m\u001b[1;33m(\u001b[0m\u001b[0mX_test\u001b[0m\u001b[1;33m)\u001b[0m\u001b[1;33m\u001b[0m\u001b[0m\n\u001b[0m",
      "\u001b[1;31mNameError\u001b[0m: name 'rf' is not defined"
     ]
    }
   ],
   "source": [
    "ypred=rf.predict(X_test)"
   ]
  },
  {
   "cell_type": "code",
   "execution_count": 49,
   "metadata": {},
   "outputs": [],
   "source": [
    "mser=mean_squared_error(ypred,y_test)"
   ]
  },
  {
   "cell_type": "code",
   "execution_count": 50,
   "metadata": {},
   "outputs": [
    {
     "data": {
      "text/plain": [
       "70140.86592360248"
      ]
     },
     "execution_count": 50,
     "metadata": {},
     "output_type": "execute_result"
    }
   ],
   "source": [
    "mser"
   ]
  },
  {
   "cell_type": "code",
   "execution_count": 53,
   "metadata": {},
   "outputs": [
    {
     "data": {
      "text/plain": [
       "264.8412088848759"
      ]
     },
     "execution_count": 53,
     "metadata": {},
     "output_type": "execute_result"
    }
   ],
   "source": [
    "np.sqrt(mser)"
   ]
  },
  {
   "cell_type": "code",
   "execution_count": null,
   "metadata": {},
   "outputs": [],
   "source": []
  }
 ],
 "metadata": {
  "kernelspec": {
   "display_name": "Python 3",
   "language": "python",
   "name": "python3"
  },
  "language_info": {
   "codemirror_mode": {
    "name": "ipython",
    "version": 3
   },
   "file_extension": ".py",
   "mimetype": "text/x-python",
   "name": "python",
   "nbconvert_exporter": "python",
   "pygments_lexer": "ipython3",
   "version": "3.6.5"
  }
 },
 "nbformat": 4,
 "nbformat_minor": 2
}
