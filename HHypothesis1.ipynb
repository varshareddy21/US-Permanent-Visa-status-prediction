{
 "cells": [
  {
   "cell_type": "markdown",
   "metadata": {},
   "source": [
    "we got highest accuracy in the Random forest classification with 93.3"
   ]
  },
  {
   "cell_type": "markdown",
   "metadata": {},
   "source": [
    "dependent variables 'case_status','class_of_admission', 'country_of_citizen','employer_num_employees','foreign_worker_info_req_experience','job_info_experience_num_months','job_info_experience','pw_level_9089']"
   ]
  },
  {
   "cell_type": "code",
   "execution_count": 2,
   "metadata": {},
   "outputs": [],
   "source": [
    "import pandas as pd"
   ]
  },
  {
   "cell_type": "code",
   "execution_count": null,
   "metadata": {},
   "outputs": [],
   "source": []
  },
  {
   "cell_type": "markdown",
   "metadata": {},
   "source": [
    "# preprocessing"
   ]
  },
  {
   "cell_type": "code",
   "execution_count": 3,
   "metadata": {},
   "outputs": [
    {
     "name": "stderr",
     "output_type": "stream",
     "text": [
      "E:\\Anaconda3\\lib\\site-packages\\IPython\\core\\interactiveshell.py:2785: DtypeWarning: Columns (0,1,2,3,4,5,6,7,15,16,19,20,21,24,25,26,27,28,29,30,31,32,33,34,35,36,38,39,40,41,42,43,44,46,47,48,49,50,51,52,54,55,56,57,58,59,60,62,63,64,65,67,68,69,70,71,72,73,76,78,79,80,81,82,83,84,85,86,87,88,89,90,91,92,93,94,99,100,102,103,104,105,106,107,108,109,110,111,112,113,114,115,116,117,118,119,120,121,122,123,124,125,126,127,128,129,130,131,132,133,134,135,136,137,138,139,140,141,142,143,144,145,146,147,148,149,152) have mixed types. Specify dtype option on import or set low_memory=False.\n",
      "  interactivity=interactivity, compiler=compiler, result=result)\n"
     ]
    }
   ],
   "source": [
    "df=pd.read_csv(\"F://Data Science//datasets//visas.csv\")"
   ]
  },
  {
   "cell_type": "code",
   "execution_count": 24,
   "metadata": {},
   "outputs": [],
   "source": [
    "k=d[d.case_status!='Certified-Expired']"
   ]
  },
  {
   "cell_type": "code",
   "execution_count": 25,
   "metadata": {},
   "outputs": [
    {
     "data": {
      "text/plain": [
       "(207582, 153)"
      ]
     },
     "execution_count": 25,
     "metadata": {},
     "output_type": "execute_result"
    }
   ],
   "source": [
    "k.shape"
   ]
  },
  {
   "cell_type": "code",
   "execution_count": 26,
   "metadata": {},
   "outputs": [
    {
     "name": "stderr",
     "output_type": "stream",
     "text": [
      "E:\\Anaconda3\\lib\\site-packages\\ipykernel_launcher.py:1: SettingWithCopyWarning: \n",
      "A value is trying to be set on a copy of a slice from a DataFrame\n",
      "\n",
      "See the caveats in the documentation: http://pandas.pydata.org/pandas-docs/stable/indexing.html#indexing-view-versus-copy\n",
      "  \"\"\"Entry point for launching an IPython kernel.\n"
     ]
    }
   ],
   "source": [
    "k.dropna(subset=['case_status'],how='any',inplace=True)"
   ]
  },
  {
   "cell_type": "code",
   "execution_count": 140,
   "metadata": {},
   "outputs": [
    {
     "name": "stderr",
     "output_type": "stream",
     "text": [
      "E:\\Anaconda3\\lib\\site-packages\\ipykernel_launcher.py:1: SettingWithCopyWarning: \n",
      "A value is trying to be set on a copy of a slice from a DataFrame\n",
      "\n",
      "See the caveats in the documentation: http://pandas.pydata.org/pandas-docs/stable/indexing.html#indexing-view-versus-copy\n",
      "  \"\"\"Entry point for launching an IPython kernel.\n"
     ]
    }
   ],
   "source": [
    "k.dropna(subset=['case_received_date'],how='any',inplace=True)"
   ]
  },
  {
   "cell_type": "code",
   "execution_count": 141,
   "metadata": {},
   "outputs": [
    {
     "data": {
      "text/plain": [
       "(71069, 30)"
      ]
     },
     "execution_count": 141,
     "metadata": {},
     "output_type": "execute_result"
    }
   ],
   "source": [
    "k.dropna(subset=['foreign_worker_info_alt_edu_experiences'],how='any').shape"
   ]
  },
  {
   "cell_type": "code",
   "execution_count": 50,
   "metadata": {},
   "outputs": [
    {
     "name": "stderr",
     "output_type": "stream",
     "text": [
      "E:\\Anaconda3\\lib\\site-packages\\pandas\\core\\generic.py:5434: SettingWithCopyWarning: \n",
      "A value is trying to be set on a copy of a slice from a DataFrame\n",
      "\n",
      "See the caveats in the documentation: http://pandas.pydata.org/pandas-docs/stable/indexing.html#indexing-view-versus-copy\n",
      "  self._update_inplace(new_data)\n"
     ]
    }
   ],
   "source": [
    "k['job_info_experience'].fillna(value=34, inplace=True)"
   ]
  },
  {
   "cell_type": "code",
   "execution_count": null,
   "metadata": {},
   "outputs": [],
   "source": [
    "df['combined']=df['bar'].astype(str)+'_'+df['foo']+'_'+df['new']"
   ]
  },
  {
   "cell_type": "code",
   "execution_count": 88,
   "metadata": {},
   "outputs": [
    {
     "name": "stderr",
     "output_type": "stream",
     "text": [
      "E:\\Anaconda3\\lib\\site-packages\\ipykernel_launcher.py:1: SettingWithCopyWarning: \n",
      "A value is trying to be set on a copy of a slice from a DataFrame.\n",
      "Try using .loc[row_indexer,col_indexer] = value instead\n",
      "\n",
      "See the caveats in the documentation: http://pandas.pydata.org/pandas-docs/stable/indexing.html#indexing-view-versus-copy\n",
      "  \"\"\"Entry point for launching an IPython kernel.\n"
     ]
    }
   ],
   "source": [
    "k['foreign_worker_info_alt_edu_experiences']=k['foreign_worker_info_alt_edu_experience'].astype(str)+k['fw_info_alt_edu_experience']"
   ]
  },
  {
   "cell_type": "code",
   "execution_count": 41,
   "metadata": {},
   "outputs": [],
   "source": [
    "from sklearn.preprocessing import Imputer"
   ]
  },
  {
   "cell_type": "code",
   "execution_count": 44,
   "metadata": {},
   "outputs": [],
   "source": [
    "imp = Imputer(missing_values='NaN', strategy='mean', axis=0)\n"
   ]
  },
  {
   "cell_type": "code",
   "execution_count": 80,
   "metadata": {},
   "outputs": [
    {
     "data": {
      "text/plain": [
       "nanA    28567\n",
       "nanY    23414\n",
       "nanN    19088\n",
       "Name: foreign_worker_info_rel_occup_exp, dtype: int64"
      ]
     },
     "execution_count": 80,
     "metadata": {},
     "output_type": "execute_result"
    }
   ],
   "source": [
    "k['foreign_worker_info_rel_occup_exp'].value_counts()"
   ]
  },
  {
   "cell_type": "code",
   "execution_count": 90,
   "metadata": {},
   "outputs": [
    {
     "data": {
      "text/plain": [
       "135269    A\n",
       "135271    A\n",
       "135272    A\n",
       "135281    A\n",
       "135285    A\n",
       "Name: foreign_worker_info_alt_edu_experience, dtype: object"
      ]
     },
     "execution_count": 90,
     "metadata": {},
     "output_type": "execute_result"
    }
   ],
   "source": [
    "k['foreign_worker_info_alt_edu_experience'].head()"
   ]
  },
  {
   "cell_type": "code",
   "execution_count": 138,
   "metadata": {},
   "outputs": [
    {
     "data": {
      "text/plain": [
       "Index(['application_type', 'case_received_date', 'case_status',\n",
       "       'class_of_admission', 'country_of_citizen', 'decision_date',\n",
       "       'employer_country', 'employer_num_employees', 'employer_state',\n",
       "       'foreign_worker_info_alt_edu_experience', 'foreign_worker_info_city',\n",
       "       'foreign_worker_info_education', 'foreign_worker_info_major',\n",
       "       'foreign_worker_info_req_experience', 'job_info_alt_combo_ed',\n",
       "       'job_info_alt_combo_ed_exp', 'job_info_education',\n",
       "       'job_info_education_other', 'job_info_experience',\n",
       "       'job_info_experience_num_months', 'job_info_foreign_ed',\n",
       "       'job_info_work_state', 'pw_level_9089', 'wage_offer_from_9089',\n",
       "       'wage_offer_to_9089', 'wage_offer_unit_of_pay_9089',\n",
       "       'wage_offered_from_9089', 'wage_offered_to_9089',\n",
       "       'foreign_worker_info_rel_occup_exps',\n",
       "       'foreign_worker_info_alt_edu_experiences'],\n",
       "      dtype='object')"
      ]
     },
     "execution_count": 138,
     "metadata": {},
     "output_type": "execute_result"
    }
   ],
   "source": [
    "k.columns"
   ]
  },
  {
   "cell_type": "code",
   "execution_count": 137,
   "metadata": {},
   "outputs": [
    {
     "name": "stderr",
     "output_type": "stream",
     "text": [
      "E:\\Anaconda3\\lib\\site-packages\\pandas\\core\\frame.py:3697: SettingWithCopyWarning: \n",
      "A value is trying to be set on a copy of a slice from a DataFrame\n",
      "\n",
      "See the caveats in the documentation: http://pandas.pydata.org/pandas-docs/stable/indexing.html#indexing-view-versus-copy\n",
      "  errors=errors)\n"
     ]
    }
   ],
   "source": [
    "k.drop(['foreign_worker_info_inst','pw_soc_code', 'pw_soc_title','foreign_worker_info_education_other','foreign_worker_info_postal_code', 'job_info_combo_occupation','job_info_foreign_lang_req'],axis=1,inplace=True)"
   ]
  },
  {
   "cell_type": "code",
   "execution_count": 215,
   "metadata": {},
   "outputs": [],
   "source": [
    "cols=['application_type', 'case_received_date', 'case_status',\n",
    "       'class_of_admission', 'country_of_citizen', 'decision_date',\n",
    "       'employer_country', 'employer_num_employees', 'employer_state',\n",
    "       'foreign_worker_info_alt_edu_experience', 'foreign_worker_info_city',\n",
    "       'foreign_worker_info_education', 'foreign_worker_info_major',\n",
    "       'foreign_worker_info_req_experience', 'job_info_alt_combo_ed',\n",
    "       'job_info_alt_combo_ed_exp', 'job_info_education',\n",
    "       'job_info_education_other', 'job_info_experience',\n",
    "       'job_info_experience_num_months', 'job_info_foreign_ed',\n",
    "       'job_info_work_state', 'pw_level_9089', 'wage_offer_from_9089',\n",
    "       'wage_offer_to_9089', 'wage_offer_unit_of_pay_9089',\n",
    "       'wage_offered_from_9089', 'wage_offered_to_9089',\n",
    "       'foreign_worker_info_rel_occup_exps',\n",
    "       'foreign_worker_info_alt_edu_experiences']"
   ]
  },
  {
   "cell_type": "code",
   "execution_count": null,
   "metadata": {},
   "outputs": [],
   "source": []
  },
  {
   "cell_type": "markdown",
   "metadata": {},
   "source": [
    "# modelBuilding"
   ]
  },
  {
   "cell_type": "code",
   "execution_count": 216,
   "metadata": {},
   "outputs": [],
   "source": [
    "df=k[cols]"
   ]
  },
  {
   "cell_type": "code",
   "execution_count": 6,
   "metadata": {},
   "outputs": [],
   "source": [
    "df=pd.read_excel(\"F:Data Science/datasets/finaldata.xlsx\")"
   ]
  },
  {
   "cell_type": "code",
   "execution_count": 10,
   "metadata": {},
   "outputs": [],
   "source": [
    "col=['case_status','class_of_admission', 'country_of_citizen','employer_num_employees','foreign_worker_info_req_experience','job_info_experience_num_months','job_info_experience','pw_level_9089']"
   ]
  },
  {
   "cell_type": "code",
   "execution_count": 11,
   "metadata": {},
   "outputs": [],
   "source": [
    "dfd=df[col]"
   ]
  },
  {
   "cell_type": "code",
   "execution_count": 144,
   "metadata": {},
   "outputs": [],
   "source": [
    "df['case_received_date'] = pd.to_datetime(df['case_received_date'])\n",
    "df['decision_date'] = pd.to_datetime(df['decision_date'])\n",
    "\n",
    "df['Duration'] = (df['decision_date'] - df['case_received_date']).dt.days"
   ]
  },
  {
   "cell_type": "code",
   "execution_count": 214,
   "metadata": {},
   "outputs": [
    {
     "data": {
      "text/html": [
       "<div>\n",
       "<style scoped>\n",
       "    .dataframe tbody tr th:only-of-type {\n",
       "        vertical-align: middle;\n",
       "    }\n",
       "\n",
       "    .dataframe tbody tr th {\n",
       "        vertical-align: top;\n",
       "    }\n",
       "\n",
       "    .dataframe thead th {\n",
       "        text-align: right;\n",
       "    }\n",
       "</style>\n",
       "<table border=\"1\" class=\"dataframe\">\n",
       "  <thead>\n",
       "    <tr style=\"text-align: right;\">\n",
       "      <th></th>\n",
       "      <th>class_of_admission</th>\n",
       "      <th>country_of_citizen</th>\n",
       "      <th>employer_num_employees</th>\n",
       "      <th>foreign_worker_info_req_experience</th>\n",
       "      <th>job_info_experience_num_months</th>\n",
       "      <th>job_info_experience</th>\n",
       "      <th>pw_level_9089</th>\n",
       "    </tr>\n",
       "  </thead>\n",
       "  <tbody>\n",
       "    <tr>\n",
       "      <th>135271</th>\n",
       "      <td>H-1B</td>\n",
       "      <td>GERMANY</td>\n",
       "      <td>4.0</td>\n",
       "      <td>Y</td>\n",
       "      <td>36.0</td>\n",
       "      <td>Y</td>\n",
       "      <td>Level I</td>\n",
       "    </tr>\n",
       "    <tr>\n",
       "      <th>135302</th>\n",
       "      <td>E-1</td>\n",
       "      <td>TURKEY</td>\n",
       "      <td>12.0</td>\n",
       "      <td>Y</td>\n",
       "      <td>60.0</td>\n",
       "      <td>Y</td>\n",
       "      <td>Level II</td>\n",
       "    </tr>\n",
       "    <tr>\n",
       "      <th>135313</th>\n",
       "      <td>L-1</td>\n",
       "      <td>FRANCE</td>\n",
       "      <td>13000.0</td>\n",
       "      <td>N</td>\n",
       "      <td>84.0</td>\n",
       "      <td>Y</td>\n",
       "      <td>Level IV</td>\n",
       "    </tr>\n",
       "    <tr>\n",
       "      <th>135338</th>\n",
       "      <td>H-1B</td>\n",
       "      <td>INDIA</td>\n",
       "      <td>42000.0</td>\n",
       "      <td>N</td>\n",
       "      <td>60.0</td>\n",
       "      <td>Y</td>\n",
       "      <td>Level IV</td>\n",
       "    </tr>\n",
       "    <tr>\n",
       "      <th>135347</th>\n",
       "      <td>TN</td>\n",
       "      <td>CANADA</td>\n",
       "      <td>16.0</td>\n",
       "      <td>N</td>\n",
       "      <td>60.0</td>\n",
       "      <td>Y</td>\n",
       "      <td>Level IV</td>\n",
       "    </tr>\n",
       "  </tbody>\n",
       "</table>\n",
       "</div>"
      ],
      "text/plain": [
       "       class_of_admission country_of_citizen  employer_num_employees  \\\n",
       "135271               H-1B            GERMANY                     4.0   \n",
       "135302                E-1             TURKEY                    12.0   \n",
       "135313                L-1             FRANCE                 13000.0   \n",
       "135338               H-1B              INDIA                 42000.0   \n",
       "135347                 TN             CANADA                    16.0   \n",
       "\n",
       "       foreign_worker_info_req_experience  job_info_experience_num_months  \\\n",
       "135271                                  Y                            36.0   \n",
       "135302                                  Y                            60.0   \n",
       "135313                                  N                            84.0   \n",
       "135338                                  N                            60.0   \n",
       "135347                                  N                            60.0   \n",
       "\n",
       "       job_info_experience pw_level_9089  \n",
       "135271                   Y       Level I  \n",
       "135302                   Y      Level II  \n",
       "135313                   Y      Level IV  \n",
       "135338                   Y      Level IV  \n",
       "135347                   Y      Level IV  "
      ]
     },
     "execution_count": 214,
     "metadata": {},
     "output_type": "execute_result"
    }
   ],
   "source": [
    "dd.head()"
   ]
  },
  {
   "cell_type": "code",
   "execution_count": 13,
   "metadata": {},
   "outputs": [
    {
     "name": "stderr",
     "output_type": "stream",
     "text": [
      "E:\\Anaconda3\\lib\\site-packages\\ipykernel_launcher.py:1: SettingWithCopyWarning: \n",
      "A value is trying to be set on a copy of a slice from a DataFrame\n",
      "\n",
      "See the caveats in the documentation: http://pandas.pydata.org/pandas-docs/stable/indexing.html#indexing-view-versus-copy\n",
      "  \"\"\"Entry point for launching an IPython kernel.\n"
     ]
    }
   ],
   "source": [
    "dd.dropna(subset=['foreign_worker_info_req_experience'],how='any',inplace=True)"
   ]
  },
  {
   "cell_type": "code",
   "execution_count": 12,
   "metadata": {},
   "outputs": [],
   "source": [
    "dd=dfd[dfd.foreign_worker_info_req_experience!='A']"
   ]
  },
  {
   "cell_type": "code",
   "execution_count": 221,
   "metadata": {},
   "outputs": [
    {
     "data": {
      "text/html": [
       "<div>\n",
       "<style scoped>\n",
       "    .dataframe tbody tr th:only-of-type {\n",
       "        vertical-align: middle;\n",
       "    }\n",
       "\n",
       "    .dataframe tbody tr th {\n",
       "        vertical-align: top;\n",
       "    }\n",
       "\n",
       "    .dataframe thead th {\n",
       "        text-align: right;\n",
       "    }\n",
       "</style>\n",
       "<table border=\"1\" class=\"dataframe\">\n",
       "  <thead>\n",
       "    <tr style=\"text-align: right;\">\n",
       "      <th></th>\n",
       "      <th>case_status</th>\n",
       "      <th>class_of_admission</th>\n",
       "      <th>country_of_citizen</th>\n",
       "      <th>employer_num_employees</th>\n",
       "      <th>foreign_worker_info_req_experience</th>\n",
       "      <th>job_info_experience_num_months</th>\n",
       "      <th>job_info_experience</th>\n",
       "      <th>pw_level_9089</th>\n",
       "    </tr>\n",
       "  </thead>\n",
       "  <tbody>\n",
       "    <tr>\n",
       "      <th>135271</th>\n",
       "      <td>Denied</td>\n",
       "      <td>H-1B</td>\n",
       "      <td>GERMANY</td>\n",
       "      <td>4.0</td>\n",
       "      <td>Y</td>\n",
       "      <td>36.0</td>\n",
       "      <td>Y</td>\n",
       "      <td>Level I</td>\n",
       "    </tr>\n",
       "    <tr>\n",
       "      <th>135302</th>\n",
       "      <td>Denied</td>\n",
       "      <td>E-1</td>\n",
       "      <td>TURKEY</td>\n",
       "      <td>12.0</td>\n",
       "      <td>Y</td>\n",
       "      <td>60.0</td>\n",
       "      <td>Y</td>\n",
       "      <td>Level II</td>\n",
       "    </tr>\n",
       "    <tr>\n",
       "      <th>135313</th>\n",
       "      <td>Certified</td>\n",
       "      <td>L-1</td>\n",
       "      <td>FRANCE</td>\n",
       "      <td>13000.0</td>\n",
       "      <td>N</td>\n",
       "      <td>84.0</td>\n",
       "      <td>Y</td>\n",
       "      <td>Level IV</td>\n",
       "    </tr>\n",
       "    <tr>\n",
       "      <th>135338</th>\n",
       "      <td>Certified</td>\n",
       "      <td>H-1B</td>\n",
       "      <td>INDIA</td>\n",
       "      <td>42000.0</td>\n",
       "      <td>N</td>\n",
       "      <td>60.0</td>\n",
       "      <td>Y</td>\n",
       "      <td>Level IV</td>\n",
       "    </tr>\n",
       "    <tr>\n",
       "      <th>135347</th>\n",
       "      <td>Denied</td>\n",
       "      <td>TN</td>\n",
       "      <td>CANADA</td>\n",
       "      <td>16.0</td>\n",
       "      <td>N</td>\n",
       "      <td>60.0</td>\n",
       "      <td>Y</td>\n",
       "      <td>Level IV</td>\n",
       "    </tr>\n",
       "  </tbody>\n",
       "</table>\n",
       "</div>"
      ],
      "text/plain": [
       "       case_status class_of_admission country_of_citizen  \\\n",
       "135271      Denied               H-1B            GERMANY   \n",
       "135302      Denied                E-1             TURKEY   \n",
       "135313   Certified                L-1             FRANCE   \n",
       "135338   Certified               H-1B              INDIA   \n",
       "135347      Denied                 TN             CANADA   \n",
       "\n",
       "        employer_num_employees foreign_worker_info_req_experience  \\\n",
       "135271                     4.0                                  Y   \n",
       "135302                    12.0                                  Y   \n",
       "135313                 13000.0                                  N   \n",
       "135338                 42000.0                                  N   \n",
       "135347                    16.0                                  N   \n",
       "\n",
       "        job_info_experience_num_months job_info_experience pw_level_9089  \n",
       "135271                            36.0                   Y       Level I  \n",
       "135302                            60.0                   Y      Level II  \n",
       "135313                            84.0                   Y      Level IV  \n",
       "135338                            60.0                   Y      Level IV  \n",
       "135347                            60.0                   Y      Level IV  "
      ]
     },
     "execution_count": 221,
     "metadata": {},
     "output_type": "execute_result"
    }
   ],
   "source": [
    "dd.head()"
   ]
  },
  {
   "cell_type": "code",
   "execution_count": 14,
   "metadata": {},
   "outputs": [],
   "source": [
    "from sklearn.preprocessing import LabelEncoder"
   ]
  },
  {
   "cell_type": "code",
   "execution_count": 15,
   "metadata": {},
   "outputs": [],
   "source": [
    "le=LabelEncoder()"
   ]
  },
  {
   "cell_type": "code",
   "execution_count": 16,
   "metadata": {},
   "outputs": [
    {
     "ename": "NameError",
     "evalue": "name 'e' is not defined",
     "output_type": "error",
     "traceback": [
      "\u001b[1;31m---------------------------------------------------------------------------\u001b[0m",
      "\u001b[1;31mNameError\u001b[0m                                 Traceback (most recent call last)",
      "\u001b[1;32m<ipython-input-16-0c3769a02d9d>\u001b[0m in \u001b[0;36m<module>\u001b[1;34m()\u001b[0m\n\u001b[1;32m----> 1\u001b[1;33m \u001b[0me\u001b[0m\u001b[1;33m[\u001b[0m\u001b[1;34m'job_info_experience'\u001b[0m\u001b[1;33m]\u001b[0m\u001b[1;33m=\u001b[0m\u001b[0mle\u001b[0m\u001b[1;33m.\u001b[0m\u001b[0mfit_transform\u001b[0m\u001b[1;33m(\u001b[0m\u001b[0me\u001b[0m\u001b[1;33m[\u001b[0m\u001b[1;34m'job_info_experience'\u001b[0m\u001b[1;33m]\u001b[0m\u001b[1;33m)\u001b[0m\u001b[1;33m\u001b[0m\u001b[0m\n\u001b[0m",
      "\u001b[1;31mNameError\u001b[0m: name 'e' is not defined"
     ]
    }
   ],
   "source": [
    "e['job_info_experience']=le.fit_transform(e['job_info_experience'])"
   ]
  },
  {
   "cell_type": "code",
   "execution_count": 228,
   "metadata": {},
   "outputs": [],
   "source": [
    "e['case_status']=le.fit_transform(e['case_status'])"
   ]
  },
  {
   "cell_type": "code",
   "execution_count": 229,
   "metadata": {},
   "outputs": [],
   "source": [
    "e['foreign_worker_info_req_experience']=le.fit_transform(e['foreign_worker_info_req_experience'])"
   ]
  },
  {
   "cell_type": "code",
   "execution_count": 17,
   "metadata": {},
   "outputs": [],
   "source": [
    "dummy=pd.get_dummies(dd,'class_of_admission', 'country_of_citizen','pw_level_9089')"
   ]
  },
  {
   "cell_type": "code",
   "execution_count": 18,
   "metadata": {},
   "outputs": [
    {
     "data": {
      "text/html": [
       "<div>\n",
       "<style scoped>\n",
       "    .dataframe tbody tr th:only-of-type {\n",
       "        vertical-align: middle;\n",
       "    }\n",
       "\n",
       "    .dataframe tbody tr th {\n",
       "        vertical-align: top;\n",
       "    }\n",
       "\n",
       "    .dataframe thead th {\n",
       "        text-align: right;\n",
       "    }\n",
       "</style>\n",
       "<table border=\"1\" class=\"dataframe\">\n",
       "  <thead>\n",
       "    <tr style=\"text-align: right;\">\n",
       "      <th></th>\n",
       "      <th>employer_num_employees</th>\n",
       "      <th>job_info_experience_num_months</th>\n",
       "      <th>class_of_admissioncountry_of_citizenCertified</th>\n",
       "      <th>class_of_admissioncountry_of_citizenDenied</th>\n",
       "      <th>class_of_admissioncountry_of_citizennan</th>\n",
       "      <th>class_of_admissioncountry_of_citizenA-3</th>\n",
       "      <th>class_of_admissioncountry_of_citizenA1/A2</th>\n",
       "      <th>class_of_admissioncountry_of_citizenB-1</th>\n",
       "      <th>class_of_admissioncountry_of_citizenB-2</th>\n",
       "      <th>class_of_admissioncountry_of_citizenC-1</th>\n",
       "      <th>...</th>\n",
       "      <th>class_of_admissioncountry_of_citizenY</th>\n",
       "      <th>class_of_admissioncountry_of_citizennan</th>\n",
       "      <th>class_of_admissioncountry_of_citizenN</th>\n",
       "      <th>class_of_admissioncountry_of_citizenY</th>\n",
       "      <th>class_of_admissioncountry_of_citizennan</th>\n",
       "      <th>class_of_admissioncountry_of_citizenLevel I</th>\n",
       "      <th>class_of_admissioncountry_of_citizenLevel II</th>\n",
       "      <th>class_of_admissioncountry_of_citizenLevel III</th>\n",
       "      <th>class_of_admissioncountry_of_citizenLevel IV</th>\n",
       "      <th>class_of_admissioncountry_of_citizennan</th>\n",
       "    </tr>\n",
       "  </thead>\n",
       "  <tbody>\n",
       "    <tr>\n",
       "      <th>135271</th>\n",
       "      <td>4</td>\n",
       "      <td>36</td>\n",
       "      <td>0</td>\n",
       "      <td>1</td>\n",
       "      <td>0</td>\n",
       "      <td>0</td>\n",
       "      <td>0</td>\n",
       "      <td>0</td>\n",
       "      <td>0</td>\n",
       "      <td>0</td>\n",
       "      <td>...</td>\n",
       "      <td>1</td>\n",
       "      <td>0</td>\n",
       "      <td>0</td>\n",
       "      <td>1</td>\n",
       "      <td>0</td>\n",
       "      <td>1</td>\n",
       "      <td>0</td>\n",
       "      <td>0</td>\n",
       "      <td>0</td>\n",
       "      <td>0</td>\n",
       "    </tr>\n",
       "    <tr>\n",
       "      <th>135302</th>\n",
       "      <td>12</td>\n",
       "      <td>60</td>\n",
       "      <td>0</td>\n",
       "      <td>1</td>\n",
       "      <td>0</td>\n",
       "      <td>0</td>\n",
       "      <td>0</td>\n",
       "      <td>0</td>\n",
       "      <td>0</td>\n",
       "      <td>0</td>\n",
       "      <td>...</td>\n",
       "      <td>1</td>\n",
       "      <td>0</td>\n",
       "      <td>0</td>\n",
       "      <td>1</td>\n",
       "      <td>0</td>\n",
       "      <td>0</td>\n",
       "      <td>1</td>\n",
       "      <td>0</td>\n",
       "      <td>0</td>\n",
       "      <td>0</td>\n",
       "    </tr>\n",
       "    <tr>\n",
       "      <th>135313</th>\n",
       "      <td>13000</td>\n",
       "      <td>84</td>\n",
       "      <td>1</td>\n",
       "      <td>0</td>\n",
       "      <td>0</td>\n",
       "      <td>0</td>\n",
       "      <td>0</td>\n",
       "      <td>0</td>\n",
       "      <td>0</td>\n",
       "      <td>0</td>\n",
       "      <td>...</td>\n",
       "      <td>0</td>\n",
       "      <td>0</td>\n",
       "      <td>0</td>\n",
       "      <td>1</td>\n",
       "      <td>0</td>\n",
       "      <td>0</td>\n",
       "      <td>0</td>\n",
       "      <td>0</td>\n",
       "      <td>1</td>\n",
       "      <td>0</td>\n",
       "    </tr>\n",
       "    <tr>\n",
       "      <th>135338</th>\n",
       "      <td>42000</td>\n",
       "      <td>60</td>\n",
       "      <td>1</td>\n",
       "      <td>0</td>\n",
       "      <td>0</td>\n",
       "      <td>0</td>\n",
       "      <td>0</td>\n",
       "      <td>0</td>\n",
       "      <td>0</td>\n",
       "      <td>0</td>\n",
       "      <td>...</td>\n",
       "      <td>0</td>\n",
       "      <td>0</td>\n",
       "      <td>0</td>\n",
       "      <td>1</td>\n",
       "      <td>0</td>\n",
       "      <td>0</td>\n",
       "      <td>0</td>\n",
       "      <td>0</td>\n",
       "      <td>1</td>\n",
       "      <td>0</td>\n",
       "    </tr>\n",
       "    <tr>\n",
       "      <th>135347</th>\n",
       "      <td>16</td>\n",
       "      <td>60</td>\n",
       "      <td>0</td>\n",
       "      <td>1</td>\n",
       "      <td>0</td>\n",
       "      <td>0</td>\n",
       "      <td>0</td>\n",
       "      <td>0</td>\n",
       "      <td>0</td>\n",
       "      <td>0</td>\n",
       "      <td>...</td>\n",
       "      <td>0</td>\n",
       "      <td>0</td>\n",
       "      <td>0</td>\n",
       "      <td>1</td>\n",
       "      <td>0</td>\n",
       "      <td>0</td>\n",
       "      <td>0</td>\n",
       "      <td>0</td>\n",
       "      <td>1</td>\n",
       "      <td>0</td>\n",
       "    </tr>\n",
       "  </tbody>\n",
       "</table>\n",
       "<p>5 rows × 200 columns</p>\n",
       "</div>"
      ],
      "text/plain": [
       "        employer_num_employees  job_info_experience_num_months  \\\n",
       "135271                       4                              36   \n",
       "135302                      12                              60   \n",
       "135313                   13000                              84   \n",
       "135338                   42000                              60   \n",
       "135347                      16                              60   \n",
       "\n",
       "        class_of_admissioncountry_of_citizenCertified  \\\n",
       "135271                                              0   \n",
       "135302                                              0   \n",
       "135313                                              1   \n",
       "135338                                              1   \n",
       "135347                                              0   \n",
       "\n",
       "        class_of_admissioncountry_of_citizenDenied  \\\n",
       "135271                                           1   \n",
       "135302                                           1   \n",
       "135313                                           0   \n",
       "135338                                           0   \n",
       "135347                                           1   \n",
       "\n",
       "        class_of_admissioncountry_of_citizennan  \\\n",
       "135271                                        0   \n",
       "135302                                        0   \n",
       "135313                                        0   \n",
       "135338                                        0   \n",
       "135347                                        0   \n",
       "\n",
       "        class_of_admissioncountry_of_citizenA-3  \\\n",
       "135271                                        0   \n",
       "135302                                        0   \n",
       "135313                                        0   \n",
       "135338                                        0   \n",
       "135347                                        0   \n",
       "\n",
       "        class_of_admissioncountry_of_citizenA1/A2  \\\n",
       "135271                                          0   \n",
       "135302                                          0   \n",
       "135313                                          0   \n",
       "135338                                          0   \n",
       "135347                                          0   \n",
       "\n",
       "        class_of_admissioncountry_of_citizenB-1  \\\n",
       "135271                                        0   \n",
       "135302                                        0   \n",
       "135313                                        0   \n",
       "135338                                        0   \n",
       "135347                                        0   \n",
       "\n",
       "        class_of_admissioncountry_of_citizenB-2  \\\n",
       "135271                                        0   \n",
       "135302                                        0   \n",
       "135313                                        0   \n",
       "135338                                        0   \n",
       "135347                                        0   \n",
       "\n",
       "        class_of_admissioncountry_of_citizenC-1  \\\n",
       "135271                                        0   \n",
       "135302                                        0   \n",
       "135313                                        0   \n",
       "135338                                        0   \n",
       "135347                                        0   \n",
       "\n",
       "                         ...                     \\\n",
       "135271                   ...                      \n",
       "135302                   ...                      \n",
       "135313                   ...                      \n",
       "135338                   ...                      \n",
       "135347                   ...                      \n",
       "\n",
       "        class_of_admissioncountry_of_citizenY  \\\n",
       "135271                                      1   \n",
       "135302                                      1   \n",
       "135313                                      0   \n",
       "135338                                      0   \n",
       "135347                                      0   \n",
       "\n",
       "        class_of_admissioncountry_of_citizennan  \\\n",
       "135271                                        0   \n",
       "135302                                        0   \n",
       "135313                                        0   \n",
       "135338                                        0   \n",
       "135347                                        0   \n",
       "\n",
       "        class_of_admissioncountry_of_citizenN  \\\n",
       "135271                                      0   \n",
       "135302                                      0   \n",
       "135313                                      0   \n",
       "135338                                      0   \n",
       "135347                                      0   \n",
       "\n",
       "        class_of_admissioncountry_of_citizenY  \\\n",
       "135271                                      1   \n",
       "135302                                      1   \n",
       "135313                                      1   \n",
       "135338                                      1   \n",
       "135347                                      1   \n",
       "\n",
       "        class_of_admissioncountry_of_citizennan  \\\n",
       "135271                                        0   \n",
       "135302                                        0   \n",
       "135313                                        0   \n",
       "135338                                        0   \n",
       "135347                                        0   \n",
       "\n",
       "        class_of_admissioncountry_of_citizenLevel I  \\\n",
       "135271                                            1   \n",
       "135302                                            0   \n",
       "135313                                            0   \n",
       "135338                                            0   \n",
       "135347                                            0   \n",
       "\n",
       "        class_of_admissioncountry_of_citizenLevel II  \\\n",
       "135271                                             0   \n",
       "135302                                             1   \n",
       "135313                                             0   \n",
       "135338                                             0   \n",
       "135347                                             0   \n",
       "\n",
       "        class_of_admissioncountry_of_citizenLevel III  \\\n",
       "135271                                              0   \n",
       "135302                                              0   \n",
       "135313                                              0   \n",
       "135338                                              0   \n",
       "135347                                              0   \n",
       "\n",
       "        class_of_admissioncountry_of_citizenLevel IV  \\\n",
       "135271                                             0   \n",
       "135302                                             0   \n",
       "135313                                             1   \n",
       "135338                                             1   \n",
       "135347                                             1   \n",
       "\n",
       "        class_of_admissioncountry_of_citizennan  \n",
       "135271                                        0  \n",
       "135302                                        0  \n",
       "135313                                        0  \n",
       "135338                                        0  \n",
       "135347                                        0  \n",
       "\n",
       "[5 rows x 200 columns]"
      ]
     },
     "execution_count": 18,
     "metadata": {},
     "output_type": "execute_result"
    }
   ],
   "source": [
    "dummy.head()"
   ]
  },
  {
   "cell_type": "code",
   "execution_count": 173,
   "metadata": {},
   "outputs": [
    {
     "data": {
      "text/html": [
       "<div>\n",
       "<style scoped>\n",
       "    .dataframe tbody tr th:only-of-type {\n",
       "        vertical-align: middle;\n",
       "    }\n",
       "\n",
       "    .dataframe tbody tr th {\n",
       "        vertical-align: top;\n",
       "    }\n",
       "\n",
       "    .dataframe thead th {\n",
       "        text-align: right;\n",
       "    }\n",
       "</style>\n",
       "<table border=\"1\" class=\"dataframe\">\n",
       "  <thead>\n",
       "    <tr style=\"text-align: right;\">\n",
       "      <th></th>\n",
       "      <th>class_of_admission</th>\n",
       "      <th>country_of_citizen</th>\n",
       "      <th>employer_num_employees</th>\n",
       "      <th>foreign_worker_info_req_experience</th>\n",
       "      <th>job_info_experience_num_months</th>\n",
       "      <th>job_info_experience</th>\n",
       "      <th>pw_level_9089</th>\n",
       "    </tr>\n",
       "  </thead>\n",
       "  <tbody>\n",
       "    <tr>\n",
       "      <th>135271</th>\n",
       "      <td>H-1B</td>\n",
       "      <td>GERMANY</td>\n",
       "      <td>4.0</td>\n",
       "      <td>Y</td>\n",
       "      <td>36.0</td>\n",
       "      <td>Y</td>\n",
       "      <td>Level I</td>\n",
       "    </tr>\n",
       "    <tr>\n",
       "      <th>135302</th>\n",
       "      <td>E-1</td>\n",
       "      <td>TURKEY</td>\n",
       "      <td>12.0</td>\n",
       "      <td>Y</td>\n",
       "      <td>60.0</td>\n",
       "      <td>Y</td>\n",
       "      <td>Level II</td>\n",
       "    </tr>\n",
       "    <tr>\n",
       "      <th>135313</th>\n",
       "      <td>L-1</td>\n",
       "      <td>FRANCE</td>\n",
       "      <td>13000.0</td>\n",
       "      <td>N</td>\n",
       "      <td>84.0</td>\n",
       "      <td>Y</td>\n",
       "      <td>Level IV</td>\n",
       "    </tr>\n",
       "    <tr>\n",
       "      <th>135338</th>\n",
       "      <td>H-1B</td>\n",
       "      <td>INDIA</td>\n",
       "      <td>42000.0</td>\n",
       "      <td>N</td>\n",
       "      <td>60.0</td>\n",
       "      <td>Y</td>\n",
       "      <td>Level IV</td>\n",
       "    </tr>\n",
       "    <tr>\n",
       "      <th>135347</th>\n",
       "      <td>TN</td>\n",
       "      <td>CANADA</td>\n",
       "      <td>16.0</td>\n",
       "      <td>N</td>\n",
       "      <td>60.0</td>\n",
       "      <td>Y</td>\n",
       "      <td>Level IV</td>\n",
       "    </tr>\n",
       "  </tbody>\n",
       "</table>\n",
       "</div>"
      ],
      "text/plain": [
       "       class_of_admission country_of_citizen  employer_num_employees  \\\n",
       "135271               H-1B            GERMANY                     4.0   \n",
       "135302                E-1             TURKEY                    12.0   \n",
       "135313                L-1             FRANCE                 13000.0   \n",
       "135338               H-1B              INDIA                 42000.0   \n",
       "135347                 TN             CANADA                    16.0   \n",
       "\n",
       "       foreign_worker_info_req_experience  job_info_experience_num_months  \\\n",
       "135271                                  Y                            36.0   \n",
       "135302                                  Y                            60.0   \n",
       "135313                                  N                            84.0   \n",
       "135338                                  N                            60.0   \n",
       "135347                                  N                            60.0   \n",
       "\n",
       "       job_info_experience pw_level_9089  \n",
       "135271                   Y       Level I  \n",
       "135302                   Y      Level II  \n",
       "135313                   Y      Level IV  \n",
       "135338                   Y      Level IV  \n",
       "135347                   Y      Level IV  "
      ]
     },
     "execution_count": 173,
     "metadata": {},
     "output_type": "execute_result"
    }
   ],
   "source": [
    "dd.head()"
   ]
  },
  {
   "cell_type": "code",
   "execution_count": 174,
   "metadata": {},
   "outputs": [
    {
     "data": {
      "text/plain": [
       "Index(['employer_num_employees', 'job_info_experience_num_months',\n",
       "       'class_of_admissioncountry_of_citizenA-3',\n",
       "       'class_of_admissioncountry_of_citizenA1/A2',\n",
       "       'class_of_admissioncountry_of_citizenB-1',\n",
       "       'class_of_admissioncountry_of_citizenB-2',\n",
       "       'class_of_admissioncountry_of_citizenC-1',\n",
       "       'class_of_admissioncountry_of_citizenC-3',\n",
       "       'class_of_admissioncountry_of_citizenE-1',\n",
       "       'class_of_admissioncountry_of_citizenE-2',\n",
       "       ...\n",
       "       'class_of_admissioncountry_of_citizenY',\n",
       "       'class_of_admissioncountry_of_citizennan',\n",
       "       'class_of_admissioncountry_of_citizenN',\n",
       "       'class_of_admissioncountry_of_citizenY',\n",
       "       'class_of_admissioncountry_of_citizennan',\n",
       "       'class_of_admissioncountry_of_citizenLevel I',\n",
       "       'class_of_admissioncountry_of_citizenLevel II',\n",
       "       'class_of_admissioncountry_of_citizenLevel III',\n",
       "       'class_of_admissioncountry_of_citizenLevel IV',\n",
       "       'class_of_admissioncountry_of_citizennan'],\n",
       "      dtype='object', length=197)"
      ]
     },
     "execution_count": 174,
     "metadata": {},
     "output_type": "execute_result"
    }
   ],
   "source": [
    "dummy.columns"
   ]
  },
  {
   "cell_type": "code",
   "execution_count": 224,
   "metadata": {},
   "outputs": [],
   "source": [
    "dummy.drop(['employer_num_employees', 'job_info_experience_num_months'],axis=1,inplace=True)"
   ]
  },
  {
   "cell_type": "code",
   "execution_count": 225,
   "metadata": {},
   "outputs": [],
   "source": [
    "e=pd.concat([dd,dummy],axis=1)"
   ]
  },
  {
   "cell_type": "code",
   "execution_count": 230,
   "metadata": {},
   "outputs": [
    {
     "data": {
      "text/html": [
       "<div>\n",
       "<style scoped>\n",
       "    .dataframe tbody tr th:only-of-type {\n",
       "        vertical-align: middle;\n",
       "    }\n",
       "\n",
       "    .dataframe tbody tr th {\n",
       "        vertical-align: top;\n",
       "    }\n",
       "\n",
       "    .dataframe thead th {\n",
       "        text-align: right;\n",
       "    }\n",
       "</style>\n",
       "<table border=\"1\" class=\"dataframe\">\n",
       "  <thead>\n",
       "    <tr style=\"text-align: right;\">\n",
       "      <th></th>\n",
       "      <th>case_status</th>\n",
       "      <th>class_of_admission</th>\n",
       "      <th>country_of_citizen</th>\n",
       "      <th>employer_num_employees</th>\n",
       "      <th>foreign_worker_info_req_experience</th>\n",
       "      <th>job_info_experience_num_months</th>\n",
       "      <th>job_info_experience</th>\n",
       "      <th>pw_level_9089</th>\n",
       "      <th>class_of_admissioncountry_of_citizenCertified</th>\n",
       "      <th>class_of_admissioncountry_of_citizenDenied</th>\n",
       "      <th>...</th>\n",
       "      <th>class_of_admissioncountry_of_citizenY</th>\n",
       "      <th>class_of_admissioncountry_of_citizennan</th>\n",
       "      <th>class_of_admissioncountry_of_citizenN</th>\n",
       "      <th>class_of_admissioncountry_of_citizenY</th>\n",
       "      <th>class_of_admissioncountry_of_citizennan</th>\n",
       "      <th>class_of_admissioncountry_of_citizenLevel I</th>\n",
       "      <th>class_of_admissioncountry_of_citizenLevel II</th>\n",
       "      <th>class_of_admissioncountry_of_citizenLevel III</th>\n",
       "      <th>class_of_admissioncountry_of_citizenLevel IV</th>\n",
       "      <th>class_of_admissioncountry_of_citizennan</th>\n",
       "    </tr>\n",
       "  </thead>\n",
       "  <tbody>\n",
       "    <tr>\n",
       "      <th>135271</th>\n",
       "      <td>1</td>\n",
       "      <td>H-1B</td>\n",
       "      <td>GERMANY</td>\n",
       "      <td>4.0</td>\n",
       "      <td>1</td>\n",
       "      <td>36.0</td>\n",
       "      <td>1</td>\n",
       "      <td>Level I</td>\n",
       "      <td>0</td>\n",
       "      <td>1</td>\n",
       "      <td>...</td>\n",
       "      <td>1</td>\n",
       "      <td>0</td>\n",
       "      <td>0</td>\n",
       "      <td>1</td>\n",
       "      <td>0</td>\n",
       "      <td>1</td>\n",
       "      <td>0</td>\n",
       "      <td>0</td>\n",
       "      <td>0</td>\n",
       "      <td>0</td>\n",
       "    </tr>\n",
       "    <tr>\n",
       "      <th>135302</th>\n",
       "      <td>1</td>\n",
       "      <td>E-1</td>\n",
       "      <td>TURKEY</td>\n",
       "      <td>12.0</td>\n",
       "      <td>1</td>\n",
       "      <td>60.0</td>\n",
       "      <td>1</td>\n",
       "      <td>Level II</td>\n",
       "      <td>0</td>\n",
       "      <td>1</td>\n",
       "      <td>...</td>\n",
       "      <td>1</td>\n",
       "      <td>0</td>\n",
       "      <td>0</td>\n",
       "      <td>1</td>\n",
       "      <td>0</td>\n",
       "      <td>0</td>\n",
       "      <td>1</td>\n",
       "      <td>0</td>\n",
       "      <td>0</td>\n",
       "      <td>0</td>\n",
       "    </tr>\n",
       "    <tr>\n",
       "      <th>135313</th>\n",
       "      <td>0</td>\n",
       "      <td>L-1</td>\n",
       "      <td>FRANCE</td>\n",
       "      <td>13000.0</td>\n",
       "      <td>0</td>\n",
       "      <td>84.0</td>\n",
       "      <td>1</td>\n",
       "      <td>Level IV</td>\n",
       "      <td>1</td>\n",
       "      <td>0</td>\n",
       "      <td>...</td>\n",
       "      <td>0</td>\n",
       "      <td>0</td>\n",
       "      <td>0</td>\n",
       "      <td>1</td>\n",
       "      <td>0</td>\n",
       "      <td>0</td>\n",
       "      <td>0</td>\n",
       "      <td>0</td>\n",
       "      <td>1</td>\n",
       "      <td>0</td>\n",
       "    </tr>\n",
       "    <tr>\n",
       "      <th>135338</th>\n",
       "      <td>0</td>\n",
       "      <td>H-1B</td>\n",
       "      <td>INDIA</td>\n",
       "      <td>42000.0</td>\n",
       "      <td>0</td>\n",
       "      <td>60.0</td>\n",
       "      <td>1</td>\n",
       "      <td>Level IV</td>\n",
       "      <td>1</td>\n",
       "      <td>0</td>\n",
       "      <td>...</td>\n",
       "      <td>0</td>\n",
       "      <td>0</td>\n",
       "      <td>0</td>\n",
       "      <td>1</td>\n",
       "      <td>0</td>\n",
       "      <td>0</td>\n",
       "      <td>0</td>\n",
       "      <td>0</td>\n",
       "      <td>1</td>\n",
       "      <td>0</td>\n",
       "    </tr>\n",
       "    <tr>\n",
       "      <th>135347</th>\n",
       "      <td>1</td>\n",
       "      <td>TN</td>\n",
       "      <td>CANADA</td>\n",
       "      <td>16.0</td>\n",
       "      <td>0</td>\n",
       "      <td>60.0</td>\n",
       "      <td>1</td>\n",
       "      <td>Level IV</td>\n",
       "      <td>0</td>\n",
       "      <td>1</td>\n",
       "      <td>...</td>\n",
       "      <td>0</td>\n",
       "      <td>0</td>\n",
       "      <td>0</td>\n",
       "      <td>1</td>\n",
       "      <td>0</td>\n",
       "      <td>0</td>\n",
       "      <td>0</td>\n",
       "      <td>0</td>\n",
       "      <td>1</td>\n",
       "      <td>0</td>\n",
       "    </tr>\n",
       "  </tbody>\n",
       "</table>\n",
       "<p>5 rows × 206 columns</p>\n",
       "</div>"
      ],
      "text/plain": [
       "        case_status class_of_admission country_of_citizen  \\\n",
       "135271            1               H-1B            GERMANY   \n",
       "135302            1                E-1             TURKEY   \n",
       "135313            0                L-1             FRANCE   \n",
       "135338            0               H-1B              INDIA   \n",
       "135347            1                 TN             CANADA   \n",
       "\n",
       "        employer_num_employees  foreign_worker_info_req_experience  \\\n",
       "135271                     4.0                                   1   \n",
       "135302                    12.0                                   1   \n",
       "135313                 13000.0                                   0   \n",
       "135338                 42000.0                                   0   \n",
       "135347                    16.0                                   0   \n",
       "\n",
       "        job_info_experience_num_months  job_info_experience pw_level_9089  \\\n",
       "135271                            36.0                    1       Level I   \n",
       "135302                            60.0                    1      Level II   \n",
       "135313                            84.0                    1      Level IV   \n",
       "135338                            60.0                    1      Level IV   \n",
       "135347                            60.0                    1      Level IV   \n",
       "\n",
       "        class_of_admissioncountry_of_citizenCertified  \\\n",
       "135271                                              0   \n",
       "135302                                              0   \n",
       "135313                                              1   \n",
       "135338                                              1   \n",
       "135347                                              0   \n",
       "\n",
       "        class_of_admissioncountry_of_citizenDenied  \\\n",
       "135271                                           1   \n",
       "135302                                           1   \n",
       "135313                                           0   \n",
       "135338                                           0   \n",
       "135347                                           1   \n",
       "\n",
       "                         ...                     \\\n",
       "135271                   ...                      \n",
       "135302                   ...                      \n",
       "135313                   ...                      \n",
       "135338                   ...                      \n",
       "135347                   ...                      \n",
       "\n",
       "        class_of_admissioncountry_of_citizenY  \\\n",
       "135271                                      1   \n",
       "135302                                      1   \n",
       "135313                                      0   \n",
       "135338                                      0   \n",
       "135347                                      0   \n",
       "\n",
       "        class_of_admissioncountry_of_citizennan  \\\n",
       "135271                                        0   \n",
       "135302                                        0   \n",
       "135313                                        0   \n",
       "135338                                        0   \n",
       "135347                                        0   \n",
       "\n",
       "        class_of_admissioncountry_of_citizenN  \\\n",
       "135271                                      0   \n",
       "135302                                      0   \n",
       "135313                                      0   \n",
       "135338                                      0   \n",
       "135347                                      0   \n",
       "\n",
       "        class_of_admissioncountry_of_citizenY  \\\n",
       "135271                                      1   \n",
       "135302                                      1   \n",
       "135313                                      1   \n",
       "135338                                      1   \n",
       "135347                                      1   \n",
       "\n",
       "        class_of_admissioncountry_of_citizennan  \\\n",
       "135271                                        0   \n",
       "135302                                        0   \n",
       "135313                                        0   \n",
       "135338                                        0   \n",
       "135347                                        0   \n",
       "\n",
       "        class_of_admissioncountry_of_citizenLevel I  \\\n",
       "135271                                            1   \n",
       "135302                                            0   \n",
       "135313                                            0   \n",
       "135338                                            0   \n",
       "135347                                            0   \n",
       "\n",
       "        class_of_admissioncountry_of_citizenLevel II  \\\n",
       "135271                                             0   \n",
       "135302                                             1   \n",
       "135313                                             0   \n",
       "135338                                             0   \n",
       "135347                                             0   \n",
       "\n",
       "        class_of_admissioncountry_of_citizenLevel III  \\\n",
       "135271                                              0   \n",
       "135302                                              0   \n",
       "135313                                              0   \n",
       "135338                                              0   \n",
       "135347                                              0   \n",
       "\n",
       "        class_of_admissioncountry_of_citizenLevel IV  \\\n",
       "135271                                             0   \n",
       "135302                                             0   \n",
       "135313                                             1   \n",
       "135338                                             1   \n",
       "135347                                             1   \n",
       "\n",
       "        class_of_admissioncountry_of_citizennan  \n",
       "135271                                        0  \n",
       "135302                                        0  \n",
       "135313                                        0  \n",
       "135338                                        0  \n",
       "135347                                        0  \n",
       "\n",
       "[5 rows x 206 columns]"
      ]
     },
     "execution_count": 230,
     "metadata": {},
     "output_type": "execute_result"
    }
   ],
   "source": [
    "e.head()"
   ]
  },
  {
   "cell_type": "code",
   "execution_count": 231,
   "metadata": {},
   "outputs": [],
   "source": [
    "e.drop(['class_of_admission','country_of_citizen','pw_level_9089','class_of_admissioncountry_of_citizenB-1','class_of_admissioncountry_of_citizenLevel I','class_of_admissioncountry_of_citizenPAKISTAN'],axis=1,inplace=True)"
   ]
  },
  {
   "cell_type": "code",
   "execution_count": 232,
   "metadata": {},
   "outputs": [
    {
     "data": {
      "text/html": [
       "<div>\n",
       "<style scoped>\n",
       "    .dataframe tbody tr th:only-of-type {\n",
       "        vertical-align: middle;\n",
       "    }\n",
       "\n",
       "    .dataframe tbody tr th {\n",
       "        vertical-align: top;\n",
       "    }\n",
       "\n",
       "    .dataframe thead th {\n",
       "        text-align: right;\n",
       "    }\n",
       "</style>\n",
       "<table border=\"1\" class=\"dataframe\">\n",
       "  <thead>\n",
       "    <tr style=\"text-align: right;\">\n",
       "      <th></th>\n",
       "      <th>case_status</th>\n",
       "      <th>employer_num_employees</th>\n",
       "      <th>foreign_worker_info_req_experience</th>\n",
       "      <th>job_info_experience_num_months</th>\n",
       "      <th>job_info_experience</th>\n",
       "      <th>class_of_admissioncountry_of_citizenCertified</th>\n",
       "      <th>class_of_admissioncountry_of_citizenDenied</th>\n",
       "      <th>class_of_admissioncountry_of_citizennan</th>\n",
       "      <th>class_of_admissioncountry_of_citizenA-3</th>\n",
       "      <th>class_of_admissioncountry_of_citizenA1/A2</th>\n",
       "      <th>...</th>\n",
       "      <th>class_of_admissioncountry_of_citizenN</th>\n",
       "      <th>class_of_admissioncountry_of_citizenY</th>\n",
       "      <th>class_of_admissioncountry_of_citizennan</th>\n",
       "      <th>class_of_admissioncountry_of_citizenN</th>\n",
       "      <th>class_of_admissioncountry_of_citizenY</th>\n",
       "      <th>class_of_admissioncountry_of_citizennan</th>\n",
       "      <th>class_of_admissioncountry_of_citizenLevel II</th>\n",
       "      <th>class_of_admissioncountry_of_citizenLevel III</th>\n",
       "      <th>class_of_admissioncountry_of_citizenLevel IV</th>\n",
       "      <th>class_of_admissioncountry_of_citizennan</th>\n",
       "    </tr>\n",
       "  </thead>\n",
       "  <tbody>\n",
       "    <tr>\n",
       "      <th>135271</th>\n",
       "      <td>1</td>\n",
       "      <td>4.0</td>\n",
       "      <td>1</td>\n",
       "      <td>36.0</td>\n",
       "      <td>1</td>\n",
       "      <td>0</td>\n",
       "      <td>1</td>\n",
       "      <td>0</td>\n",
       "      <td>0</td>\n",
       "      <td>0</td>\n",
       "      <td>...</td>\n",
       "      <td>0</td>\n",
       "      <td>1</td>\n",
       "      <td>0</td>\n",
       "      <td>0</td>\n",
       "      <td>1</td>\n",
       "      <td>0</td>\n",
       "      <td>0</td>\n",
       "      <td>0</td>\n",
       "      <td>0</td>\n",
       "      <td>0</td>\n",
       "    </tr>\n",
       "    <tr>\n",
       "      <th>135302</th>\n",
       "      <td>1</td>\n",
       "      <td>12.0</td>\n",
       "      <td>1</td>\n",
       "      <td>60.0</td>\n",
       "      <td>1</td>\n",
       "      <td>0</td>\n",
       "      <td>1</td>\n",
       "      <td>0</td>\n",
       "      <td>0</td>\n",
       "      <td>0</td>\n",
       "      <td>...</td>\n",
       "      <td>0</td>\n",
       "      <td>1</td>\n",
       "      <td>0</td>\n",
       "      <td>0</td>\n",
       "      <td>1</td>\n",
       "      <td>0</td>\n",
       "      <td>1</td>\n",
       "      <td>0</td>\n",
       "      <td>0</td>\n",
       "      <td>0</td>\n",
       "    </tr>\n",
       "    <tr>\n",
       "      <th>135313</th>\n",
       "      <td>0</td>\n",
       "      <td>13000.0</td>\n",
       "      <td>0</td>\n",
       "      <td>84.0</td>\n",
       "      <td>1</td>\n",
       "      <td>1</td>\n",
       "      <td>0</td>\n",
       "      <td>0</td>\n",
       "      <td>0</td>\n",
       "      <td>0</td>\n",
       "      <td>...</td>\n",
       "      <td>1</td>\n",
       "      <td>0</td>\n",
       "      <td>0</td>\n",
       "      <td>0</td>\n",
       "      <td>1</td>\n",
       "      <td>0</td>\n",
       "      <td>0</td>\n",
       "      <td>0</td>\n",
       "      <td>1</td>\n",
       "      <td>0</td>\n",
       "    </tr>\n",
       "    <tr>\n",
       "      <th>135338</th>\n",
       "      <td>0</td>\n",
       "      <td>42000.0</td>\n",
       "      <td>0</td>\n",
       "      <td>60.0</td>\n",
       "      <td>1</td>\n",
       "      <td>1</td>\n",
       "      <td>0</td>\n",
       "      <td>0</td>\n",
       "      <td>0</td>\n",
       "      <td>0</td>\n",
       "      <td>...</td>\n",
       "      <td>1</td>\n",
       "      <td>0</td>\n",
       "      <td>0</td>\n",
       "      <td>0</td>\n",
       "      <td>1</td>\n",
       "      <td>0</td>\n",
       "      <td>0</td>\n",
       "      <td>0</td>\n",
       "      <td>1</td>\n",
       "      <td>0</td>\n",
       "    </tr>\n",
       "    <tr>\n",
       "      <th>135347</th>\n",
       "      <td>1</td>\n",
       "      <td>16.0</td>\n",
       "      <td>0</td>\n",
       "      <td>60.0</td>\n",
       "      <td>1</td>\n",
       "      <td>0</td>\n",
       "      <td>1</td>\n",
       "      <td>0</td>\n",
       "      <td>0</td>\n",
       "      <td>0</td>\n",
       "      <td>...</td>\n",
       "      <td>1</td>\n",
       "      <td>0</td>\n",
       "      <td>0</td>\n",
       "      <td>0</td>\n",
       "      <td>1</td>\n",
       "      <td>0</td>\n",
       "      <td>0</td>\n",
       "      <td>0</td>\n",
       "      <td>1</td>\n",
       "      <td>0</td>\n",
       "    </tr>\n",
       "  </tbody>\n",
       "</table>\n",
       "<p>5 rows × 200 columns</p>\n",
       "</div>"
      ],
      "text/plain": [
       "        case_status  employer_num_employees  \\\n",
       "135271            1                     4.0   \n",
       "135302            1                    12.0   \n",
       "135313            0                 13000.0   \n",
       "135338            0                 42000.0   \n",
       "135347            1                    16.0   \n",
       "\n",
       "        foreign_worker_info_req_experience  job_info_experience_num_months  \\\n",
       "135271                                   1                            36.0   \n",
       "135302                                   1                            60.0   \n",
       "135313                                   0                            84.0   \n",
       "135338                                   0                            60.0   \n",
       "135347                                   0                            60.0   \n",
       "\n",
       "        job_info_experience  class_of_admissioncountry_of_citizenCertified  \\\n",
       "135271                    1                                              0   \n",
       "135302                    1                                              0   \n",
       "135313                    1                                              1   \n",
       "135338                    1                                              1   \n",
       "135347                    1                                              0   \n",
       "\n",
       "        class_of_admissioncountry_of_citizenDenied  \\\n",
       "135271                                           1   \n",
       "135302                                           1   \n",
       "135313                                           0   \n",
       "135338                                           0   \n",
       "135347                                           1   \n",
       "\n",
       "        class_of_admissioncountry_of_citizennan  \\\n",
       "135271                                        0   \n",
       "135302                                        0   \n",
       "135313                                        0   \n",
       "135338                                        0   \n",
       "135347                                        0   \n",
       "\n",
       "        class_of_admissioncountry_of_citizenA-3  \\\n",
       "135271                                        0   \n",
       "135302                                        0   \n",
       "135313                                        0   \n",
       "135338                                        0   \n",
       "135347                                        0   \n",
       "\n",
       "        class_of_admissioncountry_of_citizenA1/A2  \\\n",
       "135271                                          0   \n",
       "135302                                          0   \n",
       "135313                                          0   \n",
       "135338                                          0   \n",
       "135347                                          0   \n",
       "\n",
       "                         ...                     \\\n",
       "135271                   ...                      \n",
       "135302                   ...                      \n",
       "135313                   ...                      \n",
       "135338                   ...                      \n",
       "135347                   ...                      \n",
       "\n",
       "        class_of_admissioncountry_of_citizenN  \\\n",
       "135271                                      0   \n",
       "135302                                      0   \n",
       "135313                                      1   \n",
       "135338                                      1   \n",
       "135347                                      1   \n",
       "\n",
       "        class_of_admissioncountry_of_citizenY  \\\n",
       "135271                                      1   \n",
       "135302                                      1   \n",
       "135313                                      0   \n",
       "135338                                      0   \n",
       "135347                                      0   \n",
       "\n",
       "        class_of_admissioncountry_of_citizennan  \\\n",
       "135271                                        0   \n",
       "135302                                        0   \n",
       "135313                                        0   \n",
       "135338                                        0   \n",
       "135347                                        0   \n",
       "\n",
       "        class_of_admissioncountry_of_citizenN  \\\n",
       "135271                                      0   \n",
       "135302                                      0   \n",
       "135313                                      0   \n",
       "135338                                      0   \n",
       "135347                                      0   \n",
       "\n",
       "        class_of_admissioncountry_of_citizenY  \\\n",
       "135271                                      1   \n",
       "135302                                      1   \n",
       "135313                                      1   \n",
       "135338                                      1   \n",
       "135347                                      1   \n",
       "\n",
       "        class_of_admissioncountry_of_citizennan  \\\n",
       "135271                                        0   \n",
       "135302                                        0   \n",
       "135313                                        0   \n",
       "135338                                        0   \n",
       "135347                                        0   \n",
       "\n",
       "        class_of_admissioncountry_of_citizenLevel II  \\\n",
       "135271                                             0   \n",
       "135302                                             1   \n",
       "135313                                             0   \n",
       "135338                                             0   \n",
       "135347                                             0   \n",
       "\n",
       "        class_of_admissioncountry_of_citizenLevel III  \\\n",
       "135271                                              0   \n",
       "135302                                              0   \n",
       "135313                                              0   \n",
       "135338                                              0   \n",
       "135347                                              0   \n",
       "\n",
       "        class_of_admissioncountry_of_citizenLevel IV  \\\n",
       "135271                                             0   \n",
       "135302                                             0   \n",
       "135313                                             1   \n",
       "135338                                             1   \n",
       "135347                                             1   \n",
       "\n",
       "        class_of_admissioncountry_of_citizennan  \n",
       "135271                                        0  \n",
       "135302                                        0  \n",
       "135313                                        0  \n",
       "135338                                        0  \n",
       "135347                                        0  \n",
       "\n",
       "[5 rows x 200 columns]"
      ]
     },
     "execution_count": 232,
     "metadata": {},
     "output_type": "execute_result"
    }
   ],
   "source": [
    "e.head()"
   ]
  },
  {
   "cell_type": "code",
   "execution_count": 233,
   "metadata": {},
   "outputs": [],
   "source": [
    "X=e.iloc[:,1:]"
   ]
  },
  {
   "cell_type": "code",
   "execution_count": 234,
   "metadata": {},
   "outputs": [
    {
     "data": {
      "text/html": [
       "<div>\n",
       "<style scoped>\n",
       "    .dataframe tbody tr th:only-of-type {\n",
       "        vertical-align: middle;\n",
       "    }\n",
       "\n",
       "    .dataframe tbody tr th {\n",
       "        vertical-align: top;\n",
       "    }\n",
       "\n",
       "    .dataframe thead th {\n",
       "        text-align: right;\n",
       "    }\n",
       "</style>\n",
       "<table border=\"1\" class=\"dataframe\">\n",
       "  <thead>\n",
       "    <tr style=\"text-align: right;\">\n",
       "      <th></th>\n",
       "      <th>employer_num_employees</th>\n",
       "      <th>foreign_worker_info_req_experience</th>\n",
       "      <th>job_info_experience_num_months</th>\n",
       "      <th>job_info_experience</th>\n",
       "      <th>class_of_admissioncountry_of_citizenCertified</th>\n",
       "      <th>class_of_admissioncountry_of_citizenDenied</th>\n",
       "      <th>class_of_admissioncountry_of_citizennan</th>\n",
       "      <th>class_of_admissioncountry_of_citizenA-3</th>\n",
       "      <th>class_of_admissioncountry_of_citizenA1/A2</th>\n",
       "      <th>class_of_admissioncountry_of_citizenB-2</th>\n",
       "      <th>...</th>\n",
       "      <th>class_of_admissioncountry_of_citizenN</th>\n",
       "      <th>class_of_admissioncountry_of_citizenY</th>\n",
       "      <th>class_of_admissioncountry_of_citizennan</th>\n",
       "      <th>class_of_admissioncountry_of_citizenN</th>\n",
       "      <th>class_of_admissioncountry_of_citizenY</th>\n",
       "      <th>class_of_admissioncountry_of_citizennan</th>\n",
       "      <th>class_of_admissioncountry_of_citizenLevel II</th>\n",
       "      <th>class_of_admissioncountry_of_citizenLevel III</th>\n",
       "      <th>class_of_admissioncountry_of_citizenLevel IV</th>\n",
       "      <th>class_of_admissioncountry_of_citizennan</th>\n",
       "    </tr>\n",
       "  </thead>\n",
       "  <tbody>\n",
       "    <tr>\n",
       "      <th>135271</th>\n",
       "      <td>4.0</td>\n",
       "      <td>1</td>\n",
       "      <td>36.0</td>\n",
       "      <td>1</td>\n",
       "      <td>0</td>\n",
       "      <td>1</td>\n",
       "      <td>0</td>\n",
       "      <td>0</td>\n",
       "      <td>0</td>\n",
       "      <td>0</td>\n",
       "      <td>...</td>\n",
       "      <td>0</td>\n",
       "      <td>1</td>\n",
       "      <td>0</td>\n",
       "      <td>0</td>\n",
       "      <td>1</td>\n",
       "      <td>0</td>\n",
       "      <td>0</td>\n",
       "      <td>0</td>\n",
       "      <td>0</td>\n",
       "      <td>0</td>\n",
       "    </tr>\n",
       "    <tr>\n",
       "      <th>135302</th>\n",
       "      <td>12.0</td>\n",
       "      <td>1</td>\n",
       "      <td>60.0</td>\n",
       "      <td>1</td>\n",
       "      <td>0</td>\n",
       "      <td>1</td>\n",
       "      <td>0</td>\n",
       "      <td>0</td>\n",
       "      <td>0</td>\n",
       "      <td>0</td>\n",
       "      <td>...</td>\n",
       "      <td>0</td>\n",
       "      <td>1</td>\n",
       "      <td>0</td>\n",
       "      <td>0</td>\n",
       "      <td>1</td>\n",
       "      <td>0</td>\n",
       "      <td>1</td>\n",
       "      <td>0</td>\n",
       "      <td>0</td>\n",
       "      <td>0</td>\n",
       "    </tr>\n",
       "    <tr>\n",
       "      <th>135313</th>\n",
       "      <td>13000.0</td>\n",
       "      <td>0</td>\n",
       "      <td>84.0</td>\n",
       "      <td>1</td>\n",
       "      <td>1</td>\n",
       "      <td>0</td>\n",
       "      <td>0</td>\n",
       "      <td>0</td>\n",
       "      <td>0</td>\n",
       "      <td>0</td>\n",
       "      <td>...</td>\n",
       "      <td>1</td>\n",
       "      <td>0</td>\n",
       "      <td>0</td>\n",
       "      <td>0</td>\n",
       "      <td>1</td>\n",
       "      <td>0</td>\n",
       "      <td>0</td>\n",
       "      <td>0</td>\n",
       "      <td>1</td>\n",
       "      <td>0</td>\n",
       "    </tr>\n",
       "    <tr>\n",
       "      <th>135338</th>\n",
       "      <td>42000.0</td>\n",
       "      <td>0</td>\n",
       "      <td>60.0</td>\n",
       "      <td>1</td>\n",
       "      <td>1</td>\n",
       "      <td>0</td>\n",
       "      <td>0</td>\n",
       "      <td>0</td>\n",
       "      <td>0</td>\n",
       "      <td>0</td>\n",
       "      <td>...</td>\n",
       "      <td>1</td>\n",
       "      <td>0</td>\n",
       "      <td>0</td>\n",
       "      <td>0</td>\n",
       "      <td>1</td>\n",
       "      <td>0</td>\n",
       "      <td>0</td>\n",
       "      <td>0</td>\n",
       "      <td>1</td>\n",
       "      <td>0</td>\n",
       "    </tr>\n",
       "    <tr>\n",
       "      <th>135347</th>\n",
       "      <td>16.0</td>\n",
       "      <td>0</td>\n",
       "      <td>60.0</td>\n",
       "      <td>1</td>\n",
       "      <td>0</td>\n",
       "      <td>1</td>\n",
       "      <td>0</td>\n",
       "      <td>0</td>\n",
       "      <td>0</td>\n",
       "      <td>0</td>\n",
       "      <td>...</td>\n",
       "      <td>1</td>\n",
       "      <td>0</td>\n",
       "      <td>0</td>\n",
       "      <td>0</td>\n",
       "      <td>1</td>\n",
       "      <td>0</td>\n",
       "      <td>0</td>\n",
       "      <td>0</td>\n",
       "      <td>1</td>\n",
       "      <td>0</td>\n",
       "    </tr>\n",
       "  </tbody>\n",
       "</table>\n",
       "<p>5 rows × 199 columns</p>\n",
       "</div>"
      ],
      "text/plain": [
       "        employer_num_employees  foreign_worker_info_req_experience  \\\n",
       "135271                     4.0                                   1   \n",
       "135302                    12.0                                   1   \n",
       "135313                 13000.0                                   0   \n",
       "135338                 42000.0                                   0   \n",
       "135347                    16.0                                   0   \n",
       "\n",
       "        job_info_experience_num_months  job_info_experience  \\\n",
       "135271                            36.0                    1   \n",
       "135302                            60.0                    1   \n",
       "135313                            84.0                    1   \n",
       "135338                            60.0                    1   \n",
       "135347                            60.0                    1   \n",
       "\n",
       "        class_of_admissioncountry_of_citizenCertified  \\\n",
       "135271                                              0   \n",
       "135302                                              0   \n",
       "135313                                              1   \n",
       "135338                                              1   \n",
       "135347                                              0   \n",
       "\n",
       "        class_of_admissioncountry_of_citizenDenied  \\\n",
       "135271                                           1   \n",
       "135302                                           1   \n",
       "135313                                           0   \n",
       "135338                                           0   \n",
       "135347                                           1   \n",
       "\n",
       "        class_of_admissioncountry_of_citizennan  \\\n",
       "135271                                        0   \n",
       "135302                                        0   \n",
       "135313                                        0   \n",
       "135338                                        0   \n",
       "135347                                        0   \n",
       "\n",
       "        class_of_admissioncountry_of_citizenA-3  \\\n",
       "135271                                        0   \n",
       "135302                                        0   \n",
       "135313                                        0   \n",
       "135338                                        0   \n",
       "135347                                        0   \n",
       "\n",
       "        class_of_admissioncountry_of_citizenA1/A2  \\\n",
       "135271                                          0   \n",
       "135302                                          0   \n",
       "135313                                          0   \n",
       "135338                                          0   \n",
       "135347                                          0   \n",
       "\n",
       "        class_of_admissioncountry_of_citizenB-2  \\\n",
       "135271                                        0   \n",
       "135302                                        0   \n",
       "135313                                        0   \n",
       "135338                                        0   \n",
       "135347                                        0   \n",
       "\n",
       "                         ...                     \\\n",
       "135271                   ...                      \n",
       "135302                   ...                      \n",
       "135313                   ...                      \n",
       "135338                   ...                      \n",
       "135347                   ...                      \n",
       "\n",
       "        class_of_admissioncountry_of_citizenN  \\\n",
       "135271                                      0   \n",
       "135302                                      0   \n",
       "135313                                      1   \n",
       "135338                                      1   \n",
       "135347                                      1   \n",
       "\n",
       "        class_of_admissioncountry_of_citizenY  \\\n",
       "135271                                      1   \n",
       "135302                                      1   \n",
       "135313                                      0   \n",
       "135338                                      0   \n",
       "135347                                      0   \n",
       "\n",
       "        class_of_admissioncountry_of_citizennan  \\\n",
       "135271                                        0   \n",
       "135302                                        0   \n",
       "135313                                        0   \n",
       "135338                                        0   \n",
       "135347                                        0   \n",
       "\n",
       "        class_of_admissioncountry_of_citizenN  \\\n",
       "135271                                      0   \n",
       "135302                                      0   \n",
       "135313                                      0   \n",
       "135338                                      0   \n",
       "135347                                      0   \n",
       "\n",
       "        class_of_admissioncountry_of_citizenY  \\\n",
       "135271                                      1   \n",
       "135302                                      1   \n",
       "135313                                      1   \n",
       "135338                                      1   \n",
       "135347                                      1   \n",
       "\n",
       "        class_of_admissioncountry_of_citizennan  \\\n",
       "135271                                        0   \n",
       "135302                                        0   \n",
       "135313                                        0   \n",
       "135338                                        0   \n",
       "135347                                        0   \n",
       "\n",
       "        class_of_admissioncountry_of_citizenLevel II  \\\n",
       "135271                                             0   \n",
       "135302                                             1   \n",
       "135313                                             0   \n",
       "135338                                             0   \n",
       "135347                                             0   \n",
       "\n",
       "        class_of_admissioncountry_of_citizenLevel III  \\\n",
       "135271                                              0   \n",
       "135302                                              0   \n",
       "135313                                              0   \n",
       "135338                                              0   \n",
       "135347                                              0   \n",
       "\n",
       "        class_of_admissioncountry_of_citizenLevel IV  \\\n",
       "135271                                             0   \n",
       "135302                                             0   \n",
       "135313                                             1   \n",
       "135338                                             1   \n",
       "135347                                             1   \n",
       "\n",
       "        class_of_admissioncountry_of_citizennan  \n",
       "135271                                        0  \n",
       "135302                                        0  \n",
       "135313                                        0  \n",
       "135338                                        0  \n",
       "135347                                        0  \n",
       "\n",
       "[5 rows x 199 columns]"
      ]
     },
     "execution_count": 234,
     "metadata": {},
     "output_type": "execute_result"
    }
   ],
   "source": [
    "X.head()"
   ]
  },
  {
   "cell_type": "code",
   "execution_count": 235,
   "metadata": {},
   "outputs": [],
   "source": [
    "y=e['case_status']"
   ]
  },
  {
   "cell_type": "code",
   "execution_count": 236,
   "metadata": {},
   "outputs": [],
   "source": [
    "from sklearn.model_selection import train_test_split\n",
    "X_train, X_test, y_train, y_test = train_test_split(X, y, test_size = 0.25, random_state = 0)"
   ]
  },
  {
   "cell_type": "code",
   "execution_count": 237,
   "metadata": {},
   "outputs": [],
   "source": [
    "from sklearn.preprocessing import StandardScaler\n",
    "sc = StandardScaler()\n",
    "X_train = sc.fit_transform(X_train)\n",
    "X_test = sc.transform(X_test)"
   ]
  },
  {
   "cell_type": "code",
   "execution_count": 238,
   "metadata": {},
   "outputs": [],
   "source": [
    "from sklearn.decomposition import PCA\n"
   ]
  },
  {
   "cell_type": "code",
   "execution_count": 241,
   "metadata": {},
   "outputs": [],
   "source": [
    "pca=PCA(n_components=2)"
   ]
  },
  {
   "cell_type": "code",
   "execution_count": 242,
   "metadata": {},
   "outputs": [],
   "source": [
    "X_train=pca.fit_transform(X_train)\n",
    "X_test=pca.fit_transform(X_test)"
   ]
  },
  {
   "cell_type": "code",
   "execution_count": 244,
   "metadata": {},
   "outputs": [],
   "source": [
    "from sklearn.linear_model import LogisticRegression"
   ]
  },
  {
   "cell_type": "code",
   "execution_count": 245,
   "metadata": {},
   "outputs": [],
   "source": [
    "lr=LogisticRegression()"
   ]
  },
  {
   "cell_type": "code",
   "execution_count": 246,
   "metadata": {},
   "outputs": [
    {
     "data": {
      "text/plain": [
       "LogisticRegression(C=1.0, class_weight=None, dual=False, fit_intercept=True,\n",
       "          intercept_scaling=1, max_iter=100, multi_class='ovr', n_jobs=1,\n",
       "          penalty='l2', random_state=None, solver='liblinear', tol=0.0001,\n",
       "          verbose=0, warm_start=False)"
      ]
     },
     "execution_count": 246,
     "metadata": {},
     "output_type": "execute_result"
    }
   ],
   "source": [
    "lr.fit(X_train,y_train)"
   ]
  },
  {
   "cell_type": "code",
   "execution_count": 247,
   "metadata": {},
   "outputs": [
    {
     "data": {
      "text/plain": [
       "0.9148678492555389"
      ]
     },
     "execution_count": 247,
     "metadata": {},
     "output_type": "execute_result"
    }
   ],
   "source": [
    "lr.score(X_train,y_train)"
   ]
  },
  {
   "cell_type": "code",
   "execution_count": 249,
   "metadata": {},
   "outputs": [],
   "source": [
    "pred=lr.predict(X_test)"
   ]
  },
  {
   "cell_type": "code",
   "execution_count": 252,
   "metadata": {},
   "outputs": [],
   "source": [
    "from sklearn.metrics import confusion_matrix,accuracy_score"
   ]
  },
  {
   "cell_type": "code",
   "execution_count": 253,
   "metadata": {},
   "outputs": [],
   "source": [
    "cm=confusion_matrix(pred,y_test)"
   ]
  },
  {
   "cell_type": "code",
   "execution_count": 254,
   "metadata": {},
   "outputs": [
    {
     "data": {
      "text/plain": [
       "array([[4257,  420],\n",
       "       [   3,    0]], dtype=int64)"
      ]
     },
     "execution_count": 254,
     "metadata": {},
     "output_type": "execute_result"
    }
   ],
   "source": [
    "cm"
   ]
  },
  {
   "cell_type": "code",
   "execution_count": 255,
   "metadata": {},
   "outputs": [
    {
     "data": {
      "text/plain": [
       "0.9096153846153846"
      ]
     },
     "execution_count": 255,
     "metadata": {},
     "output_type": "execute_result"
    }
   ],
   "source": [
    "accuracy_score(pred,y_test)"
   ]
  },
  {
   "cell_type": "code",
   "execution_count": 257,
   "metadata": {},
   "outputs": [
    {
     "name": "stderr",
     "output_type": "stream",
     "text": [
      "E:\\Anaconda3\\lib\\site-packages\\sklearn\\ensemble\\weight_boosting.py:29: DeprecationWarning: numpy.core.umath_tests is an internal NumPy module and should not be imported. It will be removed in a future NumPy release.\n",
      "  from numpy.core.umath_tests import inner1d\n"
     ]
    }
   ],
   "source": [
    "from sklearn.ensemble import RandomForestClassifier"
   ]
  },
  {
   "cell_type": "code",
   "execution_count": 268,
   "metadata": {},
   "outputs": [],
   "source": [
    "rf=RandomForestClassifier(n_estimators=10)"
   ]
  },
  {
   "cell_type": "code",
   "execution_count": 269,
   "metadata": {},
   "outputs": [
    {
     "data": {
      "text/plain": [
       "RandomForestClassifier(bootstrap=True, class_weight=None, criterion='gini',\n",
       "            max_depth=None, max_features='auto', max_leaf_nodes=None,\n",
       "            min_impurity_decrease=0.0, min_impurity_split=None,\n",
       "            min_samples_leaf=1, min_samples_split=2,\n",
       "            min_weight_fraction_leaf=0.0, n_estimators=10, n_jobs=1,\n",
       "            oob_score=False, random_state=None, verbose=0,\n",
       "            warm_start=False)"
      ]
     },
     "execution_count": 269,
     "metadata": {},
     "output_type": "execute_result"
    }
   ],
   "source": [
    "rf.fit(X_train,y_train)"
   ]
  },
  {
   "cell_type": "code",
   "execution_count": 270,
   "metadata": {},
   "outputs": [
    {
     "data": {
      "text/plain": [
       "0.9997150388259599"
      ]
     },
     "execution_count": 270,
     "metadata": {},
     "output_type": "execute_result"
    }
   ],
   "source": [
    "rf.score(X_train,y_train)"
   ]
  },
  {
   "cell_type": "code",
   "execution_count": 271,
   "metadata": {},
   "outputs": [],
   "source": [
    "y_pred=rf.predict(X_test)"
   ]
  },
  {
   "cell_type": "code",
   "execution_count": 272,
   "metadata": {},
   "outputs": [],
   "source": [
    "cms=confusion_matrix(y_pred,y_test)"
   ]
  },
  {
   "cell_type": "code",
   "execution_count": 273,
   "metadata": {},
   "outputs": [
    {
     "data": {
      "text/plain": [
       "array([[3987,   25],\n",
       "       [ 273,  395]], dtype=int64)"
      ]
     },
     "execution_count": 273,
     "metadata": {},
     "output_type": "execute_result"
    }
   ],
   "source": [
    "cms"
   ]
  },
  {
   "cell_type": "code",
   "execution_count": 274,
   "metadata": {},
   "outputs": [
    {
     "data": {
      "text/plain": [
       "0.9363247863247863"
      ]
     },
     "execution_count": 274,
     "metadata": {},
     "output_type": "execute_result"
    }
   ],
   "source": [
    "accuracy_score(y_pred,y_test)"
   ]
  },
  {
   "cell_type": "code",
   "execution_count": 275,
   "metadata": {},
   "outputs": [],
   "source": [
    "from pandas import ExcelWriter"
   ]
  },
  {
   "cell_type": "code",
   "execution_count": 279,
   "metadata": {},
   "outputs": [],
   "source": [
    "f=pd.DataFrame(e)"
   ]
  },
  {
   "cell_type": "code",
   "execution_count": 280,
   "metadata": {},
   "outputs": [],
   "source": [
    "writer=ExcelWriter(\"F:Data Science/datasets/hypo.xlsx\")"
   ]
  },
  {
   "cell_type": "code",
   "execution_count": 281,
   "metadata": {},
   "outputs": [],
   "source": [
    "e.to_excel(writer,'sheet1')\n",
    "writer.save()"
   ]
  },
  {
   "cell_type": "code",
   "execution_count": null,
   "metadata": {},
   "outputs": [],
   "source": []
  },
  {
   "cell_type": "code",
   "execution_count": null,
   "metadata": {},
   "outputs": [],
   "source": []
  },
  {
   "cell_type": "code",
   "execution_count": null,
   "metadata": {},
   "outputs": [],
   "source": []
  }
 ],
 "metadata": {
  "kernelspec": {
   "display_name": "Python 3",
   "language": "python",
   "name": "python3"
  },
  "language_info": {
   "codemirror_mode": {
    "name": "ipython",
    "version": 3
   },
   "file_extension": ".py",
   "mimetype": "text/x-python",
   "name": "python",
   "nbconvert_exporter": "python",
   "pygments_lexer": "ipython3",
   "version": "3.6.5"
  }
 },
 "nbformat": 4,
 "nbformat_minor": 2
}
