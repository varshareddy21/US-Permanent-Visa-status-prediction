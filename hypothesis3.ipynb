{
 "cells": [
  {
   "cell_type": "markdown",
   "metadata": {},
   "source": [
    "Hypothesis 3\n",
    "after preprocessing we got the dataframe shape as (36654, 8) the indsependent variable we used are cols=['case_status','foreign_worker_info_alt_edu_experience',\n",
    "'country_of_citizen', 'foreign_worker_info_education',\n",
    "'foreign_worker_info_req_experience',\n",
    "'job_info_alt_combo_ed_exp', 'job_info_experience',\n",
    "'job_info_experience_num_months']"
   ]
  },
  {
   "cell_type": "markdown",
   "metadata": {},
   "source": [
    "we applied logisticregression for this modeland achieved the accuracy of 90.4"
   ]
  },
  {
   "cell_type": "code",
   "execution_count": 1,
   "metadata": {},
   "outputs": [],
   "source": [
    "import pandas as pd"
   ]
  },
  {
   "cell_type": "code",
   "execution_count": null,
   "metadata": {},
   "outputs": [],
   "source": []
  },
  {
   "cell_type": "code",
   "execution_count": null,
   "metadata": {},
   "outputs": [],
   "source": []
  },
  {
   "cell_type": "code",
   "execution_count": 3,
   "metadata": {},
   "outputs": [],
   "source": [
    "df=pd.read_excel(\"C://Users//Chintu//Downloads//finaldata.xlsx\")"
   ]
  },
  {
   "cell_type": "code",
   "execution_count": 4,
   "metadata": {},
   "outputs": [
    {
     "data": {
      "text/plain": [
       "Index(['application_type', 'case_received_date', 'case_status',\n",
       "       'class_of_admission', 'country_of_citizen', 'decision_date',\n",
       "       'employer_country', 'employer_num_employees', 'employer_state',\n",
       "       'foreign_worker_info_alt_edu_experience', 'foreign_worker_info_city',\n",
       "       'foreign_worker_info_education', 'foreign_worker_info_major',\n",
       "       'foreign_worker_info_req_experience', 'job_info_alt_combo_ed',\n",
       "       'job_info_alt_combo_ed_exp', 'job_info_education',\n",
       "       'job_info_education_other', 'job_info_experience',\n",
       "       'job_info_experience_num_months', 'job_info_foreign_ed',\n",
       "       'job_info_work_state', 'pw_level_9089', 'wage_offer_from_9089',\n",
       "       'wage_offer_to_9089', 'wage_offer_unit_of_pay_9089',\n",
       "       'wage_offered_from_9089', 'wage_offered_to_9089',\n",
       "       'foreign_worker_info_rel_occup_exps',\n",
       "       'foreign_worker_info_alt_edu_experiences'],\n",
       "      dtype='object')"
      ]
     },
     "execution_count": 4,
     "metadata": {},
     "output_type": "execute_result"
    }
   ],
   "source": [
    "df.columns"
   ]
  },
  {
   "cell_type": "code",
   "execution_count": 12,
   "metadata": {},
   "outputs": [],
   "source": [
    "cols=['case_status','foreign_worker_info_alt_edu_experience',\n",
    "'country_of_citizen', 'foreign_worker_info_education',\n",
    "'foreign_worker_info_req_experience',\n",
    "'job_info_alt_combo_ed_exp', 'job_info_experience',\n",
    "'job_info_experience_num_months']"
   ]
  },
  {
   "cell_type": "code",
   "execution_count": 13,
   "metadata": {},
   "outputs": [],
   "source": [
    "dd=df[cols]"
   ]
  },
  {
   "cell_type": "code",
   "execution_count": 16,
   "metadata": {},
   "outputs": [
    {
     "data": {
      "text/html": [
       "<div>\n",
       "<style scoped>\n",
       "    .dataframe tbody tr th:only-of-type {\n",
       "        vertical-align: middle;\n",
       "    }\n",
       "\n",
       "    .dataframe tbody tr th {\n",
       "        vertical-align: top;\n",
       "    }\n",
       "\n",
       "    .dataframe thead th {\n",
       "        text-align: right;\n",
       "    }\n",
       "</style>\n",
       "<table border=\"1\" class=\"dataframe\">\n",
       "  <thead>\n",
       "    <tr style=\"text-align: right;\">\n",
       "      <th></th>\n",
       "      <th>case_status</th>\n",
       "      <th>foreign_worker_info_alt_edu_experience</th>\n",
       "      <th>country_of_citizen</th>\n",
       "      <th>foreign_worker_info_education</th>\n",
       "      <th>foreign_worker_info_req_experience</th>\n",
       "      <th>job_info_alt_combo_ed_exp</th>\n",
       "      <th>job_info_experience</th>\n",
       "      <th>job_info_experience_num_months</th>\n",
       "    </tr>\n",
       "  </thead>\n",
       "  <tbody>\n",
       "    <tr>\n",
       "      <th>135269</th>\n",
       "      <td>Certified</td>\n",
       "      <td>A</td>\n",
       "      <td>INDIA</td>\n",
       "      <td>Bachelor's</td>\n",
       "      <td>A</td>\n",
       "      <td>N</td>\n",
       "      <td>N</td>\n",
       "      <td>34</td>\n",
       "    </tr>\n",
       "    <tr>\n",
       "      <th>135271</th>\n",
       "      <td>Denied</td>\n",
       "      <td>A</td>\n",
       "      <td>GERMANY</td>\n",
       "      <td>Doctorate</td>\n",
       "      <td>Y</td>\n",
       "      <td>N</td>\n",
       "      <td>Y</td>\n",
       "      <td>36</td>\n",
       "    </tr>\n",
       "    <tr>\n",
       "      <th>135272</th>\n",
       "      <td>Certified</td>\n",
       "      <td>A</td>\n",
       "      <td>SOUTH KOREA</td>\n",
       "      <td>Master's</td>\n",
       "      <td>A</td>\n",
       "      <td>N</td>\n",
       "      <td>N</td>\n",
       "      <td>34</td>\n",
       "    </tr>\n",
       "    <tr>\n",
       "      <th>135281</th>\n",
       "      <td>Certified</td>\n",
       "      <td>A</td>\n",
       "      <td>BRAZIL</td>\n",
       "      <td>Bachelor's</td>\n",
       "      <td>A</td>\n",
       "      <td>N</td>\n",
       "      <td>N</td>\n",
       "      <td>34</td>\n",
       "    </tr>\n",
       "    <tr>\n",
       "      <th>135285</th>\n",
       "      <td>Certified</td>\n",
       "      <td>A</td>\n",
       "      <td>BELARUS</td>\n",
       "      <td>Master's</td>\n",
       "      <td>A</td>\n",
       "      <td>N</td>\n",
       "      <td>N</td>\n",
       "      <td>34</td>\n",
       "    </tr>\n",
       "  </tbody>\n",
       "</table>\n",
       "</div>"
      ],
      "text/plain": [
       "       case_status foreign_worker_info_alt_edu_experience country_of_citizen  \\\n",
       "135269   Certified                                      A              INDIA   \n",
       "135271      Denied                                      A            GERMANY   \n",
       "135272   Certified                                      A        SOUTH KOREA   \n",
       "135281   Certified                                      A             BRAZIL   \n",
       "135285   Certified                                      A            BELARUS   \n",
       "\n",
       "       foreign_worker_info_education foreign_worker_info_req_experience  \\\n",
       "135269                    Bachelor's                                  A   \n",
       "135271                     Doctorate                                  Y   \n",
       "135272                      Master's                                  A   \n",
       "135281                    Bachelor's                                  A   \n",
       "135285                      Master's                                  A   \n",
       "\n",
       "       job_info_alt_combo_ed_exp job_info_experience  \\\n",
       "135269                         N                   N   \n",
       "135271                         N                   Y   \n",
       "135272                         N                   N   \n",
       "135281                         N                   N   \n",
       "135285                         N                   N   \n",
       "\n",
       "        job_info_experience_num_months  \n",
       "135269                              34  \n",
       "135271                              36  \n",
       "135272                              34  \n",
       "135281                              34  \n",
       "135285                              34  "
      ]
     },
     "execution_count": 16,
     "metadata": {},
     "output_type": "execute_result"
    }
   ],
   "source": [
    "dd.head()"
   ]
  },
  {
   "cell_type": "code",
   "execution_count": 88,
   "metadata": {},
   "outputs": [
    {
     "data": {
      "text/plain": [
       "(36654, 8)"
      ]
     },
     "execution_count": 88,
     "metadata": {},
     "output_type": "execute_result"
    }
   ],
   "source": [
    "dd.shape"
   ]
  },
  {
   "cell_type": "code",
   "execution_count": 14,
   "metadata": {},
   "outputs": [
    {
     "name": "stderr",
     "output_type": "stream",
     "text": [
      "C:\\Users\\Chintu\\Anaconda3\\lib\\site-packages\\ipykernel_launcher.py:1: SettingWithCopyWarning: \n",
      "A value is trying to be set on a copy of a slice from a DataFrame\n",
      "\n",
      "See the caveats in the documentation: http://pandas.pydata.org/pandas-docs/stable/indexing.html#indexing-view-versus-copy\n",
      "  \"\"\"Entry point for launching an IPython kernel.\n"
     ]
    }
   ],
   "source": [
    "dd.dropna(subset=['foreign_worker_info_req_experience'],how='any',inplace=True)"
   ]
  },
  {
   "cell_type": "code",
   "execution_count": 17,
   "metadata": {},
   "outputs": [],
   "source": [
    "dummies=pd.get_dummies(dd,columns=['foreign_worker_info_alt_edu_experience','country_of_citizen','foreign_worker_info_education','foreign_worker_info_req_experience'])"
   ]
  },
  {
   "cell_type": "code",
   "execution_count": 18,
   "metadata": {},
   "outputs": [
    {
     "data": {
      "text/html": [
       "<div>\n",
       "<style scoped>\n",
       "    .dataframe tbody tr th:only-of-type {\n",
       "        vertical-align: middle;\n",
       "    }\n",
       "\n",
       "    .dataframe tbody tr th {\n",
       "        vertical-align: top;\n",
       "    }\n",
       "\n",
       "    .dataframe thead th {\n",
       "        text-align: right;\n",
       "    }\n",
       "</style>\n",
       "<table border=\"1\" class=\"dataframe\">\n",
       "  <thead>\n",
       "    <tr style=\"text-align: right;\">\n",
       "      <th></th>\n",
       "      <th>case_status</th>\n",
       "      <th>job_info_alt_combo_ed_exp</th>\n",
       "      <th>job_info_experience</th>\n",
       "      <th>job_info_experience_num_months</th>\n",
       "      <th>foreign_worker_info_alt_edu_experience_A</th>\n",
       "      <th>foreign_worker_info_alt_edu_experience_N</th>\n",
       "      <th>foreign_worker_info_alt_edu_experience_Y</th>\n",
       "      <th>country_of_citizen_AFGHANISTAN</th>\n",
       "      <th>country_of_citizen_ALBANIA</th>\n",
       "      <th>country_of_citizen_ALGERIA</th>\n",
       "      <th>...</th>\n",
       "      <th>foreign_worker_info_education_Associate's</th>\n",
       "      <th>foreign_worker_info_education_Bachelor's</th>\n",
       "      <th>foreign_worker_info_education_Doctorate</th>\n",
       "      <th>foreign_worker_info_education_High School</th>\n",
       "      <th>foreign_worker_info_education_Master's</th>\n",
       "      <th>foreign_worker_info_education_None</th>\n",
       "      <th>foreign_worker_info_education_Other</th>\n",
       "      <th>foreign_worker_info_req_experience_A</th>\n",
       "      <th>foreign_worker_info_req_experience_N</th>\n",
       "      <th>foreign_worker_info_req_experience_Y</th>\n",
       "    </tr>\n",
       "  </thead>\n",
       "  <tbody>\n",
       "    <tr>\n",
       "      <th>135269</th>\n",
       "      <td>Certified</td>\n",
       "      <td>N</td>\n",
       "      <td>N</td>\n",
       "      <td>34</td>\n",
       "      <td>1</td>\n",
       "      <td>0</td>\n",
       "      <td>0</td>\n",
       "      <td>0</td>\n",
       "      <td>0</td>\n",
       "      <td>0</td>\n",
       "      <td>...</td>\n",
       "      <td>0</td>\n",
       "      <td>1</td>\n",
       "      <td>0</td>\n",
       "      <td>0</td>\n",
       "      <td>0</td>\n",
       "      <td>0</td>\n",
       "      <td>0</td>\n",
       "      <td>1</td>\n",
       "      <td>0</td>\n",
       "      <td>0</td>\n",
       "    </tr>\n",
       "    <tr>\n",
       "      <th>135271</th>\n",
       "      <td>Denied</td>\n",
       "      <td>N</td>\n",
       "      <td>Y</td>\n",
       "      <td>36</td>\n",
       "      <td>1</td>\n",
       "      <td>0</td>\n",
       "      <td>0</td>\n",
       "      <td>0</td>\n",
       "      <td>0</td>\n",
       "      <td>0</td>\n",
       "      <td>...</td>\n",
       "      <td>0</td>\n",
       "      <td>0</td>\n",
       "      <td>1</td>\n",
       "      <td>0</td>\n",
       "      <td>0</td>\n",
       "      <td>0</td>\n",
       "      <td>0</td>\n",
       "      <td>0</td>\n",
       "      <td>0</td>\n",
       "      <td>1</td>\n",
       "    </tr>\n",
       "    <tr>\n",
       "      <th>135272</th>\n",
       "      <td>Certified</td>\n",
       "      <td>N</td>\n",
       "      <td>N</td>\n",
       "      <td>34</td>\n",
       "      <td>1</td>\n",
       "      <td>0</td>\n",
       "      <td>0</td>\n",
       "      <td>0</td>\n",
       "      <td>0</td>\n",
       "      <td>0</td>\n",
       "      <td>...</td>\n",
       "      <td>0</td>\n",
       "      <td>0</td>\n",
       "      <td>0</td>\n",
       "      <td>0</td>\n",
       "      <td>1</td>\n",
       "      <td>0</td>\n",
       "      <td>0</td>\n",
       "      <td>1</td>\n",
       "      <td>0</td>\n",
       "      <td>0</td>\n",
       "    </tr>\n",
       "    <tr>\n",
       "      <th>135281</th>\n",
       "      <td>Certified</td>\n",
       "      <td>N</td>\n",
       "      <td>N</td>\n",
       "      <td>34</td>\n",
       "      <td>1</td>\n",
       "      <td>0</td>\n",
       "      <td>0</td>\n",
       "      <td>0</td>\n",
       "      <td>0</td>\n",
       "      <td>0</td>\n",
       "      <td>...</td>\n",
       "      <td>0</td>\n",
       "      <td>1</td>\n",
       "      <td>0</td>\n",
       "      <td>0</td>\n",
       "      <td>0</td>\n",
       "      <td>0</td>\n",
       "      <td>0</td>\n",
       "      <td>1</td>\n",
       "      <td>0</td>\n",
       "      <td>0</td>\n",
       "    </tr>\n",
       "    <tr>\n",
       "      <th>135285</th>\n",
       "      <td>Certified</td>\n",
       "      <td>N</td>\n",
       "      <td>N</td>\n",
       "      <td>34</td>\n",
       "      <td>1</td>\n",
       "      <td>0</td>\n",
       "      <td>0</td>\n",
       "      <td>0</td>\n",
       "      <td>0</td>\n",
       "      <td>0</td>\n",
       "      <td>...</td>\n",
       "      <td>0</td>\n",
       "      <td>0</td>\n",
       "      <td>0</td>\n",
       "      <td>0</td>\n",
       "      <td>1</td>\n",
       "      <td>0</td>\n",
       "      <td>0</td>\n",
       "      <td>1</td>\n",
       "      <td>0</td>\n",
       "      <td>0</td>\n",
       "    </tr>\n",
       "  </tbody>\n",
       "</table>\n",
       "<p>5 rows × 177 columns</p>\n",
       "</div>"
      ],
      "text/plain": [
       "       case_status job_info_alt_combo_ed_exp job_info_experience  \\\n",
       "135269   Certified                         N                   N   \n",
       "135271      Denied                         N                   Y   \n",
       "135272   Certified                         N                   N   \n",
       "135281   Certified                         N                   N   \n",
       "135285   Certified                         N                   N   \n",
       "\n",
       "        job_info_experience_num_months  \\\n",
       "135269                              34   \n",
       "135271                              36   \n",
       "135272                              34   \n",
       "135281                              34   \n",
       "135285                              34   \n",
       "\n",
       "        foreign_worker_info_alt_edu_experience_A  \\\n",
       "135269                                         1   \n",
       "135271                                         1   \n",
       "135272                                         1   \n",
       "135281                                         1   \n",
       "135285                                         1   \n",
       "\n",
       "        foreign_worker_info_alt_edu_experience_N  \\\n",
       "135269                                         0   \n",
       "135271                                         0   \n",
       "135272                                         0   \n",
       "135281                                         0   \n",
       "135285                                         0   \n",
       "\n",
       "        foreign_worker_info_alt_edu_experience_Y  \\\n",
       "135269                                         0   \n",
       "135271                                         0   \n",
       "135272                                         0   \n",
       "135281                                         0   \n",
       "135285                                         0   \n",
       "\n",
       "        country_of_citizen_AFGHANISTAN  country_of_citizen_ALBANIA  \\\n",
       "135269                               0                           0   \n",
       "135271                               0                           0   \n",
       "135272                               0                           0   \n",
       "135281                               0                           0   \n",
       "135285                               0                           0   \n",
       "\n",
       "        country_of_citizen_ALGERIA                  ...                   \\\n",
       "135269                           0                  ...                    \n",
       "135271                           0                  ...                    \n",
       "135272                           0                  ...                    \n",
       "135281                           0                  ...                    \n",
       "135285                           0                  ...                    \n",
       "\n",
       "        foreign_worker_info_education_Associate's  \\\n",
       "135269                                          0   \n",
       "135271                                          0   \n",
       "135272                                          0   \n",
       "135281                                          0   \n",
       "135285                                          0   \n",
       "\n",
       "        foreign_worker_info_education_Bachelor's  \\\n",
       "135269                                         1   \n",
       "135271                                         0   \n",
       "135272                                         0   \n",
       "135281                                         1   \n",
       "135285                                         0   \n",
       "\n",
       "        foreign_worker_info_education_Doctorate  \\\n",
       "135269                                        0   \n",
       "135271                                        1   \n",
       "135272                                        0   \n",
       "135281                                        0   \n",
       "135285                                        0   \n",
       "\n",
       "        foreign_worker_info_education_High School  \\\n",
       "135269                                          0   \n",
       "135271                                          0   \n",
       "135272                                          0   \n",
       "135281                                          0   \n",
       "135285                                          0   \n",
       "\n",
       "        foreign_worker_info_education_Master's  \\\n",
       "135269                                       0   \n",
       "135271                                       0   \n",
       "135272                                       1   \n",
       "135281                                       0   \n",
       "135285                                       1   \n",
       "\n",
       "        foreign_worker_info_education_None  \\\n",
       "135269                                   0   \n",
       "135271                                   0   \n",
       "135272                                   0   \n",
       "135281                                   0   \n",
       "135285                                   0   \n",
       "\n",
       "        foreign_worker_info_education_Other  \\\n",
       "135269                                    0   \n",
       "135271                                    0   \n",
       "135272                                    0   \n",
       "135281                                    0   \n",
       "135285                                    0   \n",
       "\n",
       "        foreign_worker_info_req_experience_A  \\\n",
       "135269                                     1   \n",
       "135271                                     0   \n",
       "135272                                     1   \n",
       "135281                                     1   \n",
       "135285                                     1   \n",
       "\n",
       "        foreign_worker_info_req_experience_N  \\\n",
       "135269                                     0   \n",
       "135271                                     0   \n",
       "135272                                     0   \n",
       "135281                                     0   \n",
       "135285                                     0   \n",
       "\n",
       "        foreign_worker_info_req_experience_Y  \n",
       "135269                                     0  \n",
       "135271                                     1  \n",
       "135272                                     0  \n",
       "135281                                     0  \n",
       "135285                                     0  \n",
       "\n",
       "[5 rows x 177 columns]"
      ]
     },
     "execution_count": 18,
     "metadata": {},
     "output_type": "execute_result"
    }
   ],
   "source": [
    "dummies.head()"
   ]
  },
  {
   "cell_type": "code",
   "execution_count": 19,
   "metadata": {},
   "outputs": [
    {
     "data": {
      "text/plain": [
       "Index(['case_status', 'job_info_alt_combo_ed_exp', 'job_info_experience',\n",
       "       'job_info_experience_num_months',\n",
       "       'foreign_worker_info_alt_edu_experience_A',\n",
       "       'foreign_worker_info_alt_edu_experience_N',\n",
       "       'foreign_worker_info_alt_edu_experience_Y',\n",
       "       'country_of_citizen_AFGHANISTAN', 'country_of_citizen_ALBANIA',\n",
       "       'country_of_citizen_ALGERIA',\n",
       "       ...\n",
       "       'foreign_worker_info_education_Associate's',\n",
       "       'foreign_worker_info_education_Bachelor's',\n",
       "       'foreign_worker_info_education_Doctorate',\n",
       "       'foreign_worker_info_education_High School',\n",
       "       'foreign_worker_info_education_Master's',\n",
       "       'foreign_worker_info_education_None',\n",
       "       'foreign_worker_info_education_Other',\n",
       "       'foreign_worker_info_req_experience_A',\n",
       "       'foreign_worker_info_req_experience_N',\n",
       "       'foreign_worker_info_req_experience_Y'],\n",
       "      dtype='object', length=177)"
      ]
     },
     "execution_count": 19,
     "metadata": {},
     "output_type": "execute_result"
    }
   ],
   "source": [
    "dummies.columns"
   ]
  },
  {
   "cell_type": "code",
   "execution_count": 22,
   "metadata": {},
   "outputs": [],
   "source": [
    "dummies.drop(['foreign_worker_info_req_experience_A','case_status', 'job_info_alt_combo_ed_exp', 'job_info_experience',\n",
    "       'job_info_experience_num_months','foreign_worker_info_alt_edu_experience_A','foreign_worker_info_education_Doctorate','country_of_citizen_ALGERIA'],axis=1,inplace=True)"
   ]
  },
  {
   "cell_type": "code",
   "execution_count": 23,
   "metadata": {},
   "outputs": [],
   "source": [
    "e=pd.concat([dd,dummies],axis=1)"
   ]
  },
  {
   "cell_type": "code",
   "execution_count": 24,
   "metadata": {},
   "outputs": [
    {
     "data": {
      "text/html": [
       "<div>\n",
       "<style scoped>\n",
       "    .dataframe tbody tr th:only-of-type {\n",
       "        vertical-align: middle;\n",
       "    }\n",
       "\n",
       "    .dataframe tbody tr th {\n",
       "        vertical-align: top;\n",
       "    }\n",
       "\n",
       "    .dataframe thead th {\n",
       "        text-align: right;\n",
       "    }\n",
       "</style>\n",
       "<table border=\"1\" class=\"dataframe\">\n",
       "  <thead>\n",
       "    <tr style=\"text-align: right;\">\n",
       "      <th></th>\n",
       "      <th>case_status</th>\n",
       "      <th>foreign_worker_info_alt_edu_experience</th>\n",
       "      <th>country_of_citizen</th>\n",
       "      <th>foreign_worker_info_education</th>\n",
       "      <th>foreign_worker_info_req_experience</th>\n",
       "      <th>job_info_alt_combo_ed_exp</th>\n",
       "      <th>job_info_experience</th>\n",
       "      <th>job_info_experience_num_months</th>\n",
       "      <th>foreign_worker_info_alt_edu_experience_N</th>\n",
       "      <th>foreign_worker_info_alt_edu_experience_Y</th>\n",
       "      <th>...</th>\n",
       "      <th>country_of_citizen_ZAMBIA</th>\n",
       "      <th>country_of_citizen_ZIMBABWE</th>\n",
       "      <th>foreign_worker_info_education_Associate's</th>\n",
       "      <th>foreign_worker_info_education_Bachelor's</th>\n",
       "      <th>foreign_worker_info_education_High School</th>\n",
       "      <th>foreign_worker_info_education_Master's</th>\n",
       "      <th>foreign_worker_info_education_None</th>\n",
       "      <th>foreign_worker_info_education_Other</th>\n",
       "      <th>foreign_worker_info_req_experience_N</th>\n",
       "      <th>foreign_worker_info_req_experience_Y</th>\n",
       "    </tr>\n",
       "  </thead>\n",
       "  <tbody>\n",
       "    <tr>\n",
       "      <th>135269</th>\n",
       "      <td>Certified</td>\n",
       "      <td>A</td>\n",
       "      <td>INDIA</td>\n",
       "      <td>Bachelor's</td>\n",
       "      <td>A</td>\n",
       "      <td>N</td>\n",
       "      <td>N</td>\n",
       "      <td>34</td>\n",
       "      <td>0</td>\n",
       "      <td>0</td>\n",
       "      <td>...</td>\n",
       "      <td>0</td>\n",
       "      <td>0</td>\n",
       "      <td>0</td>\n",
       "      <td>1</td>\n",
       "      <td>0</td>\n",
       "      <td>0</td>\n",
       "      <td>0</td>\n",
       "      <td>0</td>\n",
       "      <td>0</td>\n",
       "      <td>0</td>\n",
       "    </tr>\n",
       "    <tr>\n",
       "      <th>135271</th>\n",
       "      <td>Denied</td>\n",
       "      <td>A</td>\n",
       "      <td>GERMANY</td>\n",
       "      <td>Doctorate</td>\n",
       "      <td>Y</td>\n",
       "      <td>N</td>\n",
       "      <td>Y</td>\n",
       "      <td>36</td>\n",
       "      <td>0</td>\n",
       "      <td>0</td>\n",
       "      <td>...</td>\n",
       "      <td>0</td>\n",
       "      <td>0</td>\n",
       "      <td>0</td>\n",
       "      <td>0</td>\n",
       "      <td>0</td>\n",
       "      <td>0</td>\n",
       "      <td>0</td>\n",
       "      <td>0</td>\n",
       "      <td>0</td>\n",
       "      <td>1</td>\n",
       "    </tr>\n",
       "    <tr>\n",
       "      <th>135272</th>\n",
       "      <td>Certified</td>\n",
       "      <td>A</td>\n",
       "      <td>SOUTH KOREA</td>\n",
       "      <td>Master's</td>\n",
       "      <td>A</td>\n",
       "      <td>N</td>\n",
       "      <td>N</td>\n",
       "      <td>34</td>\n",
       "      <td>0</td>\n",
       "      <td>0</td>\n",
       "      <td>...</td>\n",
       "      <td>0</td>\n",
       "      <td>0</td>\n",
       "      <td>0</td>\n",
       "      <td>0</td>\n",
       "      <td>0</td>\n",
       "      <td>1</td>\n",
       "      <td>0</td>\n",
       "      <td>0</td>\n",
       "      <td>0</td>\n",
       "      <td>0</td>\n",
       "    </tr>\n",
       "    <tr>\n",
       "      <th>135281</th>\n",
       "      <td>Certified</td>\n",
       "      <td>A</td>\n",
       "      <td>BRAZIL</td>\n",
       "      <td>Bachelor's</td>\n",
       "      <td>A</td>\n",
       "      <td>N</td>\n",
       "      <td>N</td>\n",
       "      <td>34</td>\n",
       "      <td>0</td>\n",
       "      <td>0</td>\n",
       "      <td>...</td>\n",
       "      <td>0</td>\n",
       "      <td>0</td>\n",
       "      <td>0</td>\n",
       "      <td>1</td>\n",
       "      <td>0</td>\n",
       "      <td>0</td>\n",
       "      <td>0</td>\n",
       "      <td>0</td>\n",
       "      <td>0</td>\n",
       "      <td>0</td>\n",
       "    </tr>\n",
       "    <tr>\n",
       "      <th>135285</th>\n",
       "      <td>Certified</td>\n",
       "      <td>A</td>\n",
       "      <td>BELARUS</td>\n",
       "      <td>Master's</td>\n",
       "      <td>A</td>\n",
       "      <td>N</td>\n",
       "      <td>N</td>\n",
       "      <td>34</td>\n",
       "      <td>0</td>\n",
       "      <td>0</td>\n",
       "      <td>...</td>\n",
       "      <td>0</td>\n",
       "      <td>0</td>\n",
       "      <td>0</td>\n",
       "      <td>0</td>\n",
       "      <td>0</td>\n",
       "      <td>1</td>\n",
       "      <td>0</td>\n",
       "      <td>0</td>\n",
       "      <td>0</td>\n",
       "      <td>0</td>\n",
       "    </tr>\n",
       "  </tbody>\n",
       "</table>\n",
       "<p>5 rows × 177 columns</p>\n",
       "</div>"
      ],
      "text/plain": [
       "       case_status foreign_worker_info_alt_edu_experience country_of_citizen  \\\n",
       "135269   Certified                                      A              INDIA   \n",
       "135271      Denied                                      A            GERMANY   \n",
       "135272   Certified                                      A        SOUTH KOREA   \n",
       "135281   Certified                                      A             BRAZIL   \n",
       "135285   Certified                                      A            BELARUS   \n",
       "\n",
       "       foreign_worker_info_education foreign_worker_info_req_experience  \\\n",
       "135269                    Bachelor's                                  A   \n",
       "135271                     Doctorate                                  Y   \n",
       "135272                      Master's                                  A   \n",
       "135281                    Bachelor's                                  A   \n",
       "135285                      Master's                                  A   \n",
       "\n",
       "       job_info_alt_combo_ed_exp job_info_experience  \\\n",
       "135269                         N                   N   \n",
       "135271                         N                   Y   \n",
       "135272                         N                   N   \n",
       "135281                         N                   N   \n",
       "135285                         N                   N   \n",
       "\n",
       "        job_info_experience_num_months  \\\n",
       "135269                              34   \n",
       "135271                              36   \n",
       "135272                              34   \n",
       "135281                              34   \n",
       "135285                              34   \n",
       "\n",
       "        foreign_worker_info_alt_edu_experience_N  \\\n",
       "135269                                         0   \n",
       "135271                                         0   \n",
       "135272                                         0   \n",
       "135281                                         0   \n",
       "135285                                         0   \n",
       "\n",
       "        foreign_worker_info_alt_edu_experience_Y  \\\n",
       "135269                                         0   \n",
       "135271                                         0   \n",
       "135272                                         0   \n",
       "135281                                         0   \n",
       "135285                                         0   \n",
       "\n",
       "                        ...                   country_of_citizen_ZAMBIA  \\\n",
       "135269                  ...                                           0   \n",
       "135271                  ...                                           0   \n",
       "135272                  ...                                           0   \n",
       "135281                  ...                                           0   \n",
       "135285                  ...                                           0   \n",
       "\n",
       "        country_of_citizen_ZIMBABWE  \\\n",
       "135269                            0   \n",
       "135271                            0   \n",
       "135272                            0   \n",
       "135281                            0   \n",
       "135285                            0   \n",
       "\n",
       "        foreign_worker_info_education_Associate's  \\\n",
       "135269                                          0   \n",
       "135271                                          0   \n",
       "135272                                          0   \n",
       "135281                                          0   \n",
       "135285                                          0   \n",
       "\n",
       "        foreign_worker_info_education_Bachelor's  \\\n",
       "135269                                         1   \n",
       "135271                                         0   \n",
       "135272                                         0   \n",
       "135281                                         1   \n",
       "135285                                         0   \n",
       "\n",
       "        foreign_worker_info_education_High School  \\\n",
       "135269                                          0   \n",
       "135271                                          0   \n",
       "135272                                          0   \n",
       "135281                                          0   \n",
       "135285                                          0   \n",
       "\n",
       "        foreign_worker_info_education_Master's  \\\n",
       "135269                                       0   \n",
       "135271                                       0   \n",
       "135272                                       1   \n",
       "135281                                       0   \n",
       "135285                                       1   \n",
       "\n",
       "        foreign_worker_info_education_None  \\\n",
       "135269                                   0   \n",
       "135271                                   0   \n",
       "135272                                   0   \n",
       "135281                                   0   \n",
       "135285                                   0   \n",
       "\n",
       "        foreign_worker_info_education_Other  \\\n",
       "135269                                    0   \n",
       "135271                                    0   \n",
       "135272                                    0   \n",
       "135281                                    0   \n",
       "135285                                    0   \n",
       "\n",
       "        foreign_worker_info_req_experience_N  \\\n",
       "135269                                     0   \n",
       "135271                                     0   \n",
       "135272                                     0   \n",
       "135281                                     0   \n",
       "135285                                     0   \n",
       "\n",
       "        foreign_worker_info_req_experience_Y  \n",
       "135269                                     0  \n",
       "135271                                     1  \n",
       "135272                                     0  \n",
       "135281                                     0  \n",
       "135285                                     0  \n",
       "\n",
       "[5 rows x 177 columns]"
      ]
     },
     "execution_count": 24,
     "metadata": {},
     "output_type": "execute_result"
    }
   ],
   "source": [
    "e.head()"
   ]
  },
  {
   "cell_type": "code",
   "execution_count": 25,
   "metadata": {},
   "outputs": [
    {
     "data": {
      "text/plain": [
       "Index(['case_status', 'foreign_worker_info_alt_edu_experience',\n",
       "       'country_of_citizen', 'foreign_worker_info_education',\n",
       "       'foreign_worker_info_req_experience', 'job_info_alt_combo_ed_exp',\n",
       "       'job_info_experience', 'job_info_experience_num_months',\n",
       "       'foreign_worker_info_alt_edu_experience_N',\n",
       "       'foreign_worker_info_alt_edu_experience_Y',\n",
       "       ...\n",
       "       'country_of_citizen_ZAMBIA', 'country_of_citizen_ZIMBABWE',\n",
       "       'foreign_worker_info_education_Associate's',\n",
       "       'foreign_worker_info_education_Bachelor's',\n",
       "       'foreign_worker_info_education_High School',\n",
       "       'foreign_worker_info_education_Master's',\n",
       "       'foreign_worker_info_education_None',\n",
       "       'foreign_worker_info_education_Other',\n",
       "       'foreign_worker_info_req_experience_N',\n",
       "       'foreign_worker_info_req_experience_Y'],\n",
       "      dtype='object', length=177)"
      ]
     },
     "execution_count": 25,
     "metadata": {},
     "output_type": "execute_result"
    }
   ],
   "source": [
    "e.columns"
   ]
  },
  {
   "cell_type": "code",
   "execution_count": 26,
   "metadata": {},
   "outputs": [],
   "source": [
    "e.drop(['foreign_worker_info_alt_edu_experience','country_of_citizen','foreign_worker_info_education','foreign_worker_info_req_experience'],axis=1,inplace=True)"
   ]
  },
  {
   "cell_type": "code",
   "execution_count": 27,
   "metadata": {},
   "outputs": [],
   "source": [
    "from sklearn.preprocessing import LabelEncoder"
   ]
  },
  {
   "cell_type": "code",
   "execution_count": 28,
   "metadata": {},
   "outputs": [],
   "source": [
    "le=LabelEncoder()"
   ]
  },
  {
   "cell_type": "code",
   "execution_count": 31,
   "metadata": {},
   "outputs": [],
   "source": [
    "e['job_info_experience']=le.fit_transform(e['job_info_experience'])"
   ]
  },
  {
   "cell_type": "code",
   "execution_count": 32,
   "metadata": {},
   "outputs": [
    {
     "data": {
      "text/html": [
       "<div>\n",
       "<style scoped>\n",
       "    .dataframe tbody tr th:only-of-type {\n",
       "        vertical-align: middle;\n",
       "    }\n",
       "\n",
       "    .dataframe tbody tr th {\n",
       "        vertical-align: top;\n",
       "    }\n",
       "\n",
       "    .dataframe thead th {\n",
       "        text-align: right;\n",
       "    }\n",
       "</style>\n",
       "<table border=\"1\" class=\"dataframe\">\n",
       "  <thead>\n",
       "    <tr style=\"text-align: right;\">\n",
       "      <th></th>\n",
       "      <th>case_status</th>\n",
       "      <th>job_info_alt_combo_ed_exp</th>\n",
       "      <th>job_info_experience</th>\n",
       "      <th>job_info_experience_num_months</th>\n",
       "      <th>foreign_worker_info_alt_edu_experience_N</th>\n",
       "      <th>foreign_worker_info_alt_edu_experience_Y</th>\n",
       "      <th>country_of_citizen_AFGHANISTAN</th>\n",
       "      <th>country_of_citizen_ALBANIA</th>\n",
       "      <th>country_of_citizen_ANGOLA</th>\n",
       "      <th>country_of_citizen_ANTIGUA AND BARBUDA</th>\n",
       "      <th>...</th>\n",
       "      <th>country_of_citizen_ZAMBIA</th>\n",
       "      <th>country_of_citizen_ZIMBABWE</th>\n",
       "      <th>foreign_worker_info_education_Associate's</th>\n",
       "      <th>foreign_worker_info_education_Bachelor's</th>\n",
       "      <th>foreign_worker_info_education_High School</th>\n",
       "      <th>foreign_worker_info_education_Master's</th>\n",
       "      <th>foreign_worker_info_education_None</th>\n",
       "      <th>foreign_worker_info_education_Other</th>\n",
       "      <th>foreign_worker_info_req_experience_N</th>\n",
       "      <th>foreign_worker_info_req_experience_Y</th>\n",
       "    </tr>\n",
       "  </thead>\n",
       "  <tbody>\n",
       "    <tr>\n",
       "      <th>135269</th>\n",
       "      <td>0</td>\n",
       "      <td>0</td>\n",
       "      <td>0</td>\n",
       "      <td>34</td>\n",
       "      <td>0</td>\n",
       "      <td>0</td>\n",
       "      <td>0</td>\n",
       "      <td>0</td>\n",
       "      <td>0</td>\n",
       "      <td>0</td>\n",
       "      <td>...</td>\n",
       "      <td>0</td>\n",
       "      <td>0</td>\n",
       "      <td>0</td>\n",
       "      <td>1</td>\n",
       "      <td>0</td>\n",
       "      <td>0</td>\n",
       "      <td>0</td>\n",
       "      <td>0</td>\n",
       "      <td>0</td>\n",
       "      <td>0</td>\n",
       "    </tr>\n",
       "    <tr>\n",
       "      <th>135271</th>\n",
       "      <td>1</td>\n",
       "      <td>0</td>\n",
       "      <td>1</td>\n",
       "      <td>36</td>\n",
       "      <td>0</td>\n",
       "      <td>0</td>\n",
       "      <td>0</td>\n",
       "      <td>0</td>\n",
       "      <td>0</td>\n",
       "      <td>0</td>\n",
       "      <td>...</td>\n",
       "      <td>0</td>\n",
       "      <td>0</td>\n",
       "      <td>0</td>\n",
       "      <td>0</td>\n",
       "      <td>0</td>\n",
       "      <td>0</td>\n",
       "      <td>0</td>\n",
       "      <td>0</td>\n",
       "      <td>0</td>\n",
       "      <td>1</td>\n",
       "    </tr>\n",
       "    <tr>\n",
       "      <th>135272</th>\n",
       "      <td>0</td>\n",
       "      <td>0</td>\n",
       "      <td>0</td>\n",
       "      <td>34</td>\n",
       "      <td>0</td>\n",
       "      <td>0</td>\n",
       "      <td>0</td>\n",
       "      <td>0</td>\n",
       "      <td>0</td>\n",
       "      <td>0</td>\n",
       "      <td>...</td>\n",
       "      <td>0</td>\n",
       "      <td>0</td>\n",
       "      <td>0</td>\n",
       "      <td>0</td>\n",
       "      <td>0</td>\n",
       "      <td>1</td>\n",
       "      <td>0</td>\n",
       "      <td>0</td>\n",
       "      <td>0</td>\n",
       "      <td>0</td>\n",
       "    </tr>\n",
       "    <tr>\n",
       "      <th>135281</th>\n",
       "      <td>0</td>\n",
       "      <td>0</td>\n",
       "      <td>0</td>\n",
       "      <td>34</td>\n",
       "      <td>0</td>\n",
       "      <td>0</td>\n",
       "      <td>0</td>\n",
       "      <td>0</td>\n",
       "      <td>0</td>\n",
       "      <td>0</td>\n",
       "      <td>...</td>\n",
       "      <td>0</td>\n",
       "      <td>0</td>\n",
       "      <td>0</td>\n",
       "      <td>1</td>\n",
       "      <td>0</td>\n",
       "      <td>0</td>\n",
       "      <td>0</td>\n",
       "      <td>0</td>\n",
       "      <td>0</td>\n",
       "      <td>0</td>\n",
       "    </tr>\n",
       "    <tr>\n",
       "      <th>135285</th>\n",
       "      <td>0</td>\n",
       "      <td>0</td>\n",
       "      <td>0</td>\n",
       "      <td>34</td>\n",
       "      <td>0</td>\n",
       "      <td>0</td>\n",
       "      <td>0</td>\n",
       "      <td>0</td>\n",
       "      <td>0</td>\n",
       "      <td>0</td>\n",
       "      <td>...</td>\n",
       "      <td>0</td>\n",
       "      <td>0</td>\n",
       "      <td>0</td>\n",
       "      <td>0</td>\n",
       "      <td>0</td>\n",
       "      <td>1</td>\n",
       "      <td>0</td>\n",
       "      <td>0</td>\n",
       "      <td>0</td>\n",
       "      <td>0</td>\n",
       "    </tr>\n",
       "  </tbody>\n",
       "</table>\n",
       "<p>5 rows × 173 columns</p>\n",
       "</div>"
      ],
      "text/plain": [
       "        case_status  job_info_alt_combo_ed_exp  job_info_experience  \\\n",
       "135269            0                          0                    0   \n",
       "135271            1                          0                    1   \n",
       "135272            0                          0                    0   \n",
       "135281            0                          0                    0   \n",
       "135285            0                          0                    0   \n",
       "\n",
       "        job_info_experience_num_months  \\\n",
       "135269                              34   \n",
       "135271                              36   \n",
       "135272                              34   \n",
       "135281                              34   \n",
       "135285                              34   \n",
       "\n",
       "        foreign_worker_info_alt_edu_experience_N  \\\n",
       "135269                                         0   \n",
       "135271                                         0   \n",
       "135272                                         0   \n",
       "135281                                         0   \n",
       "135285                                         0   \n",
       "\n",
       "        foreign_worker_info_alt_edu_experience_Y  \\\n",
       "135269                                         0   \n",
       "135271                                         0   \n",
       "135272                                         0   \n",
       "135281                                         0   \n",
       "135285                                         0   \n",
       "\n",
       "        country_of_citizen_AFGHANISTAN  country_of_citizen_ALBANIA  \\\n",
       "135269                               0                           0   \n",
       "135271                               0                           0   \n",
       "135272                               0                           0   \n",
       "135281                               0                           0   \n",
       "135285                               0                           0   \n",
       "\n",
       "        country_of_citizen_ANGOLA  country_of_citizen_ANTIGUA AND BARBUDA  \\\n",
       "135269                          0                                       0   \n",
       "135271                          0                                       0   \n",
       "135272                          0                                       0   \n",
       "135281                          0                                       0   \n",
       "135285                          0                                       0   \n",
       "\n",
       "                        ...                   country_of_citizen_ZAMBIA  \\\n",
       "135269                  ...                                           0   \n",
       "135271                  ...                                           0   \n",
       "135272                  ...                                           0   \n",
       "135281                  ...                                           0   \n",
       "135285                  ...                                           0   \n",
       "\n",
       "        country_of_citizen_ZIMBABWE  \\\n",
       "135269                            0   \n",
       "135271                            0   \n",
       "135272                            0   \n",
       "135281                            0   \n",
       "135285                            0   \n",
       "\n",
       "        foreign_worker_info_education_Associate's  \\\n",
       "135269                                          0   \n",
       "135271                                          0   \n",
       "135272                                          0   \n",
       "135281                                          0   \n",
       "135285                                          0   \n",
       "\n",
       "        foreign_worker_info_education_Bachelor's  \\\n",
       "135269                                         1   \n",
       "135271                                         0   \n",
       "135272                                         0   \n",
       "135281                                         1   \n",
       "135285                                         0   \n",
       "\n",
       "        foreign_worker_info_education_High School  \\\n",
       "135269                                          0   \n",
       "135271                                          0   \n",
       "135272                                          0   \n",
       "135281                                          0   \n",
       "135285                                          0   \n",
       "\n",
       "        foreign_worker_info_education_Master's  \\\n",
       "135269                                       0   \n",
       "135271                                       0   \n",
       "135272                                       1   \n",
       "135281                                       0   \n",
       "135285                                       1   \n",
       "\n",
       "        foreign_worker_info_education_None  \\\n",
       "135269                                   0   \n",
       "135271                                   0   \n",
       "135272                                   0   \n",
       "135281                                   0   \n",
       "135285                                   0   \n",
       "\n",
       "        foreign_worker_info_education_Other  \\\n",
       "135269                                    0   \n",
       "135271                                    0   \n",
       "135272                                    0   \n",
       "135281                                    0   \n",
       "135285                                    0   \n",
       "\n",
       "        foreign_worker_info_req_experience_N  \\\n",
       "135269                                     0   \n",
       "135271                                     0   \n",
       "135272                                     0   \n",
       "135281                                     0   \n",
       "135285                                     0   \n",
       "\n",
       "        foreign_worker_info_req_experience_Y  \n",
       "135269                                     0  \n",
       "135271                                     1  \n",
       "135272                                     0  \n",
       "135281                                     0  \n",
       "135285                                     0  \n",
       "\n",
       "[5 rows x 173 columns]"
      ]
     },
     "execution_count": 32,
     "metadata": {},
     "output_type": "execute_result"
    }
   ],
   "source": [
    "e.head()"
   ]
  },
  {
   "cell_type": "code",
   "execution_count": 33,
   "metadata": {},
   "outputs": [],
   "source": [
    "X=e.iloc[:,1:]"
   ]
  },
  {
   "cell_type": "code",
   "execution_count": 34,
   "metadata": {},
   "outputs": [],
   "source": [
    "y=e['case_status']"
   ]
  },
  {
   "cell_type": "code",
   "execution_count": 35,
   "metadata": {},
   "outputs": [],
   "source": [
    "from sklearn.model_selection import train_test_split\n",
    "X_train,X_test,y_train,y_test=train_test_split(X,y,test_size=0.2,random_state=0)"
   ]
  },
  {
   "cell_type": "code",
   "execution_count": 37,
   "metadata": {},
   "outputs": [],
   "source": [
    "from sklearn.decomposition import PCA"
   ]
  },
  {
   "cell_type": "code",
   "execution_count": 38,
   "metadata": {},
   "outputs": [],
   "source": [
    "pca=PCA(n_components=3)"
   ]
  },
  {
   "cell_type": "code",
   "execution_count": 39,
   "metadata": {},
   "outputs": [],
   "source": [
    "X_train=pca.fit_transform(X_train)\n",
    "X_test=pca.fit_transform(X_test)"
   ]
  },
  {
   "cell_type": "code",
   "execution_count": 40,
   "metadata": {},
   "outputs": [],
   "source": [
    "from sklearn.linear_model import LogisticRegression"
   ]
  },
  {
   "cell_type": "code",
   "execution_count": 41,
   "metadata": {},
   "outputs": [],
   "source": [
    "cls=LogisticRegression()"
   ]
  },
  {
   "cell_type": "code",
   "execution_count": 42,
   "metadata": {},
   "outputs": [
    {
     "data": {
      "text/plain": [
       "LogisticRegression(C=1.0, class_weight=None, dual=False, fit_intercept=True,\n",
       "          intercept_scaling=1, max_iter=100, multi_class='ovr', n_jobs=1,\n",
       "          penalty='l2', random_state=None, solver='liblinear', tol=0.0001,\n",
       "          verbose=0, warm_start=False)"
      ]
     },
     "execution_count": 42,
     "metadata": {},
     "output_type": "execute_result"
    }
   ],
   "source": [
    "cls.fit(X_train,y_train)"
   ]
  },
  {
   "cell_type": "code",
   "execution_count": 43,
   "metadata": {},
   "outputs": [
    {
     "data": {
      "text/plain": [
       "0.8987143198172083"
      ]
     },
     "execution_count": 43,
     "metadata": {},
     "output_type": "execute_result"
    }
   ],
   "source": [
    "cls.score(X_train,y_train)"
   ]
  },
  {
   "cell_type": "code",
   "execution_count": 44,
   "metadata": {},
   "outputs": [],
   "source": [
    "y_pred=cls.predict(X_test)"
   ]
  },
  {
   "cell_type": "code",
   "execution_count": 45,
   "metadata": {},
   "outputs": [],
   "source": [
    "from sklearn.metrics import confusion_matrix,accuracy_score"
   ]
  },
  {
   "cell_type": "code",
   "execution_count": 46,
   "metadata": {},
   "outputs": [],
   "source": [
    "cm=confusion_matrix(y_pred,y_test)"
   ]
  },
  {
   "cell_type": "code",
   "execution_count": 47,
   "metadata": {},
   "outputs": [
    {
     "data": {
      "text/plain": [
       "array([[6633,  698],\n",
       "       [   0,    0]], dtype=int64)"
      ]
     },
     "execution_count": 47,
     "metadata": {},
     "output_type": "execute_result"
    }
   ],
   "source": [
    "cm"
   ]
  },
  {
   "cell_type": "code",
   "execution_count": 48,
   "metadata": {},
   "outputs": [
    {
     "data": {
      "text/plain": [
       "0.904787887054972"
      ]
     },
     "execution_count": 48,
     "metadata": {},
     "output_type": "execute_result"
    }
   ],
   "source": [
    "accuracy_score(y_pred,y_test)"
   ]
  },
  {
   "cell_type": "code",
   "execution_count": 50,
   "metadata": {},
   "outputs": [],
   "source": [
    "from sklearn.svm import SVC"
   ]
  },
  {
   "cell_type": "code",
   "execution_count": 51,
   "metadata": {},
   "outputs": [],
   "source": [
    "sc=SVC(kernel='rbf')"
   ]
  },
  {
   "cell_type": "code",
   "execution_count": 52,
   "metadata": {},
   "outputs": [
    {
     "data": {
      "text/plain": [
       "SVC(C=1.0, cache_size=200, class_weight=None, coef0=0.0,\n",
       "  decision_function_shape='ovr', degree=3, gamma='auto', kernel='rbf',\n",
       "  max_iter=-1, probability=False, random_state=None, shrinking=True,\n",
       "  tol=0.001, verbose=False)"
      ]
     },
     "execution_count": 52,
     "metadata": {},
     "output_type": "execute_result"
    }
   ],
   "source": [
    "sc.fit(X_train,y_train)"
   ]
  },
  {
   "cell_type": "code",
   "execution_count": 53,
   "metadata": {},
   "outputs": [],
   "source": [
    "pred=sc.predict(X_test)"
   ]
  },
  {
   "cell_type": "code",
   "execution_count": 54,
   "metadata": {},
   "outputs": [],
   "source": [
    "cms=confusion_matrix(pred,y_test)"
   ]
  },
  {
   "cell_type": "code",
   "execution_count": 55,
   "metadata": {},
   "outputs": [
    {
     "data": {
      "text/plain": [
       "array([[6633,  698],\n",
       "       [   0,    0]], dtype=int64)"
      ]
     },
     "execution_count": 55,
     "metadata": {},
     "output_type": "execute_result"
    }
   ],
   "source": [
    "cms"
   ]
  },
  {
   "cell_type": "code",
   "execution_count": 56,
   "metadata": {},
   "outputs": [
    {
     "data": {
      "text/plain": [
       "0.904787887054972"
      ]
     },
     "execution_count": 56,
     "metadata": {},
     "output_type": "execute_result"
    }
   ],
   "source": [
    "accuracy_score(pred,y_test)"
   ]
  },
  {
   "cell_type": "code",
   "execution_count": 57,
   "metadata": {},
   "outputs": [],
   "source": [
    "from sklearn.ensemble import RandomForestClassifier"
   ]
  },
  {
   "cell_type": "code",
   "execution_count": 67,
   "metadata": {},
   "outputs": [],
   "source": [
    "rf=RandomForestClassifier(n_estimators=100)"
   ]
  },
  {
   "cell_type": "code",
   "execution_count": 64,
   "metadata": {},
   "outputs": [
    {
     "data": {
      "text/plain": [
       "RandomForestClassifier(bootstrap=True, class_weight=None, criterion='gini',\n",
       "            max_depth=None, max_features='auto', max_leaf_nodes=None,\n",
       "            min_impurity_decrease=0.0, min_impurity_split=None,\n",
       "            min_samples_leaf=1, min_samples_split=2,\n",
       "            min_weight_fraction_leaf=0.0, n_estimators=500, n_jobs=1,\n",
       "            oob_score=False, random_state=None, verbose=0,\n",
       "            warm_start=False)"
      ]
     },
     "execution_count": 64,
     "metadata": {},
     "output_type": "execute_result"
    }
   ],
   "source": [
    "rf.fit(X_train,y_train)"
   ]
  },
  {
   "cell_type": "code",
   "execution_count": 65,
   "metadata": {},
   "outputs": [],
   "source": [
    "prediction=rf.predict(X_test)"
   ]
  },
  {
   "cell_type": "code",
   "execution_count": 66,
   "metadata": {},
   "outputs": [
    {
     "data": {
      "text/plain": [
       "0.9024689673987177"
      ]
     },
     "execution_count": 66,
     "metadata": {},
     "output_type": "execute_result"
    }
   ],
   "source": [
    "accuracy_score(prediction,y_test)"
   ]
  },
  {
   "cell_type": "code",
   "execution_count": 68,
   "metadata": {},
   "outputs": [],
   "source": [
    "from sklearn.ensemble import AdaBoostClassifier"
   ]
  },
  {
   "cell_type": "code",
   "execution_count": 69,
   "metadata": {},
   "outputs": [],
   "source": [
    "adb=AdaBoostClassifier(base_estimator=None,n_estimators=200)"
   ]
  },
  {
   "cell_type": "code",
   "execution_count": 70,
   "metadata": {},
   "outputs": [
    {
     "data": {
      "text/plain": [
       "AdaBoostClassifier(algorithm='SAMME.R', base_estimator=None,\n",
       "          learning_rate=1.0, n_estimators=200, random_state=None)"
      ]
     },
     "execution_count": 70,
     "metadata": {},
     "output_type": "execute_result"
    }
   ],
   "source": [
    "adb.fit(X_train,y_train)"
   ]
  },
  {
   "cell_type": "code",
   "execution_count": 71,
   "metadata": {},
   "outputs": [],
   "source": [
    "pre=adb.predict(X_test)"
   ]
  },
  {
   "cell_type": "code",
   "execution_count": 72,
   "metadata": {},
   "outputs": [
    {
     "data": {
      "text/plain": [
       "0.904787887054972"
      ]
     },
     "execution_count": 72,
     "metadata": {},
     "output_type": "execute_result"
    }
   ],
   "source": [
    "accuracy_score(pre,y_test)"
   ]
  },
  {
   "cell_type": "code",
   "execution_count": 73,
   "metadata": {},
   "outputs": [],
   "source": [
    "from sklearn.ensemble import GradientBoostingClassifier"
   ]
  },
  {
   "cell_type": "code",
   "execution_count": 74,
   "metadata": {},
   "outputs": [],
   "source": [
    "gs=GradientBoostingClassifier(n_estimators=50)"
   ]
  },
  {
   "cell_type": "code",
   "execution_count": 75,
   "metadata": {},
   "outputs": [
    {
     "data": {
      "text/plain": [
       "GradientBoostingClassifier(criterion='friedman_mse', init=None,\n",
       "              learning_rate=0.1, loss='deviance', max_depth=3,\n",
       "              max_features=None, max_leaf_nodes=None,\n",
       "              min_impurity_decrease=0.0, min_impurity_split=None,\n",
       "              min_samples_leaf=1, min_samples_split=2,\n",
       "              min_weight_fraction_leaf=0.0, n_estimators=50,\n",
       "              presort='auto', random_state=None, subsample=1.0, verbose=0,\n",
       "              warm_start=False)"
      ]
     },
     "execution_count": 75,
     "metadata": {},
     "output_type": "execute_result"
    }
   ],
   "source": [
    "gs.fit(X_train,y_train)"
   ]
  },
  {
   "cell_type": "code",
   "execution_count": 76,
   "metadata": {},
   "outputs": [],
   "source": [
    "predd=gs.predict(X_test)"
   ]
  },
  {
   "cell_type": "code",
   "execution_count": 77,
   "metadata": {},
   "outputs": [
    {
     "data": {
      "text/plain": [
       "0.904787887054972"
      ]
     },
     "execution_count": 77,
     "metadata": {},
     "output_type": "execute_result"
    }
   ],
   "source": [
    "accuracy_score(y_test,predd)"
   ]
  },
  {
   "cell_type": "code",
   "execution_count": 82,
   "metadata": {},
   "outputs": [],
   "source": [
    "from sklearn.ensemble import VotingClassifier"
   ]
  },
  {
   "cell_type": "code",
   "execution_count": 79,
   "metadata": {},
   "outputs": [],
   "source": [
    "from sklearn.naive_bayes import GaussianNB"
   ]
  },
  {
   "cell_type": "code",
   "execution_count": 83,
   "metadata": {},
   "outputs": [],
   "source": [
    "vc=VotingClassifier(estimators=[('cls',LogisticRegression()),('rf',RandomForestClassifier()),('sc',SVC()),('gs',GradientBoostingClassifier()),('gnb',GaussianNB())],voting='hard')"
   ]
  },
  {
   "cell_type": "code",
   "execution_count": 84,
   "metadata": {},
   "outputs": [
    {
     "data": {
      "text/plain": [
       "VotingClassifier(estimators=[('cls', LogisticRegression(C=1.0, class_weight=None, dual=False, fit_intercept=True,\n",
       "          intercept_scaling=1, max_iter=100, multi_class='ovr', n_jobs=1,\n",
       "          penalty='l2', random_state=None, solver='liblinear', tol=0.0001,\n",
       "          verbose=0, warm_start=False)), ('rf', Random...=None, subsample=1.0, verbose=0,\n",
       "              warm_start=False)), ('gnb', GaussianNB(priors=None))],\n",
       "         flatten_transform=None, n_jobs=1, voting='hard', weights=None)"
      ]
     },
     "execution_count": 84,
     "metadata": {},
     "output_type": "execute_result"
    }
   ],
   "source": [
    "vc.fit(X_train,y_train)"
   ]
  },
  {
   "cell_type": "code",
   "execution_count": 85,
   "metadata": {},
   "outputs": [
    {
     "name": "stderr",
     "output_type": "stream",
     "text": [
      "C:\\Users\\Chintu\\Anaconda3\\lib\\site-packages\\sklearn\\preprocessing\\label.py:151: DeprecationWarning: The truth value of an empty array is ambiguous. Returning False, but in future this will result in an error. Use `array.size > 0` to check that an array is not empty.\n",
      "  if diff:\n"
     ]
    }
   ],
   "source": [
    "preed=vc.predict(X_test)"
   ]
  },
  {
   "cell_type": "code",
   "execution_count": 86,
   "metadata": {},
   "outputs": [
    {
     "data": {
      "text/plain": [
       "0.904787887054972"
      ]
     },
     "execution_count": 86,
     "metadata": {},
     "output_type": "execute_result"
    }
   ],
   "source": [
    "accuracy_score(preed,y_test)"
   ]
  },
  {
   "cell_type": "code",
   "execution_count": 87,
   "metadata": {},
   "outputs": [
    {
     "name": "stderr",
     "output_type": "stream",
     "text": [
      "C:\\Users\\Chintu\\Anaconda3\\lib\\site-packages\\sklearn\\preprocessing\\label.py:151: DeprecationWarning: The truth value of an empty array is ambiguous. Returning False, but in future this will result in an error. Use `array.size > 0` to check that an array is not empty.\n",
      "  if diff:\n"
     ]
    },
    {
     "data": {
      "text/plain": [
       "0.8987143198172083"
      ]
     },
     "execution_count": 87,
     "metadata": {},
     "output_type": "execute_result"
    }
   ],
   "source": [
    "vc.score(X_train,y_train)"
   ]
  },
  {
   "cell_type": "code",
   "execution_count": null,
   "metadata": {},
   "outputs": [],
   "source": []
  },
  {
   "cell_type": "code",
   "execution_count": null,
   "metadata": {},
   "outputs": [],
   "source": []
  },
  {
   "cell_type": "code",
   "execution_count": null,
   "metadata": {},
   "outputs": [],
   "source": []
  },
  {
   "cell_type": "code",
   "execution_count": null,
   "metadata": {},
   "outputs": [],
   "source": []
  },
  {
   "cell_type": "code",
   "execution_count": null,
   "metadata": {},
   "outputs": [],
   "source": []
  },
  {
   "cell_type": "code",
   "execution_count": null,
   "metadata": {},
   "outputs": [],
   "source": []
  }
 ],
 "metadata": {
  "kernelspec": {
   "display_name": "Python 3",
   "language": "python",
   "name": "python3"
  },
  "language_info": {
   "codemirror_mode": {
    "name": "ipython",
    "version": 3
   },
   "file_extension": ".py",
   "mimetype": "text/x-python",
   "name": "python",
   "nbconvert_exporter": "python",
   "pygments_lexer": "ipython3",
   "version": "3.6.5"
  }
 },
 "nbformat": 4,
 "nbformat_minor": 2
}
